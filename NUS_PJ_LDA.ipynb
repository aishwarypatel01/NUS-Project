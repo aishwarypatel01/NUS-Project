{
  "cells": [
    {
      "cell_type": "code",
      "source": [
        "!pip install pandas==1.5.3"
      ],
      "metadata": {
        "colab": {
          "base_uri": "https://localhost:8080/",
          "height": 457
        },
        "id": "qt8P-onReec1",
        "outputId": "24c32e91-6b1a-485a-f32e-418f31644623"
      },
      "execution_count": null,
      "outputs": [
        {
          "output_type": "stream",
          "name": "stderr",
          "text": [
            "/usr/local/lib/python3.10/dist-packages/ipykernel/ipkernel.py:283: DeprecationWarning: `should_run_async` will not call `transform_cell` automatically in the future. Please pass the result to `transformed_cell` argument and any exception that happen during thetransform in `preprocessing_exc_tuple` in IPython 7.17 and above.\n",
            "  and should_run_async(code)\n"
          ]
        },
        {
          "output_type": "stream",
          "name": "stdout",
          "text": [
            "Looking in indexes: https://pypi.org/simple, https://us-python.pkg.dev/colab-wheels/public/simple/\n",
            "Collecting pandas==1.5.3\n",
            "  Downloading pandas-1.5.3-cp310-cp310-manylinux_2_17_x86_64.manylinux2014_x86_64.whl (12.1 MB)\n",
            "\u001b[2K     \u001b[90m━━━━━━━━━━━━━━━━━━━━━━━━━━━━━━━━━━━━━━━━\u001b[0m \u001b[32m12.1/12.1 MB\u001b[0m \u001b[31m91.6 MB/s\u001b[0m eta \u001b[36m0:00:00\u001b[0m\n",
            "\u001b[?25hRequirement already satisfied: python-dateutil>=2.8.1 in /usr/local/lib/python3.10/dist-packages (from pandas==1.5.3) (2.8.2)\n",
            "Requirement already satisfied: pytz>=2020.1 in /usr/local/lib/python3.10/dist-packages (from pandas==1.5.3) (2022.7.1)\n",
            "Requirement already satisfied: numpy>=1.21.0 in /usr/local/lib/python3.10/dist-packages (from pandas==1.5.3) (1.24.3)\n",
            "Requirement already satisfied: six>=1.5 in /usr/local/lib/python3.10/dist-packages (from python-dateutil>=2.8.1->pandas==1.5.3) (1.16.0)\n",
            "Installing collected packages: pandas\n",
            "  Attempting uninstall: pandas\n",
            "    Found existing installation: pandas 2.0.2\n",
            "    Uninstalling pandas-2.0.2:\n",
            "      Successfully uninstalled pandas-2.0.2\n",
            "\u001b[31mERROR: pip's dependency resolver does not currently take into account all the packages that are installed. This behaviour is the source of the following dependency conflicts.\n",
            "pyldavis 3.4.1 requires pandas>=2.0.0, but you have pandas 1.5.3 which is incompatible.\u001b[0m\u001b[31m\n",
            "\u001b[0mSuccessfully installed pandas-1.5.3\n"
          ]
        },
        {
          "output_type": "display_data",
          "data": {
            "application/vnd.colab-display-data+json": {
              "pip_warning": {
                "packages": [
                  "pandas"
                ]
              }
            }
          },
          "metadata": {}
        }
      ]
    },
    {
      "cell_type": "code",
      "source": [
        "!pip install pyLDAvis"
      ],
      "metadata": {
        "colab": {
          "base_uri": "https://localhost:8080/",
          "height": 840
        },
        "id": "cQj8tbmLSyQV",
        "outputId": "5e445d12-6221-4121-9090-4dc3c94ad938"
      },
      "execution_count": null,
      "outputs": [
        {
          "output_type": "stream",
          "name": "stdout",
          "text": [
            "Looking in indexes: https://pypi.org/simple, https://us-python.pkg.dev/colab-wheels/public/simple/\n",
            "Collecting pyLDAvis\n",
            "  Downloading pyLDAvis-3.4.1-py3-none-any.whl (2.6 MB)\n",
            "\u001b[2K     \u001b[90m━━━━━━━━━━━━━━━━━━━━━━━━━━━━━━━━━━━━━━━━\u001b[0m \u001b[32m2.6/2.6 MB\u001b[0m \u001b[31m41.0 MB/s\u001b[0m eta \u001b[36m0:00:00\u001b[0m\n",
            "\u001b[?25hCollecting numpy>=1.24.2 (from pyLDAvis)\n",
            "  Downloading numpy-1.24.3-cp310-cp310-manylinux_2_17_x86_64.manylinux2014_x86_64.whl (17.3 MB)\n",
            "\u001b[2K     \u001b[90m━━━━━━━━━━━━━━━━━━━━━━━━━━━━━━━━━━━━━━━━\u001b[0m \u001b[32m17.3/17.3 MB\u001b[0m \u001b[31m87.4 MB/s\u001b[0m eta \u001b[36m0:00:00\u001b[0m\n",
            "\u001b[?25hRequirement already satisfied: scipy in /usr/local/lib/python3.10/dist-packages (from pyLDAvis) (1.10.1)\n",
            "Collecting pandas>=2.0.0 (from pyLDAvis)\n",
            "  Downloading pandas-2.0.2-cp310-cp310-manylinux_2_17_x86_64.manylinux2014_x86_64.whl (12.3 MB)\n",
            "\u001b[2K     \u001b[90m━━━━━━━━━━━━━━━━━━━━━━━━━━━━━━━━━━━━━━━\u001b[0m \u001b[32m12.3/12.3 MB\u001b[0m \u001b[31m101.4 MB/s\u001b[0m eta \u001b[36m0:00:00\u001b[0m\n",
            "\u001b[?25hRequirement already satisfied: joblib>=1.2.0 in /usr/local/lib/python3.10/dist-packages (from pyLDAvis) (1.2.0)\n",
            "Requirement already satisfied: jinja2 in /usr/local/lib/python3.10/dist-packages (from pyLDAvis) (3.1.2)\n",
            "Requirement already satisfied: numexpr in /usr/local/lib/python3.10/dist-packages (from pyLDAvis) (2.8.4)\n",
            "Collecting funcy (from pyLDAvis)\n",
            "  Downloading funcy-2.0-py2.py3-none-any.whl (30 kB)\n",
            "Requirement already satisfied: scikit-learn>=1.0.0 in /usr/local/lib/python3.10/dist-packages (from pyLDAvis) (1.2.2)\n",
            "Requirement already satisfied: gensim in /usr/local/lib/python3.10/dist-packages (from pyLDAvis) (4.3.1)\n",
            "Requirement already satisfied: setuptools in /usr/local/lib/python3.10/dist-packages (from pyLDAvis) (67.7.2)\n",
            "Requirement already satisfied: python-dateutil>=2.8.2 in /usr/local/lib/python3.10/dist-packages (from pandas>=2.0.0->pyLDAvis) (2.8.2)\n",
            "Requirement already satisfied: pytz>=2020.1 in /usr/local/lib/python3.10/dist-packages (from pandas>=2.0.0->pyLDAvis) (2022.7.1)\n",
            "Requirement already satisfied: tzdata>=2022.1 in /usr/local/lib/python3.10/dist-packages (from pandas>=2.0.0->pyLDAvis) (2023.3)\n",
            "Requirement already satisfied: threadpoolctl>=2.0.0 in /usr/local/lib/python3.10/dist-packages (from scikit-learn>=1.0.0->pyLDAvis) (3.1.0)\n",
            "Requirement already satisfied: smart-open>=1.8.1 in /usr/local/lib/python3.10/dist-packages (from gensim->pyLDAvis) (6.3.0)\n",
            "Requirement already satisfied: MarkupSafe>=2.0 in /usr/local/lib/python3.10/dist-packages (from jinja2->pyLDAvis) (2.1.2)\n",
            "Requirement already satisfied: six>=1.5 in /usr/local/lib/python3.10/dist-packages (from python-dateutil>=2.8.2->pandas>=2.0.0->pyLDAvis) (1.16.0)\n",
            "Installing collected packages: funcy, numpy, pandas, pyLDAvis\n",
            "  Attempting uninstall: numpy\n",
            "    Found existing installation: numpy 1.22.4\n",
            "    Uninstalling numpy-1.22.4:\n",
            "      Successfully uninstalled numpy-1.22.4\n",
            "  Attempting uninstall: pandas\n",
            "    Found existing installation: pandas 1.5.3\n",
            "    Uninstalling pandas-1.5.3:\n",
            "      Successfully uninstalled pandas-1.5.3\n",
            "\u001b[31mERROR: pip's dependency resolver does not currently take into account all the packages that are installed. This behaviour is the source of the following dependency conflicts.\n",
            "google-colab 1.0.0 requires pandas==1.5.3, but you have pandas 2.0.2 which is incompatible.\n",
            "numba 0.56.4 requires numpy<1.24,>=1.18, but you have numpy 1.24.3 which is incompatible.\n",
            "tensorflow 2.12.0 requires numpy<1.24,>=1.22, but you have numpy 1.24.3 which is incompatible.\u001b[0m\u001b[31m\n",
            "\u001b[0mSuccessfully installed funcy-2.0 numpy-1.24.3 pandas-2.0.2 pyLDAvis-3.4.1\n"
          ]
        },
        {
          "output_type": "display_data",
          "data": {
            "application/vnd.colab-display-data+json": {
              "pip_warning": {
                "packages": [
                  "numpy",
                  "pandas"
                ]
              }
            }
          },
          "metadata": {}
        }
      ]
    },
    {
      "cell_type": "code",
      "execution_count": null,
      "metadata": {
        "id": "ph4yWW_HP3_3"
      },
      "outputs": [],
      "source": [
        "import pandas as pd\n",
        "import numpy as np\n",
        "\n",
        "import re\n",
        "import string\n",
        "\n",
        "import spacy\n",
        "\n",
        "import gensim\n",
        "from gensim import corpora\n",
        "\n",
        "# libraries for visualization\n",
        "import pyLDAvis\n",
        "import pyLDAvis.gensim\n",
        "import matplotlib.pyplot as plt\n",
        "import seaborn as sns\n",
        "%matplotlib inline"
      ]
    },
    {
      "cell_type": "code",
      "execution_count": null,
      "metadata": {
        "colab": {
          "base_uri": "https://localhost:8080/"
        },
        "id": "9HoPfdF0P3_4",
        "outputId": "f1edf155-9109-449c-d114-b8b46223f1ac"
      },
      "outputs": [
        {
          "output_type": "stream",
          "name": "stderr",
          "text": [
            "/usr/local/lib/python3.10/dist-packages/ipykernel/ipkernel.py:283: DeprecationWarning: `should_run_async` will not call `transform_cell` automatically in the future. Please pass the result to `transformed_cell` argument and any exception that happen during thetransform in `preprocessing_exc_tuple` in IPython 7.17 and above.\n",
            "  and should_run_async(code)\n"
          ]
        },
        {
          "output_type": "stream",
          "name": "stdout",
          "text": [
            "                                              Review\n",
            "0  Dr. Meadows made me feel comfortable upon our ...\n",
            "1  Helen is amazing, she helped me open doors tha...\n",
            "107223\n"
          ]
        }
      ],
      "source": [
        "review_data= pd.read_csv(\"prepro.csv\")\n",
        "print(review_data.head(2))\n",
        "print(len(review_data))"
      ]
    },
    {
      "cell_type": "code",
      "execution_count": null,
      "metadata": {
        "colab": {
          "base_uri": "https://localhost:8080/"
        },
        "id": "Inm8gPe3P3_5",
        "outputId": "183c4893-41bd-423a-ca58-2f006ff41de2"
      },
      "outputs": [
        {
          "output_type": "stream",
          "name": "stderr",
          "text": [
            "/usr/local/lib/python3.10/dist-packages/ipykernel/ipkernel.py:283: DeprecationWarning: `should_run_async` will not call `transform_cell` automatically in the future. Please pass the result to `transformed_cell` argument and any exception that happen during thetransform in `preprocessing_exc_tuple` in IPython 7.17 and above.\n",
            "  and should_run_async(code)\n"
          ]
        }
      ],
      "source": [
        "def clean_text(text ):\n",
        "    delete_dict = {sp_character: '' for sp_character in string.punctuation}\n",
        "    delete_dict[' '] = ' '\n",
        "    table = str.maketrans(delete_dict)\n",
        "    text1 = text.translate(table)\n",
        "    #print('cleaned:'+text1)\n",
        "    textArr= text1.split()\n",
        "    text2 = ' '.join([w for w in textArr if ( not w.isdigit() and  ( not w.isdigit() and len(w)>3))])\n",
        "\n",
        "    return text2.lower()"
      ]
    },
    {
      "cell_type": "code",
      "execution_count": null,
      "metadata": {
        "colab": {
          "base_uri": "https://localhost:8080/"
        },
        "id": "b_f4qrrpP3_5",
        "outputId": "1c9766dd-684b-476b-f4a8-472c544fb457"
      },
      "outputs": [
        {
          "output_type": "stream",
          "name": "stderr",
          "text": [
            "/usr/local/lib/python3.10/dist-packages/ipykernel/ipkernel.py:283: DeprecationWarning: `should_run_async` will not call `transform_cell` automatically in the future. Please pass the result to `transformed_cell` argument and any exception that happen during thetransform in `preprocessing_exc_tuple` in IPython 7.17 and above.\n",
            "  and should_run_async(code)\n",
            "[nltk_data] Downloading package stopwords to /root/nltk_data...\n",
            "[nltk_data]   Unzipping corpora/stopwords.zip.\n"
          ]
        },
        {
          "output_type": "execute_result",
          "data": {
            "text/plain": [
              "True"
            ]
          },
          "metadata": {},
          "execution_count": 6
        }
      ],
      "source": [
        "import nltk\n",
        "nltk.download('stopwords') # run this one time"
      ]
    },
    {
      "cell_type": "code",
      "execution_count": null,
      "metadata": {
        "colab": {
          "base_uri": "https://localhost:8080/"
        },
        "id": "osNGkedPP3_5",
        "outputId": "fee8123f-5a09-43de-e191-3e842b445b32"
      },
      "outputs": [
        {
          "output_type": "stream",
          "name": "stderr",
          "text": [
            "/usr/local/lib/python3.10/dist-packages/ipykernel/ipkernel.py:283: DeprecationWarning: `should_run_async` will not call `transform_cell` automatically in the future. Please pass the result to `transformed_cell` argument and any exception that happen during thetransform in `preprocessing_exc_tuple` in IPython 7.17 and above.\n",
            "  and should_run_async(code)\n"
          ]
        }
      ],
      "source": [
        "review_data.dropna(axis = 0, how ='any',inplace=True)\n",
        "\n",
        "review_data['Review'] = review_data['Review'].apply(clean_text)\n",
        "review_data['Num_words_text'] = review_data['Review'].apply(lambda x:len(str(x).split()))"
      ]
    },
    {
      "cell_type": "markdown",
      "metadata": {
        "id": "Cca2jBcoP3_6"
      },
      "source": [
        "***\n",
        "Pre-processing the data\n",
        "***"
      ]
    },
    {
      "cell_type": "code",
      "execution_count": null,
      "metadata": {
        "colab": {
          "base_uri": "https://localhost:8080/"
        },
        "id": "pAgPOvQuP3_6",
        "outputId": "76a59626-4424-4f87-c8f9-e4d3c2a6686c"
      },
      "outputs": [
        {
          "output_type": "stream",
          "name": "stderr",
          "text": [
            "/usr/local/lib/python3.10/dist-packages/ipykernel/ipkernel.py:283: DeprecationWarning: `should_run_async` will not call `transform_cell` automatically in the future. Please pass the result to `transformed_cell` argument and any exception that happen during thetransform in `preprocessing_exc_tuple` in IPython 7.17 and above.\n",
            "  and should_run_async(code)\n"
          ]
        }
      ],
      "source": [
        "from nltk.corpus import stopwords\n",
        "stop_words = stopwords.words('english')\n",
        "# function to remove stopwords\n",
        "def remove_stopwords(text):\n",
        "    textArr = text.split(' ')\n",
        "    rem_text = \" \".join([i for i in textArr if i not in stop_words])\n",
        "    return rem_text\n",
        "\n",
        "# remove stopwords from the text\n",
        "review_data['Review']=review_data['Review'].apply(remove_stopwords)\n",
        "\n"
      ]
    },
    {
      "cell_type": "code",
      "source": [
        "review_data"
      ],
      "metadata": {
        "colab": {
          "base_uri": "https://localhost:8080/",
          "height": 480
        },
        "id": "r6ohv-bQUfDO",
        "outputId": "4ac0ed8b-42db-429a-8550-77ca475e3d47"
      },
      "execution_count": null,
      "outputs": [
        {
          "output_type": "stream",
          "name": "stderr",
          "text": [
            "/usr/local/lib/python3.10/dist-packages/ipykernel/ipkernel.py:283: DeprecationWarning: `should_run_async` will not call `transform_cell` automatically in the future. Please pass the result to `transformed_cell` argument and any exception that happen during thetransform in `preprocessing_exc_tuple` in IPython 7.17 and above.\n",
            "  and should_run_async(code)\n"
          ]
        },
        {
          "output_type": "execute_result",
          "data": {
            "text/plain": [
              "                                                   Review  Num_words_text\n",
              "0       meadows made feel comfortable upon first meeti...              23\n",
              "1       helen amazing helped open doors afraid open ma...              14\n",
              "2       sharisse excellent counselor listens well help...              17\n",
              "3       helpful helping figure proactive steps change ...               9\n",
              "4       cannot express much love eileen counselor week...              55\n",
              "...                                                   ...             ...\n",
              "107218  chandrea washington amazing counselor always s...              16\n",
              "107219  chandrea good listener gives good advice well ...              21\n",
              "107220  feel blessed found chandrea better help best t...              21\n",
              "107221  erika wonderful expertise paired gentle nature...              16\n",
              "107222  many therapists life feel like finally found r...              49\n",
              "\n",
              "[107223 rows x 2 columns]"
            ],
            "text/html": [
              "\n",
              "  <div id=\"df-8016e4e8-7e0e-4567-aaa9-d8cba6632d77\">\n",
              "    <div class=\"colab-df-container\">\n",
              "      <div>\n",
              "<style scoped>\n",
              "    .dataframe tbody tr th:only-of-type {\n",
              "        vertical-align: middle;\n",
              "    }\n",
              "\n",
              "    .dataframe tbody tr th {\n",
              "        vertical-align: top;\n",
              "    }\n",
              "\n",
              "    .dataframe thead th {\n",
              "        text-align: right;\n",
              "    }\n",
              "</style>\n",
              "<table border=\"1\" class=\"dataframe\">\n",
              "  <thead>\n",
              "    <tr style=\"text-align: right;\">\n",
              "      <th></th>\n",
              "      <th>Review</th>\n",
              "      <th>Num_words_text</th>\n",
              "    </tr>\n",
              "  </thead>\n",
              "  <tbody>\n",
              "    <tr>\n",
              "      <th>0</th>\n",
              "      <td>meadows made feel comfortable upon first meeti...</td>\n",
              "      <td>23</td>\n",
              "    </tr>\n",
              "    <tr>\n",
              "      <th>1</th>\n",
              "      <td>helen amazing helped open doors afraid open ma...</td>\n",
              "      <td>14</td>\n",
              "    </tr>\n",
              "    <tr>\n",
              "      <th>2</th>\n",
              "      <td>sharisse excellent counselor listens well help...</td>\n",
              "      <td>17</td>\n",
              "    </tr>\n",
              "    <tr>\n",
              "      <th>3</th>\n",
              "      <td>helpful helping figure proactive steps change ...</td>\n",
              "      <td>9</td>\n",
              "    </tr>\n",
              "    <tr>\n",
              "      <th>4</th>\n",
              "      <td>cannot express much love eileen counselor week...</td>\n",
              "      <td>55</td>\n",
              "    </tr>\n",
              "    <tr>\n",
              "      <th>...</th>\n",
              "      <td>...</td>\n",
              "      <td>...</td>\n",
              "    </tr>\n",
              "    <tr>\n",
              "      <th>107218</th>\n",
              "      <td>chandrea washington amazing counselor always s...</td>\n",
              "      <td>16</td>\n",
              "    </tr>\n",
              "    <tr>\n",
              "      <th>107219</th>\n",
              "      <td>chandrea good listener gives good advice well ...</td>\n",
              "      <td>21</td>\n",
              "    </tr>\n",
              "    <tr>\n",
              "      <th>107220</th>\n",
              "      <td>feel blessed found chandrea better help best t...</td>\n",
              "      <td>21</td>\n",
              "    </tr>\n",
              "    <tr>\n",
              "      <th>107221</th>\n",
              "      <td>erika wonderful expertise paired gentle nature...</td>\n",
              "      <td>16</td>\n",
              "    </tr>\n",
              "    <tr>\n",
              "      <th>107222</th>\n",
              "      <td>many therapists life feel like finally found r...</td>\n",
              "      <td>49</td>\n",
              "    </tr>\n",
              "  </tbody>\n",
              "</table>\n",
              "<p>107223 rows × 2 columns</p>\n",
              "</div>\n",
              "      <button class=\"colab-df-convert\" onclick=\"convertToInteractive('df-8016e4e8-7e0e-4567-aaa9-d8cba6632d77')\"\n",
              "              title=\"Convert this dataframe to an interactive table.\"\n",
              "              style=\"display:none;\">\n",
              "        \n",
              "  <svg xmlns=\"http://www.w3.org/2000/svg\" height=\"24px\"viewBox=\"0 0 24 24\"\n",
              "       width=\"24px\">\n",
              "    <path d=\"M0 0h24v24H0V0z\" fill=\"none\"/>\n",
              "    <path d=\"M18.56 5.44l.94 2.06.94-2.06 2.06-.94-2.06-.94-.94-2.06-.94 2.06-2.06.94zm-11 1L8.5 8.5l.94-2.06 2.06-.94-2.06-.94L8.5 2.5l-.94 2.06-2.06.94zm10 10l.94 2.06.94-2.06 2.06-.94-2.06-.94-.94-2.06-.94 2.06-2.06.94z\"/><path d=\"M17.41 7.96l-1.37-1.37c-.4-.4-.92-.59-1.43-.59-.52 0-1.04.2-1.43.59L10.3 9.45l-7.72 7.72c-.78.78-.78 2.05 0 2.83L4 21.41c.39.39.9.59 1.41.59.51 0 1.02-.2 1.41-.59l7.78-7.78 2.81-2.81c.8-.78.8-2.07 0-2.86zM5.41 20L4 18.59l7.72-7.72 1.47 1.35L5.41 20z\"/>\n",
              "  </svg>\n",
              "      </button>\n",
              "      \n",
              "  <style>\n",
              "    .colab-df-container {\n",
              "      display:flex;\n",
              "      flex-wrap:wrap;\n",
              "      gap: 12px;\n",
              "    }\n",
              "\n",
              "    .colab-df-convert {\n",
              "      background-color: #E8F0FE;\n",
              "      border: none;\n",
              "      border-radius: 50%;\n",
              "      cursor: pointer;\n",
              "      display: none;\n",
              "      fill: #1967D2;\n",
              "      height: 32px;\n",
              "      padding: 0 0 0 0;\n",
              "      width: 32px;\n",
              "    }\n",
              "\n",
              "    .colab-df-convert:hover {\n",
              "      background-color: #E2EBFA;\n",
              "      box-shadow: 0px 1px 2px rgba(60, 64, 67, 0.3), 0px 1px 3px 1px rgba(60, 64, 67, 0.15);\n",
              "      fill: #174EA6;\n",
              "    }\n",
              "\n",
              "    [theme=dark] .colab-df-convert {\n",
              "      background-color: #3B4455;\n",
              "      fill: #D2E3FC;\n",
              "    }\n",
              "\n",
              "    [theme=dark] .colab-df-convert:hover {\n",
              "      background-color: #434B5C;\n",
              "      box-shadow: 0px 1px 3px 1px rgba(0, 0, 0, 0.15);\n",
              "      filter: drop-shadow(0px 1px 2px rgba(0, 0, 0, 0.3));\n",
              "      fill: #FFFFFF;\n",
              "    }\n",
              "  </style>\n",
              "\n",
              "      <script>\n",
              "        const buttonEl =\n",
              "          document.querySelector('#df-8016e4e8-7e0e-4567-aaa9-d8cba6632d77 button.colab-df-convert');\n",
              "        buttonEl.style.display =\n",
              "          google.colab.kernel.accessAllowed ? 'block' : 'none';\n",
              "\n",
              "        async function convertToInteractive(key) {\n",
              "          const element = document.querySelector('#df-8016e4e8-7e0e-4567-aaa9-d8cba6632d77');\n",
              "          const dataTable =\n",
              "            await google.colab.kernel.invokeFunction('convertToInteractive',\n",
              "                                                     [key], {});\n",
              "          if (!dataTable) return;\n",
              "\n",
              "          const docLinkHtml = 'Like what you see? Visit the ' +\n",
              "            '<a target=\"_blank\" href=https://colab.research.google.com/notebooks/data_table.ipynb>data table notebook</a>'\n",
              "            + ' to learn more about interactive tables.';\n",
              "          element.innerHTML = '';\n",
              "          dataTable['output_type'] = 'display_data';\n",
              "          await google.colab.output.renderOutput(dataTable, element);\n",
              "          const docLink = document.createElement('div');\n",
              "          docLink.innerHTML = docLinkHtml;\n",
              "          element.appendChild(docLink);\n",
              "        }\n",
              "      </script>\n",
              "    </div>\n",
              "  </div>\n",
              "  "
            ]
          },
          "metadata": {},
          "execution_count": 10
        }
      ]
    },
    {
      "cell_type": "code",
      "source": [
        "!python -m spacy download en_core_web_md\n",
        "!python -m spacy download en_core_web_lg\n",
        "!python -m spacy download en_core_web_sm"
      ],
      "metadata": {
        "colab": {
          "base_uri": "https://localhost:8080/"
        },
        "id": "b8_cvy4IV13P",
        "outputId": "03b1c4f5-97d6-4e75-d3ed-f623c03b9f07"
      },
      "execution_count": null,
      "outputs": [
        {
          "output_type": "stream",
          "name": "stderr",
          "text": [
            "/usr/local/lib/python3.10/dist-packages/ipykernel/ipkernel.py:283: DeprecationWarning: `should_run_async` will not call `transform_cell` automatically in the future. Please pass the result to `transformed_cell` argument and any exception that happen during thetransform in `preprocessing_exc_tuple` in IPython 7.17 and above.\n",
            "  and should_run_async(code)\n"
          ]
        },
        {
          "output_type": "stream",
          "name": "stdout",
          "text": [
            "2023-06-01 05:07:29.040949: W tensorflow/compiler/tf2tensorrt/utils/py_utils.cc:38] TF-TRT Warning: Could not find TensorRT\n",
            "Looking in indexes: https://pypi.org/simple, https://us-python.pkg.dev/colab-wheels/public/simple/\n",
            "Collecting en-core-web-md==3.5.0\n",
            "  Using cached https://github.com/explosion/spacy-models/releases/download/en_core_web_md-3.5.0/en_core_web_md-3.5.0-py3-none-any.whl (42.8 MB)\n",
            "Requirement already satisfied: spacy<3.6.0,>=3.5.0 in /usr/local/lib/python3.10/dist-packages (from en-core-web-md==3.5.0) (3.5.2)\n",
            "Requirement already satisfied: spacy-legacy<3.1.0,>=3.0.11 in /usr/local/lib/python3.10/dist-packages (from spacy<3.6.0,>=3.5.0->en-core-web-md==3.5.0) (3.0.12)\n",
            "Requirement already satisfied: spacy-loggers<2.0.0,>=1.0.0 in /usr/local/lib/python3.10/dist-packages (from spacy<3.6.0,>=3.5.0->en-core-web-md==3.5.0) (1.0.4)\n",
            "Requirement already satisfied: murmurhash<1.1.0,>=0.28.0 in /usr/local/lib/python3.10/dist-packages (from spacy<3.6.0,>=3.5.0->en-core-web-md==3.5.0) (1.0.9)\n",
            "Requirement already satisfied: cymem<2.1.0,>=2.0.2 in /usr/local/lib/python3.10/dist-packages (from spacy<3.6.0,>=3.5.0->en-core-web-md==3.5.0) (2.0.7)\n",
            "Requirement already satisfied: preshed<3.1.0,>=3.0.2 in /usr/local/lib/python3.10/dist-packages (from spacy<3.6.0,>=3.5.0->en-core-web-md==3.5.0) (3.0.8)\n",
            "Requirement already satisfied: thinc<8.2.0,>=8.1.8 in /usr/local/lib/python3.10/dist-packages (from spacy<3.6.0,>=3.5.0->en-core-web-md==3.5.0) (8.1.9)\n",
            "Requirement already satisfied: wasabi<1.2.0,>=0.9.1 in /usr/local/lib/python3.10/dist-packages (from spacy<3.6.0,>=3.5.0->en-core-web-md==3.5.0) (1.1.1)\n",
            "Requirement already satisfied: srsly<3.0.0,>=2.4.3 in /usr/local/lib/python3.10/dist-packages (from spacy<3.6.0,>=3.5.0->en-core-web-md==3.5.0) (2.4.6)\n",
            "Requirement already satisfied: catalogue<2.1.0,>=2.0.6 in /usr/local/lib/python3.10/dist-packages (from spacy<3.6.0,>=3.5.0->en-core-web-md==3.5.0) (2.0.8)\n",
            "Requirement already satisfied: typer<0.8.0,>=0.3.0 in /usr/local/lib/python3.10/dist-packages (from spacy<3.6.0,>=3.5.0->en-core-web-md==3.5.0) (0.7.0)\n",
            "Requirement already satisfied: pathy>=0.10.0 in /usr/local/lib/python3.10/dist-packages (from spacy<3.6.0,>=3.5.0->en-core-web-md==3.5.0) (0.10.1)\n",
            "Requirement already satisfied: smart-open<7.0.0,>=5.2.1 in /usr/local/lib/python3.10/dist-packages (from spacy<3.6.0,>=3.5.0->en-core-web-md==3.5.0) (6.3.0)\n",
            "Requirement already satisfied: tqdm<5.0.0,>=4.38.0 in /usr/local/lib/python3.10/dist-packages (from spacy<3.6.0,>=3.5.0->en-core-web-md==3.5.0) (4.65.0)\n",
            "Requirement already satisfied: numpy>=1.15.0 in /usr/local/lib/python3.10/dist-packages (from spacy<3.6.0,>=3.5.0->en-core-web-md==3.5.0) (1.24.3)\n",
            "Requirement already satisfied: requests<3.0.0,>=2.13.0 in /usr/local/lib/python3.10/dist-packages (from spacy<3.6.0,>=3.5.0->en-core-web-md==3.5.0) (2.27.1)\n",
            "Requirement already satisfied: pydantic!=1.8,!=1.8.1,<1.11.0,>=1.7.4 in /usr/local/lib/python3.10/dist-packages (from spacy<3.6.0,>=3.5.0->en-core-web-md==3.5.0) (1.10.7)\n",
            "Requirement already satisfied: jinja2 in /usr/local/lib/python3.10/dist-packages (from spacy<3.6.0,>=3.5.0->en-core-web-md==3.5.0) (3.1.2)\n",
            "Requirement already satisfied: setuptools in /usr/local/lib/python3.10/dist-packages (from spacy<3.6.0,>=3.5.0->en-core-web-md==3.5.0) (67.7.2)\n",
            "Requirement already satisfied: packaging>=20.0 in /usr/local/lib/python3.10/dist-packages (from spacy<3.6.0,>=3.5.0->en-core-web-md==3.5.0) (23.1)\n",
            "Requirement already satisfied: langcodes<4.0.0,>=3.2.0 in /usr/local/lib/python3.10/dist-packages (from spacy<3.6.0,>=3.5.0->en-core-web-md==3.5.0) (3.3.0)\n",
            "Requirement already satisfied: typing-extensions>=4.2.0 in /usr/local/lib/python3.10/dist-packages (from pydantic!=1.8,!=1.8.1,<1.11.0,>=1.7.4->spacy<3.6.0,>=3.5.0->en-core-web-md==3.5.0) (4.5.0)\n",
            "Requirement already satisfied: urllib3<1.27,>=1.21.1 in /usr/local/lib/python3.10/dist-packages (from requests<3.0.0,>=2.13.0->spacy<3.6.0,>=3.5.0->en-core-web-md==3.5.0) (1.26.15)\n",
            "Requirement already satisfied: certifi>=2017.4.17 in /usr/local/lib/python3.10/dist-packages (from requests<3.0.0,>=2.13.0->spacy<3.6.0,>=3.5.0->en-core-web-md==3.5.0) (2022.12.7)\n",
            "Requirement already satisfied: charset-normalizer~=2.0.0 in /usr/local/lib/python3.10/dist-packages (from requests<3.0.0,>=2.13.0->spacy<3.6.0,>=3.5.0->en-core-web-md==3.5.0) (2.0.12)\n",
            "Requirement already satisfied: idna<4,>=2.5 in /usr/local/lib/python3.10/dist-packages (from requests<3.0.0,>=2.13.0->spacy<3.6.0,>=3.5.0->en-core-web-md==3.5.0) (3.4)\n",
            "Requirement already satisfied: blis<0.8.0,>=0.7.8 in /usr/local/lib/python3.10/dist-packages (from thinc<8.2.0,>=8.1.8->spacy<3.6.0,>=3.5.0->en-core-web-md==3.5.0) (0.7.9)\n",
            "Requirement already satisfied: confection<1.0.0,>=0.0.1 in /usr/local/lib/python3.10/dist-packages (from thinc<8.2.0,>=8.1.8->spacy<3.6.0,>=3.5.0->en-core-web-md==3.5.0) (0.0.4)\n",
            "Requirement already satisfied: click<9.0.0,>=7.1.1 in /usr/local/lib/python3.10/dist-packages (from typer<0.8.0,>=0.3.0->spacy<3.6.0,>=3.5.0->en-core-web-md==3.5.0) (8.1.3)\n",
            "Requirement already satisfied: MarkupSafe>=2.0 in /usr/local/lib/python3.10/dist-packages (from jinja2->spacy<3.6.0,>=3.5.0->en-core-web-md==3.5.0) (2.1.2)\n",
            "\u001b[38;5;2m✔ Download and installation successful\u001b[0m\n",
            "You can now load the package via spacy.load('en_core_web_md')\n",
            "2023-06-01 05:07:44.098941: W tensorflow/compiler/tf2tensorrt/utils/py_utils.cc:38] TF-TRT Warning: Could not find TensorRT\n",
            "Looking in indexes: https://pypi.org/simple, https://us-python.pkg.dev/colab-wheels/public/simple/\n",
            "Collecting en-core-web-lg==3.5.0\n",
            "  Downloading https://github.com/explosion/spacy-models/releases/download/en_core_web_lg-3.5.0/en_core_web_lg-3.5.0-py3-none-any.whl (587.7 MB)\n",
            "\u001b[2K     \u001b[90m━━━━━━━━━━━━━━━━━━━━━━━━━━━━━━━━━━━━━━━\u001b[0m \u001b[32m587.7/587.7 MB\u001b[0m \u001b[31m2.9 MB/s\u001b[0m eta \u001b[36m0:00:00\u001b[0m\n",
            "\u001b[?25hRequirement already satisfied: spacy<3.6.0,>=3.5.0 in /usr/local/lib/python3.10/dist-packages (from en-core-web-lg==3.5.0) (3.5.2)\n",
            "Requirement already satisfied: spacy-legacy<3.1.0,>=3.0.11 in /usr/local/lib/python3.10/dist-packages (from spacy<3.6.0,>=3.5.0->en-core-web-lg==3.5.0) (3.0.12)\n",
            "Requirement already satisfied: spacy-loggers<2.0.0,>=1.0.0 in /usr/local/lib/python3.10/dist-packages (from spacy<3.6.0,>=3.5.0->en-core-web-lg==3.5.0) (1.0.4)\n",
            "Requirement already satisfied: murmurhash<1.1.0,>=0.28.0 in /usr/local/lib/python3.10/dist-packages (from spacy<3.6.0,>=3.5.0->en-core-web-lg==3.5.0) (1.0.9)\n",
            "Requirement already satisfied: cymem<2.1.0,>=2.0.2 in /usr/local/lib/python3.10/dist-packages (from spacy<3.6.0,>=3.5.0->en-core-web-lg==3.5.0) (2.0.7)\n",
            "Requirement already satisfied: preshed<3.1.0,>=3.0.2 in /usr/local/lib/python3.10/dist-packages (from spacy<3.6.0,>=3.5.0->en-core-web-lg==3.5.0) (3.0.8)\n",
            "Requirement already satisfied: thinc<8.2.0,>=8.1.8 in /usr/local/lib/python3.10/dist-packages (from spacy<3.6.0,>=3.5.0->en-core-web-lg==3.5.0) (8.1.9)\n",
            "Requirement already satisfied: wasabi<1.2.0,>=0.9.1 in /usr/local/lib/python3.10/dist-packages (from spacy<3.6.0,>=3.5.0->en-core-web-lg==3.5.0) (1.1.1)\n",
            "Requirement already satisfied: srsly<3.0.0,>=2.4.3 in /usr/local/lib/python3.10/dist-packages (from spacy<3.6.0,>=3.5.0->en-core-web-lg==3.5.0) (2.4.6)\n",
            "Requirement already satisfied: catalogue<2.1.0,>=2.0.6 in /usr/local/lib/python3.10/dist-packages (from spacy<3.6.0,>=3.5.0->en-core-web-lg==3.5.0) (2.0.8)\n",
            "Requirement already satisfied: typer<0.8.0,>=0.3.0 in /usr/local/lib/python3.10/dist-packages (from spacy<3.6.0,>=3.5.0->en-core-web-lg==3.5.0) (0.7.0)\n",
            "Requirement already satisfied: pathy>=0.10.0 in /usr/local/lib/python3.10/dist-packages (from spacy<3.6.0,>=3.5.0->en-core-web-lg==3.5.0) (0.10.1)\n",
            "Requirement already satisfied: smart-open<7.0.0,>=5.2.1 in /usr/local/lib/python3.10/dist-packages (from spacy<3.6.0,>=3.5.0->en-core-web-lg==3.5.0) (6.3.0)\n",
            "Requirement already satisfied: tqdm<5.0.0,>=4.38.0 in /usr/local/lib/python3.10/dist-packages (from spacy<3.6.0,>=3.5.0->en-core-web-lg==3.5.0) (4.65.0)\n",
            "Requirement already satisfied: numpy>=1.15.0 in /usr/local/lib/python3.10/dist-packages (from spacy<3.6.0,>=3.5.0->en-core-web-lg==3.5.0) (1.24.3)\n",
            "Requirement already satisfied: requests<3.0.0,>=2.13.0 in /usr/local/lib/python3.10/dist-packages (from spacy<3.6.0,>=3.5.0->en-core-web-lg==3.5.0) (2.27.1)\n",
            "Requirement already satisfied: pydantic!=1.8,!=1.8.1,<1.11.0,>=1.7.4 in /usr/local/lib/python3.10/dist-packages (from spacy<3.6.0,>=3.5.0->en-core-web-lg==3.5.0) (1.10.7)\n",
            "Requirement already satisfied: jinja2 in /usr/local/lib/python3.10/dist-packages (from spacy<3.6.0,>=3.5.0->en-core-web-lg==3.5.0) (3.1.2)\n",
            "Requirement already satisfied: setuptools in /usr/local/lib/python3.10/dist-packages (from spacy<3.6.0,>=3.5.0->en-core-web-lg==3.5.0) (67.7.2)\n",
            "Requirement already satisfied: packaging>=20.0 in /usr/local/lib/python3.10/dist-packages (from spacy<3.6.0,>=3.5.0->en-core-web-lg==3.5.0) (23.1)\n",
            "Requirement already satisfied: langcodes<4.0.0,>=3.2.0 in /usr/local/lib/python3.10/dist-packages (from spacy<3.6.0,>=3.5.0->en-core-web-lg==3.5.0) (3.3.0)\n",
            "Requirement already satisfied: typing-extensions>=4.2.0 in /usr/local/lib/python3.10/dist-packages (from pydantic!=1.8,!=1.8.1,<1.11.0,>=1.7.4->spacy<3.6.0,>=3.5.0->en-core-web-lg==3.5.0) (4.5.0)\n",
            "Requirement already satisfied: urllib3<1.27,>=1.21.1 in /usr/local/lib/python3.10/dist-packages (from requests<3.0.0,>=2.13.0->spacy<3.6.0,>=3.5.0->en-core-web-lg==3.5.0) (1.26.15)\n",
            "Requirement already satisfied: certifi>=2017.4.17 in /usr/local/lib/python3.10/dist-packages (from requests<3.0.0,>=2.13.0->spacy<3.6.0,>=3.5.0->en-core-web-lg==3.5.0) (2022.12.7)\n",
            "Requirement already satisfied: charset-normalizer~=2.0.0 in /usr/local/lib/python3.10/dist-packages (from requests<3.0.0,>=2.13.0->spacy<3.6.0,>=3.5.0->en-core-web-lg==3.5.0) (2.0.12)\n",
            "Requirement already satisfied: idna<4,>=2.5 in /usr/local/lib/python3.10/dist-packages (from requests<3.0.0,>=2.13.0->spacy<3.6.0,>=3.5.0->en-core-web-lg==3.5.0) (3.4)\n",
            "Requirement already satisfied: blis<0.8.0,>=0.7.8 in /usr/local/lib/python3.10/dist-packages (from thinc<8.2.0,>=8.1.8->spacy<3.6.0,>=3.5.0->en-core-web-lg==3.5.0) (0.7.9)\n",
            "Requirement already satisfied: confection<1.0.0,>=0.0.1 in /usr/local/lib/python3.10/dist-packages (from thinc<8.2.0,>=8.1.8->spacy<3.6.0,>=3.5.0->en-core-web-lg==3.5.0) (0.0.4)\n",
            "Requirement already satisfied: click<9.0.0,>=7.1.1 in /usr/local/lib/python3.10/dist-packages (from typer<0.8.0,>=0.3.0->spacy<3.6.0,>=3.5.0->en-core-web-lg==3.5.0) (8.1.3)\n",
            "Requirement already satisfied: MarkupSafe>=2.0 in /usr/local/lib/python3.10/dist-packages (from jinja2->spacy<3.6.0,>=3.5.0->en-core-web-lg==3.5.0) (2.1.2)\n",
            "Installing collected packages: en-core-web-lg\n",
            "Successfully installed en-core-web-lg-3.5.0\n",
            "\u001b[38;5;2m✔ Download and installation successful\u001b[0m\n",
            "You can now load the package via spacy.load('en_core_web_lg')\n",
            "2023-06-01 05:08:15.292990: W tensorflow/compiler/tf2tensorrt/utils/py_utils.cc:38] TF-TRT Warning: Could not find TensorRT\n",
            "Looking in indexes: https://pypi.org/simple, https://us-python.pkg.dev/colab-wheels/public/simple/\n",
            "Collecting en-core-web-sm==3.5.0\n",
            "  Downloading https://github.com/explosion/spacy-models/releases/download/en_core_web_sm-3.5.0/en_core_web_sm-3.5.0-py3-none-any.whl (12.8 MB)\n",
            "\u001b[2K     \u001b[90m━━━━━━━━━━━━━━━━━━━━━━━━━━━━━━━━━━━━━━━━\u001b[0m \u001b[32m12.8/12.8 MB\u001b[0m \u001b[31m78.0 MB/s\u001b[0m eta \u001b[36m0:00:00\u001b[0m\n",
            "\u001b[?25hRequirement already satisfied: spacy<3.6.0,>=3.5.0 in /usr/local/lib/python3.10/dist-packages (from en-core-web-sm==3.5.0) (3.5.2)\n",
            "Requirement already satisfied: spacy-legacy<3.1.0,>=3.0.11 in /usr/local/lib/python3.10/dist-packages (from spacy<3.6.0,>=3.5.0->en-core-web-sm==3.5.0) (3.0.12)\n",
            "Requirement already satisfied: spacy-loggers<2.0.0,>=1.0.0 in /usr/local/lib/python3.10/dist-packages (from spacy<3.6.0,>=3.5.0->en-core-web-sm==3.5.0) (1.0.4)\n",
            "Requirement already satisfied: murmurhash<1.1.0,>=0.28.0 in /usr/local/lib/python3.10/dist-packages (from spacy<3.6.0,>=3.5.0->en-core-web-sm==3.5.0) (1.0.9)\n",
            "Requirement already satisfied: cymem<2.1.0,>=2.0.2 in /usr/local/lib/python3.10/dist-packages (from spacy<3.6.0,>=3.5.0->en-core-web-sm==3.5.0) (2.0.7)\n",
            "Requirement already satisfied: preshed<3.1.0,>=3.0.2 in /usr/local/lib/python3.10/dist-packages (from spacy<3.6.0,>=3.5.0->en-core-web-sm==3.5.0) (3.0.8)\n",
            "Requirement already satisfied: thinc<8.2.0,>=8.1.8 in /usr/local/lib/python3.10/dist-packages (from spacy<3.6.0,>=3.5.0->en-core-web-sm==3.5.0) (8.1.9)\n",
            "Requirement already satisfied: wasabi<1.2.0,>=0.9.1 in /usr/local/lib/python3.10/dist-packages (from spacy<3.6.0,>=3.5.0->en-core-web-sm==3.5.0) (1.1.1)\n",
            "Requirement already satisfied: srsly<3.0.0,>=2.4.3 in /usr/local/lib/python3.10/dist-packages (from spacy<3.6.0,>=3.5.0->en-core-web-sm==3.5.0) (2.4.6)\n",
            "Requirement already satisfied: catalogue<2.1.0,>=2.0.6 in /usr/local/lib/python3.10/dist-packages (from spacy<3.6.0,>=3.5.0->en-core-web-sm==3.5.0) (2.0.8)\n",
            "Requirement already satisfied: typer<0.8.0,>=0.3.0 in /usr/local/lib/python3.10/dist-packages (from spacy<3.6.0,>=3.5.0->en-core-web-sm==3.5.0) (0.7.0)\n",
            "Requirement already satisfied: pathy>=0.10.0 in /usr/local/lib/python3.10/dist-packages (from spacy<3.6.0,>=3.5.0->en-core-web-sm==3.5.0) (0.10.1)\n",
            "Requirement already satisfied: smart-open<7.0.0,>=5.2.1 in /usr/local/lib/python3.10/dist-packages (from spacy<3.6.0,>=3.5.0->en-core-web-sm==3.5.0) (6.3.0)\n",
            "Requirement already satisfied: tqdm<5.0.0,>=4.38.0 in /usr/local/lib/python3.10/dist-packages (from spacy<3.6.0,>=3.5.0->en-core-web-sm==3.5.0) (4.65.0)\n",
            "Requirement already satisfied: numpy>=1.15.0 in /usr/local/lib/python3.10/dist-packages (from spacy<3.6.0,>=3.5.0->en-core-web-sm==3.5.0) (1.24.3)\n",
            "Requirement already satisfied: requests<3.0.0,>=2.13.0 in /usr/local/lib/python3.10/dist-packages (from spacy<3.6.0,>=3.5.0->en-core-web-sm==3.5.0) (2.27.1)\n",
            "Requirement already satisfied: pydantic!=1.8,!=1.8.1,<1.11.0,>=1.7.4 in /usr/local/lib/python3.10/dist-packages (from spacy<3.6.0,>=3.5.0->en-core-web-sm==3.5.0) (1.10.7)\n",
            "Requirement already satisfied: jinja2 in /usr/local/lib/python3.10/dist-packages (from spacy<3.6.0,>=3.5.0->en-core-web-sm==3.5.0) (3.1.2)\n",
            "Requirement already satisfied: setuptools in /usr/local/lib/python3.10/dist-packages (from spacy<3.6.0,>=3.5.0->en-core-web-sm==3.5.0) (67.7.2)\n",
            "Requirement already satisfied: packaging>=20.0 in /usr/local/lib/python3.10/dist-packages (from spacy<3.6.0,>=3.5.0->en-core-web-sm==3.5.0) (23.1)\n",
            "Requirement already satisfied: langcodes<4.0.0,>=3.2.0 in /usr/local/lib/python3.10/dist-packages (from spacy<3.6.0,>=3.5.0->en-core-web-sm==3.5.0) (3.3.0)\n",
            "Requirement already satisfied: typing-extensions>=4.2.0 in /usr/local/lib/python3.10/dist-packages (from pydantic!=1.8,!=1.8.1,<1.11.0,>=1.7.4->spacy<3.6.0,>=3.5.0->en-core-web-sm==3.5.0) (4.5.0)\n",
            "Requirement already satisfied: urllib3<1.27,>=1.21.1 in /usr/local/lib/python3.10/dist-packages (from requests<3.0.0,>=2.13.0->spacy<3.6.0,>=3.5.0->en-core-web-sm==3.5.0) (1.26.15)\n",
            "Requirement already satisfied: certifi>=2017.4.17 in /usr/local/lib/python3.10/dist-packages (from requests<3.0.0,>=2.13.0->spacy<3.6.0,>=3.5.0->en-core-web-sm==3.5.0) (2022.12.7)\n",
            "Requirement already satisfied: charset-normalizer~=2.0.0 in /usr/local/lib/python3.10/dist-packages (from requests<3.0.0,>=2.13.0->spacy<3.6.0,>=3.5.0->en-core-web-sm==3.5.0) (2.0.12)\n",
            "Requirement already satisfied: idna<4,>=2.5 in /usr/local/lib/python3.10/dist-packages (from requests<3.0.0,>=2.13.0->spacy<3.6.0,>=3.5.0->en-core-web-sm==3.5.0) (3.4)\n",
            "Requirement already satisfied: blis<0.8.0,>=0.7.8 in /usr/local/lib/python3.10/dist-packages (from thinc<8.2.0,>=8.1.8->spacy<3.6.0,>=3.5.0->en-core-web-sm==3.5.0) (0.7.9)\n",
            "Requirement already satisfied: confection<1.0.0,>=0.0.1 in /usr/local/lib/python3.10/dist-packages (from thinc<8.2.0,>=8.1.8->spacy<3.6.0,>=3.5.0->en-core-web-sm==3.5.0) (0.0.4)\n",
            "Requirement already satisfied: click<9.0.0,>=7.1.1 in /usr/local/lib/python3.10/dist-packages (from typer<0.8.0,>=0.3.0->spacy<3.6.0,>=3.5.0->en-core-web-sm==3.5.0) (8.1.3)\n",
            "Requirement already satisfied: MarkupSafe>=2.0 in /usr/local/lib/python3.10/dist-packages (from jinja2->spacy<3.6.0,>=3.5.0->en-core-web-sm==3.5.0) (2.1.2)\n",
            "\u001b[38;5;2m✔ Download and installation successful\u001b[0m\n",
            "You can now load the package via spacy.load('en_core_web_sm')\n"
          ]
        }
      ]
    },
    {
      "cell_type": "code",
      "execution_count": null,
      "metadata": {
        "colab": {
          "base_uri": "https://localhost:8080/"
        },
        "id": "zWEY-o0SP3_6",
        "outputId": "6ec3c890-95f4-4707-f524-f3b2c5f6cb94"
      },
      "outputs": [
        {
          "output_type": "stream",
          "name": "stderr",
          "text": [
            "/usr/local/lib/python3.10/dist-packages/ipykernel/ipkernel.py:283: DeprecationWarning: `should_run_async` will not call `transform_cell` automatically in the future. Please pass the result to `transformed_cell` argument and any exception that happen during thetransform in `preprocessing_exc_tuple` in IPython 7.17 and above.\n",
            "  and should_run_async(code)\n"
          ]
        }
      ],
      "source": [
        "nlp = spacy.load('en_core_web_md', disable=['parser', 'ner'])\n",
        "\n",
        "def lemmatization(texts,allowed_postags=['NOUN', 'ADJ']):\n",
        "       output = []\n",
        "       for sent in texts:\n",
        "             doc = nlp(sent)\n",
        "             output.append([token.lemma_ for token in doc if token.pos_ in allowed_postags ])\n",
        "       return output"
      ]
    },
    {
      "cell_type": "code",
      "execution_count": null,
      "metadata": {
        "colab": {
          "base_uri": "https://localhost:8080/"
        },
        "id": "IL8Spx4EP3_6",
        "outputId": "07f2dde4-6ea6-4bdb-c072-f4ef9bf27168"
      },
      "outputs": [
        {
          "output_type": "stream",
          "name": "stderr",
          "text": [
            "/usr/local/lib/python3.10/dist-packages/ipykernel/ipkernel.py:283: DeprecationWarning: `should_run_async` will not call `transform_cell` automatically in the future. Please pass the result to `transformed_cell` argument and any exception that happen during thetransform in `preprocessing_exc_tuple` in IPython 7.17 and above.\n",
            "  and should_run_async(code)\n"
          ]
        },
        {
          "output_type": "stream",
          "name": "stdout",
          "text": [
            "helen amazing helped open doors afraid open makes every session insightful wisdom\n",
            "['door', 'afraid', 'open', 'session', 'insightful', 'wisdom']\n"
          ]
        }
      ],
      "source": [
        "\n",
        "text_list=review_data['Review'].tolist()\n",
        "print(text_list[1])\n",
        "tokenized_reviews = lemmatization(text_list)\n",
        "print(tokenized_reviews[1])"
      ]
    },
    {
      "cell_type": "markdown",
      "metadata": {
        "id": "Q6TEVAQQP3_7"
      },
      "source": [
        "***\n",
        "Create vocabulary dictionary and document term matrix\n",
        "***"
      ]
    },
    {
      "cell_type": "code",
      "execution_count": null,
      "metadata": {
        "colab": {
          "base_uri": "https://localhost:8080/"
        },
        "id": "rOgUvzBeP3_7",
        "outputId": "225d107e-c4f4-45e7-aba7-cd6a36a30914"
      },
      "outputs": [
        {
          "output_type": "stream",
          "name": "stderr",
          "text": [
            "/usr/local/lib/python3.10/dist-packages/ipykernel/ipkernel.py:283: DeprecationWarning: `should_run_async` will not call `transform_cell` automatically in the future. Please pass the result to `transformed_cell` argument and any exception that happen during thetransform in `preprocessing_exc_tuple` in IPython 7.17 and above.\n",
            "  and should_run_async(code)\n"
          ]
        }
      ],
      "source": [
        "dictionary = corpora.Dictionary(tokenized_reviews)\n",
        "doc_term_matrix = [dictionary.doc2bow(rev) for rev in tokenized_reviews]"
      ]
    },
    {
      "cell_type": "code",
      "execution_count": null,
      "metadata": {
        "colab": {
          "base_uri": "https://localhost:8080/"
        },
        "id": "fQ8EVV4KP3_7",
        "outputId": "6e57f4aa-17bf-4815-f73e-b1d11bbb2abb"
      },
      "outputs": [
        {
          "output_type": "stream",
          "name": "stderr",
          "text": [
            "/usr/local/lib/python3.10/dist-packages/ipykernel/ipkernel.py:283: DeprecationWarning: `should_run_async` will not call `transform_cell` automatically in the future. Please pass the result to `transformed_cell` argument and any exception that happen during thetransform in `preprocessing_exc_tuple` in IPython 7.17 and above.\n",
            "  and should_run_async(code)\n"
          ]
        }
      ],
      "source": [
        "# Creating the object for LDA model using gensim library\n",
        "LDA = gensim.models.ldamodel.LdaModel\n",
        "\n",
        "# Build LDA model\n",
        "lda_model = LDA(corpus=doc_term_matrix, id2word=dictionary, num_topics=10, random_state=100,\n",
        "                chunksize=1000, passes=50,iterations=100)"
      ]
    },
    {
      "cell_type": "code",
      "execution_count": null,
      "metadata": {
        "colab": {
          "base_uri": "https://localhost:8080/"
        },
        "id": "dgiLOrP6P3_7",
        "outputId": "a029979c-b61f-4f70-fb3a-37bdd7ab6b20"
      },
      "outputs": [
        {
          "output_type": "stream",
          "name": "stderr",
          "text": [
            "/usr/local/lib/python3.10/dist-packages/ipykernel/ipkernel.py:283: DeprecationWarning: `should_run_async` will not call `transform_cell` automatically in the future. Please pass the result to `transformed_cell` argument and any exception that happen during thetransform in `preprocessing_exc_tuple` in IPython 7.17 and above.\n",
            "  and should_run_async(code)\n"
          ]
        },
        {
          "output_type": "execute_result",
          "data": {
            "text/plain": [
              "[(0,\n",
              "  '0.043*\"patient\" + 0.040*\"mental\" + 0.035*\"health\" + 0.019*\"approach\" + 0.018*\"expertise\" + 0.018*\"issue\" + 0.017*\"kind\" + 0.015*\"ability\" + 0.014*\"area\" + 0.014*\"understanding\"'),\n",
              " (1,\n",
              "  '0.269*\"good\" + 0.176*\"therapist\" + 0.038*\"listener\" + 0.029*\"friend\" + 0.027*\"advice\" + 0.016*\"therapy\" + 0.014*\"family\" + 0.014*\"attention\" + 0.013*\"perfect\" + 0.013*\"incredible\"'),\n",
              " (2,\n",
              "  '0.098*\"helpful\" + 0.046*\"question\" + 0.037*\"concern\" + 0.037*\"thing\" + 0.032*\"problem\" + 0.030*\"issue\" + 0.028*\"situation\" + 0.025*\"perspective\" + 0.020*\"advice\" + 0.019*\"solution\"'),\n",
              " (3,\n",
              "  '0.336*\"great\" + 0.074*\"listener\" + 0.050*\"advice\" + 0.038*\"counselor\" + 0.026*\"help\" + 0.019*\"insight\" + 0.016*\"deal\" + 0.014*\"experience\" + 0.013*\"feedback\" + 0.013*\"wonderful\"'),\n",
              " (4,\n",
              "  '0.105*\"amazing\" + 0.081*\"counselor\" + 0.049*\"help\" + 0.035*\"well\" + 0.029*\"thank\" + 0.027*\"listen\" + 0.025*\"thing\" + 0.024*\"person\" + 0.023*\"love\" + 0.020*\"much\"'),\n",
              " (5,\n",
              "  '0.074*\"supportive\" + 0.058*\"compassionate\" + 0.055*\"helpful\" + 0.049*\"kind\" + 0.046*\"counselor\" + 0.042*\"understanding\" + 0.042*\"attentive\" + 0.039*\"responsive\" + 0.036*\"professional\" + 0.032*\"awesome\"'),\n",
              " (6,\n",
              "  '0.092*\"talk\" + 0.073*\"easy\" + 0.056*\"comfortable\" + 0.041*\"open\" + 0.034*\"safe\" + 0.032*\"wonderful\" + 0.025*\"knowledgeable\" + 0.024*\"client\" + 0.023*\"space\" + 0.022*\"friendly\"'),\n",
              " (7,\n",
              "  '0.082*\"issue\" + 0.064*\"anxiety\" + 0.037*\"work\" + 0.027*\"life\" + 0.026*\"personal\" + 0.026*\"tool\" + 0.026*\"many\" + 0.021*\"relationship\" + 0.018*\"depression\" + 0.018*\"way\"'),\n",
              " (8,\n",
              "  '0.161*\"session\" + 0.045*\"week\" + 0.044*\"first\" + 0.042*\"therapy\" + 0.041*\"time\" + 0.025*\"counseling\" + 0.023*\"comfortable\" + 0.021*\"experience\" + 0.018*\"message\" + 0.017*\"nice\"'),\n",
              " (9,\n",
              "  '0.086*\"time\" + 0.079*\"life\" + 0.026*\"help\" + 0.025*\"month\" + 0.022*\"grateful\" + 0.021*\"support\" + 0.021*\"difficult\" + 0.019*\"thing\" + 0.019*\"short\" + 0.015*\"year\"')]"
            ]
          },
          "metadata": {},
          "execution_count": 25
        }
      ],
      "source": [
        "lda_model.print_topics()"
      ]
    },
    {
      "cell_type": "code",
      "execution_count": null,
      "metadata": {
        "colab": {
          "base_uri": "https://localhost:8080/",
          "height": 918
        },
        "id": "u-0kDVIGP3_7",
        "outputId": "40720ce0-341c-4a6e-81c4-c0794076f49a"
      },
      "outputs": [
        {
          "output_type": "stream",
          "name": "stderr",
          "text": [
            "/usr/local/lib/python3.10/dist-packages/ipykernel/ipkernel.py:283: DeprecationWarning: `should_run_async` will not call `transform_cell` automatically in the future. Please pass the result to `transformed_cell` argument and any exception that happen during thetransform in `preprocessing_exc_tuple` in IPython 7.17 and above.\n",
            "  and should_run_async(code)\n"
          ]
        },
        {
          "output_type": "execute_result",
          "data": {
            "text/plain": [
              "PreparedData(topic_coordinates=              x         y  topics  cluster       Freq\n",
              "topic                                                \n",
              "9     -0.233591  0.041198       1        1  17.022080\n",
              "8     -0.148088  0.088346       2        1  12.058944\n",
              "2      0.006225 -0.109084       3        1  11.921188\n",
              "4     -0.108693  0.098902       4        1   9.692961\n",
              "7     -0.203726 -0.028688       5        1   8.995070\n",
              "6      0.073200 -0.145886       6        1   8.904515\n",
              "0      0.016655 -0.209812       7        1   8.653608\n",
              "3      0.165520  0.150120       8        1   8.211926\n",
              "5      0.230886 -0.189584       9        1   7.826019\n",
              "1      0.201612  0.304489      10        1   6.713688, topic_info=          Term          Freq         Total Category  logprob  loglift\n",
              "36       great  25953.000000  25953.000000  Default  30.0000  30.0000\n",
              "45        good  16994.000000  16994.000000  Default  29.0000  29.0000\n",
              "11     session  18262.000000  18262.000000  Default  28.0000  28.0000\n",
              "55   therapist  11123.000000  11123.000000  Default  27.0000  27.0000\n",
              "18     helpful  15007.000000  15007.000000  Default  26.0000  26.0000\n",
              "..         ...           ...           ...      ...      ...      ...\n",
              "259     enough    504.592956   2051.052970  Topic10  -4.8287   1.2987\n",
              "221     honest    485.747844   2204.348166  Topic10  -4.8667   1.1885\n",
              "102      thing    611.607260  12027.410511  Topic10  -4.6363  -0.2778\n",
              "67      person    535.757057   5764.204850  Topic10  -4.7687   0.3253\n",
              "104   feedback    449.692458   2855.119375  Topic10  -4.9439   0.8527\n",
              "\n",
              "[544 rows x 6 columns], token_table=      Topic      Freq     Term\n",
              "term                          \n",
              "296       5  0.242100  ability\n",
              "296       7  0.757420  ability\n",
              "39        1  0.301453     able\n",
              "39        2  0.154570     able\n",
              "39        3  0.144368     able\n",
              "...     ...       ...      ...\n",
              "997       8  0.996448    worry\n",
              "354       1  0.998753    worth\n",
              "249       1  0.632218     year\n",
              "249       5  0.189314     year\n",
              "249      10  0.178512     year\n",
              "\n",
              "[651 rows x 3 columns], R=30, lambda_step=0.01, plot_opts={'xlab': 'PC1', 'ylab': 'PC2'}, topic_order=[10, 9, 3, 5, 8, 7, 1, 4, 6, 2])"
            ],
            "text/html": [
              "\n",
              "<link rel=\"stylesheet\" type=\"text/css\" href=\"https://cdn.jsdelivr.net/gh/bmabey/pyLDAvis@3.4.0/pyLDAvis/js/ldavis.v1.0.0.css\">\n",
              "\n",
              "\n",
              "<div id=\"ldavis_el5291400309453054082304387484\" style=\"background-color:white;\"></div>\n",
              "<script type=\"text/javascript\">\n",
              "\n",
              "var ldavis_el5291400309453054082304387484_data = {\"mdsDat\": {\"x\": [-0.23359097131072343, -0.14808786290849135, 0.006225429752048834, -0.10869287841602626, -0.20372647878802097, 0.07319984249116152, 0.016654676810157445, 0.16552022803994215, 0.23088623972759403, 0.20161177460235774], \"y\": [0.0411978795391144, 0.08834582416251967, -0.10908415804721387, 0.0989016763632221, -0.02868785493359104, -0.1458864221913417, -0.20981195863827654, 0.1501197551374733, -0.18958401866364272, 0.3044892772717366], \"topics\": [1, 2, 3, 4, 5, 6, 7, 8, 9, 10], \"cluster\": [1, 1, 1, 1, 1, 1, 1, 1, 1, 1], \"Freq\": [17.022079919983778, 12.058943665720355, 11.92118752152519, 9.692961365307067, 8.995070424800454, 8.904515334795477, 8.65360787496277, 8.211926497971676, 7.826019000401054, 6.713688394532177]}, \"tinfo\": {\"Term\": [\"great\", \"good\", \"session\", \"therapist\", \"helpful\", \"amazing\", \"time\", \"counselor\", \"talk\", \"life\", \"issue\", \"listener\", \"easy\", \"supportive\", \"anxiety\", \"comfortable\", \"help\", \"question\", \"advice\", \"compassionate\", \"week\", \"first\", \"kind\", \"therapy\", \"concern\", \"patient\", \"open\", \"understanding\", \"mental\", \"well\", \"month\", \"difficult\", \"short\", \"change\", \"tough\", \"past\", \"confidence\", \"healthy\", \"huge\", \"period\", \"direction\", \"amount\", \"path\", \"negative\", \"strong\", \"encouragement\", \"daily\", \"effort\", \"stressful\", \"term\", \"outlook\", \"worth\", \"circumstance\", \"transition\", \"move\", \"entire\", \"today\", \"significant\", \"overwhelmed\", \"treatment\", \"life\", \"time\", \"trauma\", \"several\", \"support\", \"hard\", \"long\", \"last\", \"grateful\", \"self\", \"guidance\", \"year\", \"positive\", \"help\", \"much\", \"well\", \"thing\", \"situation\", \"thank\", \"able\", \"tool\", \"work\", \"thought\", \"right\", \"progress\", \"many\", \"session\", \"week\", \"first\", \"nice\", \"couple\", \"video\", \"schedule\", \"online\", \"sweet\", \"flexible\", \"chat\", \"meeting\", \"phone\", \"ease\", \"next\", \"appointment\", \"weekly\", \"live\", \"text\", \"nervous\", \"counselling\", \"opening\", \"look\", \"hour\", \"lovely\", \"interested\", \"wellbeing\", \"minute\", \"speak\", \"pleasant\", \"sure\", \"check\", \"therapy\", \"moment\", \"message\", \"counseling\", \"comfortable\", \"experience\", \"time\", \"conversation\", \"day\", \"work\", \"well\", \"able\", \"happy\", \"thing\", \"progress\", \"question\", \"concern\", \"solution\", \"response\", \"manner\", \"timely\", \"listening\", \"useful\", \"exercise\", \"answer\", \"tip\", \"personality\", \"specific\", \"fear\", \"sharing\", \"reply\", \"lot\", \"appropriate\", \"everyday\", \"figure\", \"make\", \"spot\", \"addition\", \"member\", \"particular\", \"challenging\", \"course\", \"activity\", \"perceptive\", \"mindful\", \"helpful\", \"practical\", \"suggestion\", \"perspective\", \"problem\", \"different\", \"situation\", \"right\", \"idea\", \"worksheet\", \"thing\", \"issue\", \"emotional\", \"technique\", \"thought\", \"advice\", \"insight\", \"way\", \"feeling\", \"time\", \"thoughtful\", \"help\", \"work\", \"understanding\", \"supportive\", \"able\", \"amazing\", \"listen\", \"world\", \"hope\", \"view\", \"connection\", \"option\", \"platform\", \"excited\", \"face\", \"side\", \"pandemic\", \"afraid\", \"expectation\", \"actionable\", \"tell\", \"version\", \"remember\", \"home\", \"review\", \"straight\", \"panic\", \"concrete\", \"constant\", \"vulnerable\", \"attack\", \"satisfied\", \"ruth\", \"doctor\", \"super\", \"fantastic\", \"love\", \"counselor\", \"thank\", \"willing\", \"step\", \"point\", \"people\", \"real\", \"well\", \"happy\", \"help\", \"person\", \"glad\", \"much\", \"betterhelp\", \"thing\", \"lucky\", \"life\", \"thankful\", \"need\", \"many\", \"grateful\", \"able\", \"counseling\", \"friend\", \"anxiety\", \"personal\", \"depression\", \"strategy\", \"growth\", \"part\", \"healing\", \"effective\", \"multiple\", \"intuitive\", \"comfort\", \"smart\", \"stuff\", \"funny\", \"aspect\", \"present\", \"discussion\", \"opportunity\", \"hopeful\", \"invaluable\", \"major\", \"aware\", \"skilled\", \"high\", \"mood\", \"crisis\", \"general\", \"relevant\", \"therapeutic\", \"objective\", \"issue\", \"root\", \"method\", \"relationship\", \"many\", \"tool\", \"work\", \"service\", \"resource\", \"process\", \"level\", \"way\", \"family\", \"life\", \"able\", \"therapy\", \"approach\", \"challenge\", \"different\", \"goal\", \"insight\", \"talk\", \"easy\", \"open\", \"safe\", \"client\", \"space\", \"friendly\", \"respectful\", \"earth\", \"pace\", \"talking\", \"grief\", \"anxious\", \"express\", \"truth\", \"professionalism\", \"prompt\", \"order\", \"hesitant\", \"material\", \"judge\", \"free\", \"meaningful\", \"journal\", \"input\", \"appreciative\", \"judgemental\", \"knowledgable\", \"social\", \"corner\", \"honest\", \"share\", \"comfortable\", \"judgement\", \"knowledgeable\", \"wonderful\", \"feeling\", \"warm\", \"thought\", \"kind\", \"patient\", \"understanding\", \"professional\", \"empathetic\", \"thing\", \"person\", \"process\", \"experience\", \"work\", \"conversation\", \"able\", \"mental\", \"health\", \"area\", \"heart\", \"quick\", \"variety\", \"wise\", \"matter\", \"wisdom\", \"human\", \"kindness\", \"presence\", \"true\", \"direct\", \"behavior\", \"impact\", \"energy\", \"rough\", \"state\", \"blessing\", \"boundary\", \"difficulty\", \"demeanor\", \"field\", \"simple\", \"sensitive\", \"competent\", \"email\", \"result\", \"dark\", \"patient\", \"gentle\", \"ability\", \"trust\", \"expertise\", \"calm\", \"approach\", \"word\", \"deep\", \"empathy\", \"important\", \"kind\", \"professional\", \"issue\", \"understanding\", \"grateful\", \"problem\", \"knowledgeable\", \"journey\", \"care\", \"experience\", \"great\", \"deal\", \"humor\", \"various\", \"beneficial\", \"judgmental\", \"system\", \"faith\", \"break\", \"one\", \"tremendous\", \"habit\", \"pleased\", \"crazy\", \"minded\", \"eye\", \"normal\", \"reflection\", \"anger\", \"worry\", \"accessible\", \"think\", \"valid\", \"vent\", \"councilor\", \"ptsd\", \"mother\", \"ryan\", \"checking\", \"christian\", \"listener\", \"full\", \"advice\", \"sense\", \"insight\", \"counselor\", \"feedback\", \"help\", \"knowledge\", \"empathetic\", \"experience\", \"wonderful\", \"support\", \"problem\", \"suggestion\", \"person\", \"knowledgeable\", \"situation\", \"mind\", \"communication\", \"tool\", \"idea\", \"need\", \"compassionate\", \"attentive\", \"responsive\", \"awesome\", \"caring\", \"personable\", \"working\", \"clear\", \"encouraging\", \"call\", \"intelligent\", \"relatable\", \"individual\", \"style\", \"nonjudgemental\", \"mechanism\", \"outstanding\", \"show\", \"scheduling\", \"fortunate\", \"sincere\", \"informative\", \"absolute\", \"respond\", \"experienced\", \"concerned\", \"team\", \"article\", \"advise\", \"serious\", \"supportive\", \"excellent\", \"insightful\", \"thoughtful\", \"kind\", \"professional\", \"understanding\", \"communication\", \"warm\", \"nonjudgmental\", \"helpful\", \"counselor\", \"need\", \"work\", \"resource\", \"grateful\", \"good\", \"therapist\", \"attention\", \"perfect\", \"action\", \"match\", \"constructive\", \"environment\", \"choice\", \"pleasure\", \"active\", \"close\", \"solid\", \"heather\", \"phenomenal\", \"wish\", \"fresh\", \"example\", \"offer\", \"big\", \"stuck\", \"picture\", \"childhood\", \"manageable\", \"task\", \"format\", \"offering\", \"complicated\", \"angel\", \"abuse\", \"detail\", \"hand\", \"friend\", \"incredible\", \"family\", \"listener\", \"reason\", \"plan\", \"advice\", \"excellent\", \"therapy\", \"year\", \"enough\", \"honest\", \"thing\", \"person\", \"feedback\"], \"Freq\": [25953.0, 16994.0, 18262.0, 11123.0, 15007.0, 9557.0, 20485.0, 13663.0, 7713.0, 16648.0, 11793.0, 8079.0, 6117.0, 6541.0, 5385.0, 7318.0, 11966.0, 5196.0, 8592.0, 4251.0, 5088.0, 5016.0, 6137.0, 7142.0, 4109.0, 4569.0, 3427.0, 6403.0, 3285.0, 6685.0, 4057.0207661478485, 3355.5882833017436, 2987.205706049999, 2291.6762553067574, 1571.0964639135743, 1364.9878219941215, 1300.5935190935254, 1297.2993232380409, 1118.6207842164588, 962.1737464740429, 905.7045845026618, 873.1559627663805, 805.1449725164421, 801.0050280054323, 792.1065274414875, 718.1230006849509, 644.722998038229, 573.8086903962551, 539.7875511932748, 538.1804574078751, 508.38016494790486, 456.6468378685379, 359.7208982306442, 353.967155329373, 353.25378537206586, 352.29063163584783, 341.25082927022834, 334.06449854899114, 307.79535385466676, 307.6201960526494, 12711.856918534884, 13731.877027314553, 1113.6693590303294, 966.6485487501002, 3416.6517385069433, 1111.86507536638, 1152.0568721496281, 1058.5742685775917, 3598.9287879491308, 1414.6027919195635, 1908.3458360109962, 2340.50261470922, 2270.1693728219448, 4162.032459249204, 1992.4996523781724, 2309.7173040516204, 3040.468279002758, 2044.7066225432284, 1806.3108384771087, 2156.7818403534343, 1728.4904898449302, 1935.465515703761, 1412.657711553514, 1294.0300089161547, 1230.9273108944008, 1267.175384602264, 18261.943549940584, 5087.6482277352325, 5015.202239248958, 1932.9748411356393, 1578.223839165028, 1382.1237551856734, 1365.0602617875888, 1114.474328065094, 1022.4950869778138, 980.3405119865018, 978.2322607655462, 902.4370723447497, 889.1254512756972, 875.5199268560513, 806.7262772602706, 801.585369882286, 715.3114108239594, 651.5178124304165, 644.0680564826516, 540.6184573894991, 513.4944343403183, 493.9072458039014, 478.4284767390212, 458.9330109577365, 433.7320520479469, 403.89724688290596, 345.608174844828, 334.0910319008516, 328.4942286539318, 308.81922270408563, 1545.4338513783632, 1350.666544417483, 4771.046186765983, 942.3908289617679, 1996.0235219867823, 2829.851129094446, 2623.715372436186, 2368.4983367526092, 4624.16902961101, 1144.60921124261, 752.8951000012585, 1444.5272102576184, 1194.6596483089206, 1106.441251281612, 879.8988704028513, 900.5364375327067, 815.8496304524268, 5195.157743519497, 4108.879723012483, 2174.211563249307, 2146.8657083212306, 1795.424611595673, 1381.2087954365024, 1237.4633244881363, 1038.5782991460012, 954.1496911233097, 928.5692326845002, 894.7953686941393, 641.0854383531984, 590.7042843436149, 459.17509832780365, 438.14769124008825, 423.66766277454417, 421.8978316643899, 405.2318220474173, 403.84164665723455, 395.88549332315864, 312.1422429156114, 307.45975280661594, 277.2604280255425, 257.7050281263849, 242.9547225607567, 235.44140525129498, 219.97339542404967, 217.95573422130306, 198.98275656069177, 190.82036726934672, 10965.259389608857, 1497.4127664176424, 1652.488745905314, 2803.8818178902557, 3637.0502513804604, 2152.934147887563, 3116.3813086473547, 1999.6162608076968, 999.6865696195233, 913.6406292731936, 4102.322744740391, 3377.4229194434106, 701.8561786938028, 854.149094456566, 1616.21824252736, 2224.413975951123, 1434.5693886182903, 1464.1878563211305, 1337.260763346227, 2128.8373570816448, 1133.5172717038822, 1381.9647678677773, 1211.1746831796152, 1102.1342422639423, 1083.994347266036, 1033.0145716086647, 9556.991496146333, 2466.2994003307354, 945.0565385181709, 927.7726948420999, 756.5653216176598, 692.1635096395595, 677.6496318098177, 628.5418932546731, 591.1046370085254, 549.8571824053485, 488.46573255602317, 475.8652682988951, 473.1354745505853, 437.7774107144957, 416.32771623177035, 385.81151434704253, 348.73292239736196, 305.37337838094396, 291.8761049113247, 287.2722000706706, 278.6707472733009, 265.70044095008774, 258.0372420745704, 255.17666630071258, 248.47515860592367, 243.7876856204983, 237.76293142703275, 237.01845379214228, 227.51266216517647, 215.66397184796458, 1561.1462691574013, 2116.5097863159876, 7347.316039364651, 2646.1514527177847, 859.4393198053508, 1106.8619439909382, 1285.2212232741813, 1383.5710881421533, 977.2777002377429, 3180.1345902913895, 1772.251619918287, 4445.272140097019, 2230.7612692614393, 1138.620638748939, 1779.4785252054937, 1048.7260884759323, 2263.5372895259898, 692.7026302242788, 1645.902014832651, 795.910476787274, 751.862513665567, 781.4966262089893, 780.4896512746856, 792.2831951004241, 761.7511279943033, 712.3378354560181, 5384.761914173864, 2184.650745283795, 1561.740460333343, 1371.8765574397244, 1127.5646642706158, 1101.0060746728368, 963.5850880576294, 869.6815371507283, 783.6021602182929, 634.8284961225105, 612.8786951179701, 583.9785299224715, 573.1402889085756, 561.6674266611832, 538.7489041558748, 532.0326896514644, 466.67630793480413, 461.8388415458096, 459.20879101483143, 431.9224793078522, 431.33730192208674, 428.0104316867403, 413.26628416657803, 402.6458165329751, 391.59657311156474, 378.03155900787294, 360.0785608825375, 353.4692647622333, 333.12005086350104, 317.77399535623124, 6969.835934024162, 970.3642489892068, 786.4850199770804, 1770.5717475531987, 2162.227173015367, 2173.6521660598605, 3169.61077088385, 1003.3115663324199, 1263.5868151491406, 1217.2039195074424, 718.1693688611502, 1553.761577504114, 899.7763066481738, 2290.0162146565044, 1478.5436282307285, 1332.5765717177346, 943.0569945059593, 783.0120620674268, 894.9778914510177, 837.6568042146998, 722.0700003072287, 7712.284674099231, 6116.796867410175, 3426.962157683274, 2880.214724177086, 2018.9799519227004, 1944.5780025747388, 1837.3419580323923, 1490.1923030323758, 730.6435722707992, 504.07295352864463, 501.32526984388016, 493.7168032498281, 474.5549947039629, 466.14947849278246, 443.9270196814478, 435.20471784773594, 433.3235669594544, 427.61616482892236, 399.60633782758526, 386.0172517331441, 376.33987768427636, 374.2837912984498, 325.43781766881847, 321.6972610487781, 313.37317226511396, 310.71535297271726, 263.56820995396384, 257.2623094114698, 254.6456227583377, 249.77414263495436, 1717.7844375235054, 1274.5356874644172, 4694.307290844945, 938.1349984739487, 2074.2477223233172, 2669.9753804702846, 1782.4417509226744, 893.9428390684942, 1337.3467669291474, 1180.8047880359566, 1038.0137758468757, 1079.839064595414, 958.5225245970661, 757.467508845361, 1108.5259141850447, 863.4252655306183, 687.504377254667, 745.7512340988862, 771.723056708351, 562.4028940174987, 587.8703692869707, 3284.2791474978, 2878.2077416536963, 1164.3181104331047, 1072.2878874048436, 966.392895919061, 884.4976808558561, 816.120253363613, 789.0561229293444, 782.5418805875634, 765.8798296324333, 674.2636204714362, 622.6020975493294, 617.3560283102929, 610.6598501270979, 595.9603506369779, 582.5972312542623, 571.2005641258293, 553.9609691279096, 506.29855051678095, 445.7613307450829, 424.26703505947773, 420.32288264398085, 419.97094055941403, 418.6804988732491, 402.1980357116213, 392.3002184573841, 386.2567218501522, 384.4463390385146, 372.3168537311977, 371.246257498698, 3530.557561169889, 1032.2826802641118, 1217.205465852065, 1054.5054388784422, 1480.6902231339056, 891.9899230245879, 1569.995725919377, 990.3994892549307, 790.4385929449505, 635.863644923995, 820.5460964466666, 1370.2277482555587, 1105.631303902764, 1445.8786707433435, 1119.714592303033, 944.0615211529456, 920.0002410237782, 836.7490661633249, 777.9247094714491, 741.7342470088888, 820.5061796321683, 25952.625163865127, 1263.9993051770766, 693.5288248258368, 616.302104713445, 482.97016212497624, 461.3986033785533, 400.8435512713744, 365.15592984911706, 361.9105878092699, 359.5169944166773, 358.06460124868164, 311.33026707543263, 305.41115305843607, 300.50179245357396, 296.80611976290726, 285.38524856606887, 284.67218759939476, 277.09514663745534, 270.2235655941355, 235.91987399924002, 226.8084455849712, 220.42793177861697, 218.14404145546504, 205.47003955369863, 199.27223841074698, 195.61737418374943, 189.7344504995708, 178.95835662258023, 160.75726071412325, 159.4331689246381, 5698.445421301638, 522.5139048385613, 3866.6967750381114, 795.6260304178764, 1504.141678171629, 2907.616297825853, 1001.2754582995401, 1976.8499582189784, 579.9991038782367, 766.4955797840653, 1106.623540500696, 996.1501596462801, 834.2844217422162, 704.8153928709962, 487.3370450945648, 583.0618051322042, 516.0798243082099, 531.3185060766303, 409.62439698810016, 385.8228021526144, 404.6663573308032, 381.6483712507915, 373.38734378022144, 4250.203872186415, 3074.3528895431737, 2887.144733968207, 2322.1015820340594, 1483.7977454839183, 1099.8244185908318, 1007.2950332824688, 819.9166558443749, 776.1236051927334, 738.352093011965, 735.2672755535742, 715.6592924153475, 634.6082036618135, 586.703729892748, 459.6705441777223, 366.94572910054495, 355.02732169235713, 313.43986003867263, 300.2155050165882, 293.9299685334435, 279.61982407375746, 270.3583847247263, 261.57116910142327, 258.8347755894309, 250.6562315638295, 239.13810240803113, 228.47051744498657, 226.16613469165887, 213.9072321824075, 213.637000693458, 5456.974543146001, 2221.5073793995953, 2163.060658073545, 2167.254486382656, 3586.067895000514, 2653.113989576386, 3101.355762513984, 773.3912874154919, 1133.3007913415368, 621.6260637334998, 4041.3955554268045, 3407.421933390752, 887.6903022744465, 871.0751414388034, 599.3995408923396, 567.2749078342038, 16993.495490406818, 11123.011845294595, 854.4117526827282, 837.1735937681211, 740.4640358060838, 653.2212532430934, 649.6859695058755, 630.102080696116, 566.4244284979876, 520.195838180389, 445.27859750786143, 435.00631851299784, 392.68034390252046, 364.57809663952304, 362.5074396848788, 317.14047230900263, 314.2526471615133, 289.58546212322864, 280.6289320440775, 275.6749747478443, 240.72967841618168, 232.83126244406466, 230.52048226721328, 225.42458122225167, 220.92667441160904, 205.909269665552, 197.6974227392722, 187.261295821663, 183.54908923555905, 176.41718713568937, 593.9185594771035, 649.3561875485732, 1813.7095638804099, 806.0519200223923, 892.9382419023826, 2379.9028746952063, 399.3709158269037, 451.2951202623878, 1678.0552953533652, 733.0397107794454, 1038.0360741618433, 661.1208591803985, 504.59295587088, 485.7478444608363, 611.6072597792083, 535.757057017388, 449.6924575179995], \"Total\": [25953.0, 16994.0, 18262.0, 11123.0, 15007.0, 9557.0, 20485.0, 13663.0, 7713.0, 16648.0, 11793.0, 8079.0, 6117.0, 6541.0, 5385.0, 7318.0, 11966.0, 5196.0, 8592.0, 4251.0, 5088.0, 5016.0, 6137.0, 7142.0, 4109.0, 4569.0, 3427.0, 6403.0, 3285.0, 6685.0, 4057.944707568621, 3356.512226405821, 2988.129604798161, 2292.600205178752, 1572.0204042702112, 1365.911752817619, 1301.5174687046479, 1298.2232815666434, 1119.5447076312703, 963.0976307166758, 906.6285427431914, 874.0798532774074, 806.0689315934012, 801.928966554246, 793.0304809965853, 719.0469967375695, 645.6469358424347, 574.7326694332013, 540.7115175733077, 539.1044030987028, 509.30410690202115, 457.5707592841372, 360.6448494202714, 354.8910814435183, 354.17774285002486, 353.2145993986975, 342.17474984250345, 334.98847311073985, 308.71937823175983, 308.544220283782, 16648.493050210953, 20485.60459347211, 1354.5748944452394, 1151.1190439355362, 5107.178955004573, 1364.4304714629225, 1448.5389738651172, 1323.0365647051474, 5925.425363596556, 1885.0656026247773, 2798.713764917411, 3702.837328791853, 4019.8585224116546, 11966.740614750343, 4557.969305882836, 6685.2312004928945, 12027.41051149934, 5693.128847441228, 4453.285144823462, 7155.349288528895, 5255.340969777027, 9597.78177421632, 4366.946421974859, 3294.470655916703, 2544.9606200624858, 4211.617109403392, 18262.863649075105, 5088.56832974066, 5016.122317025036, 1933.894930225743, 1579.143910995434, 1383.0438082656708, 1365.9803530047204, 1115.3944111905257, 1023.4152248971272, 981.2606402514945, 979.152320508102, 903.3571547481132, 890.0455685426631, 876.4400180326725, 807.6463691093247, 802.505464631452, 716.2314913235027, 652.437898421213, 644.988134440153, 541.5385009974982, 514.414504305247, 494.82738708011453, 479.3486321450364, 459.8530869994653, 434.6521134528978, 404.81736665730267, 346.528365707042, 335.0111118344734, 329.414452783813, 309.7393502924741, 1806.4668202120251, 1662.4888795619677, 7142.367242060677, 1156.0219605619839, 2871.046579618186, 5421.18827214735, 7318.842086735063, 6682.258008089037, 20485.60459347211, 2609.7049245147077, 1151.3959145141653, 9597.78177421632, 6685.2312004928945, 7155.349288528895, 3304.943080764993, 12027.41051149934, 2544.9606200624858, 5196.081452743618, 4109.803449216617, 2175.1352480448204, 2147.7894229417366, 1796.3482910395956, 1382.1324523267099, 1238.3870707620486, 1039.502030012692, 955.073427329319, 929.4929386942933, 895.7190803949719, 642.0092171997496, 591.6280258476335, 460.09890331168134, 439.07145404086936, 424.5913852164164, 422.82153082881376, 406.1556180671678, 404.7654213583741, 396.8091972989713, 313.06600958288215, 308.38346312701367, 278.1843201925296, 258.6289362402799, 243.87843952575858, 236.36521393519135, 220.89719225937256, 218.87953562629158, 199.90648209664678, 191.74410793287154, 15007.477168172449, 1759.307750201108, 2140.6475374282604, 3908.3383118845086, 5262.583532296845, 3510.8157576762706, 5693.128847441228, 3294.470655916703, 1382.1567281679397, 1315.0583041428451, 12027.41051149934, 11793.85220195732, 994.8134544638341, 1380.601339174085, 4366.946421974859, 8592.025681776902, 4234.572801408312, 4546.77900204935, 4252.07814631908, 20485.60459347211, 3301.5940044661343, 11966.740614750343, 9597.78177421632, 6403.661100694396, 6541.791113130086, 7155.349288528895, 9557.913640770847, 2467.22157600941, 945.9787203004573, 928.6948737760597, 757.4874829284661, 693.0857316426794, 678.5718660818668, 629.4640762115661, 592.0268128609733, 550.7793627413862, 489.3879369000786, 476.78755036839544, 474.0576810508911, 438.69963965851946, 417.24993402661124, 386.73367611302814, 349.65511475405134, 306.29566444946516, 292.7983461815062, 288.1943954522485, 279.5929107865592, 266.62272415447114, 258.95946315488396, 256.0989486327978, 249.3973845113805, 244.7098938305461, 238.6850998867963, 237.94156009523786, 228.43482556239596, 216.58617628290378, 1879.639234455794, 2885.941667901634, 13663.073021290793, 4453.285144823462, 1159.667919552462, 1601.849243798666, 1941.6675797367855, 2172.1982295566318, 1413.1731059603796, 6685.2312004928945, 3304.943080764993, 11966.740614750343, 5764.204849894777, 2218.7204155030877, 4557.969305882836, 2020.3005309520202, 12027.41051149934, 1255.8011951188398, 16648.493050210953, 2442.995873508052, 3158.898983569135, 4211.617109403392, 5925.425363596556, 7155.349288528895, 5421.18827214735, 3681.760270764318, 5385.680244463818, 2185.5690855604507, 1562.6587698752874, 1372.7949103975618, 1128.4830088409992, 1101.9244502488532, 964.5034308073366, 870.5998853066116, 784.5205209838354, 635.7468508213675, 613.7970641738559, 584.8968963396303, 574.0586458788207, 562.585819071495, 539.6672480046491, 532.9510462494759, 467.5946855389208, 462.7572673602539, 460.1271948202838, 432.84084030838966, 432.25568622224614, 428.92879428058075, 414.18462327504164, 403.5641578261446, 392.5149749793324, 378.9500000614405, 360.9969217068809, 354.3876279657565, 334.0383807612589, 318.69235601527197, 11793.85220195732, 1178.1441204563143, 950.8903293661158, 2803.9133851392785, 4211.617109403392, 5255.340969777027, 9597.78177421632, 1748.0200600739004, 2817.0025548799176, 2731.2296264670376, 1066.5811768194303, 4546.77900204935, 1793.5261336431563, 16648.493050210953, 7155.349288528895, 7142.367242060677, 2842.5211228351513, 1746.805196019398, 3510.8157576762706, 3032.346465731772, 4234.572801408312, 7713.207263962232, 6117.719439727056, 3427.884757748216, 2881.1373212165126, 2019.9026129904585, 1945.500586737492, 1838.264560952505, 1491.1149254439858, 731.566158319468, 504.99556852050887, 502.24786262430507, 494.639484026635, 475.4776696593711, 467.0720675402807, 444.84968811632507, 436.1273974591893, 434.2461847313478, 428.5388311828295, 400.5289774472732, 386.9399035493536, 377.2625065285713, 375.20640168532606, 326.36049433751003, 322.6199014449704, 314.2958216560962, 311.63800475493537, 264.4908307634564, 258.18494399137165, 255.56851273596905, 250.69677431423037, 2204.348165565545, 1578.406364618147, 7318.842086735063, 1219.377421690089, 3427.7931645866333, 6149.705808033869, 4252.07814631908, 2028.0647824843697, 4366.946421974859, 6137.817450945937, 4569.389844356577, 6403.661100694396, 4717.984833705691, 2955.9355843801804, 12027.41051149934, 5764.204849894777, 2731.2296264670376, 6682.258008089037, 9597.78177421632, 2609.7049245147077, 7155.349288528895, 3285.1982709225417, 2879.126862660765, 1165.2373066097327, 1073.2070687061198, 967.3120912361215, 885.416864209825, 817.039435511648, 789.9752817671834, 783.4610429609598, 766.7989989093666, 675.1827909165027, 623.5212896558851, 618.2751702850452, 611.5790144534392, 596.8795200908722, 583.5164165781492, 572.1197543731124, 554.8801497801347, 507.2177589149475, 446.68052048498043, 425.1862216323895, 421.2420767663578, 420.89010073015385, 419.5996926984044, 403.1172101310246, 393.2193797982203, 387.17585834573964, 385.3656513065054, 373.23604487280886, 372.1654012224645, 4569.389844356577, 1211.8791796037267, 1606.7708006610217, 1375.3604354795489, 2114.5065514117655, 1208.7766523028922, 2842.5211228351513, 1631.2834898316664, 1321.7270261808183, 912.8573840486197, 1627.1253627890615, 6137.817450945937, 4717.984833705691, 11793.85220195732, 6403.661100694396, 5925.425363596556, 5262.583532296845, 3427.7931645866333, 2329.329185400372, 2548.950508757857, 6682.258008089037, 25953.546454461615, 1264.9206423697565, 694.4501379847501, 617.2235009276526, 483.8915200990986, 462.31990729092837, 401.76489684031134, 366.0772547628858, 362.83193332662756, 360.4383680126857, 358.98589641057384, 312.251668963271, 306.33248775056114, 301.42316119086547, 297.727533385038, 286.30660230842483, 285.5935574529332, 278.01651970828846, 271.1449211705052, 236.8412638381798, 227.72980200461535, 221.34924969366054, 219.06541371172284, 206.39134959456763, 200.19361054930602, 196.53876762694495, 190.6558521103124, 179.87982446668875, 161.6786148920876, 160.35449549947796, 8079.162818568723, 690.4468842039662, 8592.025681776902, 1597.3177766514216, 4234.572801408312, 13663.073021290793, 2855.1193752664926, 11966.740614750343, 1456.020354650392, 2955.9355843801804, 6682.258008089037, 6149.705808033869, 5107.178955004573, 5262.583532296845, 2140.6475374282604, 5764.204849894777, 3427.7931645866333, 5693.128847441228, 1531.4333796373223, 1160.0340086862902, 5255.340969777027, 1382.1567281679397, 3158.898983569135, 4251.125666471764, 3075.2746895941445, 2888.066512600304, 2323.0233496135506, 1484.719517760656, 1100.7462069490348, 1008.2168343260338, 820.8384623727319, 777.0454067168342, 739.2739477581895, 736.1890663524108, 716.581085817547, 635.5300175463007, 587.6255118402414, 460.59241193682413, 367.8675628764349, 355.9491956840839, 314.36178804316495, 301.13736003203655, 294.8518200683699, 280.5416482949608, 271.2801538958653, 262.4929825457024, 259.75658628530186, 251.57801652114932, 240.05999152728452, 229.39242599441437, 227.08807802126768, 214.8290595258664, 214.55889033217196, 6541.791113130086, 2955.362116045083, 2923.7625307979793, 3301.5940044661343, 6137.817450945937, 4717.984833705691, 6403.661100694396, 1160.0340086862902, 2028.0647824843697, 908.1231211469169, 15007.477168172449, 13663.073021290793, 3158.898983569135, 9597.78177421632, 2817.0025548799176, 5925.425363596556, 16994.41197726514, 11123.928340489383, 855.3282933531423, 838.090108074772, 741.3805562891497, 654.1377455232799, 650.6024758124582, 631.0186355331075, 567.3409686785579, 521.1123512320304, 446.1951087682124, 435.9228356810977, 393.5968863643452, 365.4945399131015, 363.4239485306801, 318.05696435440643, 315.1691605954298, 290.50215848532116, 281.54545038611525, 276.5914791681216, 241.64632005446524, 233.74775435493493, 231.43706233170928, 226.3412051587274, 221.84323211292983, 206.82582422407287, 198.61398479781596, 188.17784731301035, 184.46558395893152, 177.3337305942667, 738.8946497018167, 849.2216686931072, 3681.760270764318, 1466.0285324229208, 1793.5261336431563, 8079.162818568723, 585.8093081275567, 780.7188049775602, 8592.025681776902, 2955.362116045083, 7142.367242060677, 3702.837328791853, 2051.0529702803487, 2204.348165565545, 12027.41051149934, 5764.204849894777, 2855.1193752664926], \"Category\": [\"Default\", \"Default\", \"Default\", \"Default\", \"Default\", \"Default\", \"Default\", \"Default\", \"Default\", \"Default\", \"Default\", \"Default\", \"Default\", \"Default\", \"Default\", \"Default\", \"Default\", \"Default\", \"Default\", \"Default\", \"Default\", \"Default\", \"Default\", \"Default\", \"Default\", \"Default\", \"Default\", \"Default\", \"Default\", \"Default\", \"Topic1\", \"Topic1\", \"Topic1\", \"Topic1\", \"Topic1\", \"Topic1\", \"Topic1\", \"Topic1\", \"Topic1\", \"Topic1\", \"Topic1\", \"Topic1\", \"Topic1\", \"Topic1\", \"Topic1\", \"Topic1\", \"Topic1\", \"Topic1\", \"Topic1\", \"Topic1\", \"Topic1\", \"Topic1\", \"Topic1\", \"Topic1\", \"Topic1\", \"Topic1\", \"Topic1\", \"Topic1\", \"Topic1\", \"Topic1\", \"Topic1\", \"Topic1\", \"Topic1\", \"Topic1\", \"Topic1\", \"Topic1\", \"Topic1\", \"Topic1\", \"Topic1\", \"Topic1\", \"Topic1\", \"Topic1\", \"Topic1\", \"Topic1\", \"Topic1\", \"Topic1\", \"Topic1\", \"Topic1\", \"Topic1\", \"Topic1\", \"Topic1\", \"Topic1\", \"Topic1\", \"Topic1\", \"Topic1\", \"Topic1\", \"Topic2\", \"Topic2\", \"Topic2\", \"Topic2\", \"Topic2\", \"Topic2\", \"Topic2\", \"Topic2\", \"Topic2\", \"Topic2\", \"Topic2\", \"Topic2\", \"Topic2\", \"Topic2\", \"Topic2\", \"Topic2\", \"Topic2\", \"Topic2\", \"Topic2\", \"Topic2\", \"Topic2\", \"Topic2\", \"Topic2\", \"Topic2\", \"Topic2\", \"Topic2\", \"Topic2\", \"Topic2\", \"Topic2\", \"Topic2\", \"Topic2\", \"Topic2\", \"Topic2\", \"Topic2\", \"Topic2\", \"Topic2\", \"Topic2\", \"Topic2\", \"Topic2\", \"Topic2\", \"Topic2\", \"Topic2\", \"Topic2\", \"Topic2\", \"Topic2\", \"Topic2\", \"Topic2\", \"Topic3\", \"Topic3\", \"Topic3\", \"Topic3\", \"Topic3\", \"Topic3\", \"Topic3\", \"Topic3\", \"Topic3\", \"Topic3\", \"Topic3\", \"Topic3\", \"Topic3\", \"Topic3\", \"Topic3\", \"Topic3\", \"Topic3\", \"Topic3\", \"Topic3\", \"Topic3\", \"Topic3\", \"Topic3\", \"Topic3\", \"Topic3\", \"Topic3\", \"Topic3\", \"Topic3\", \"Topic3\", \"Topic3\", \"Topic3\", \"Topic3\", \"Topic3\", \"Topic3\", \"Topic3\", \"Topic3\", \"Topic3\", \"Topic3\", \"Topic3\", \"Topic3\", \"Topic3\", \"Topic3\", \"Topic3\", \"Topic3\", \"Topic3\", \"Topic3\", \"Topic3\", \"Topic3\", \"Topic3\", \"Topic3\", \"Topic3\", \"Topic3\", \"Topic3\", \"Topic3\", \"Topic3\", \"Topic3\", \"Topic3\", \"Topic4\", \"Topic4\", \"Topic4\", \"Topic4\", \"Topic4\", \"Topic4\", \"Topic4\", \"Topic4\", \"Topic4\", \"Topic4\", \"Topic4\", \"Topic4\", \"Topic4\", \"Topic4\", \"Topic4\", \"Topic4\", \"Topic4\", \"Topic4\", \"Topic4\", \"Topic4\", \"Topic4\", \"Topic4\", \"Topic4\", \"Topic4\", \"Topic4\", \"Topic4\", \"Topic4\", \"Topic4\", \"Topic4\", \"Topic4\", \"Topic4\", \"Topic4\", \"Topic4\", \"Topic4\", \"Topic4\", \"Topic4\", \"Topic4\", \"Topic4\", \"Topic4\", \"Topic4\", \"Topic4\", \"Topic4\", \"Topic4\", \"Topic4\", \"Topic4\", \"Topic4\", \"Topic4\", \"Topic4\", \"Topic4\", \"Topic4\", \"Topic4\", \"Topic4\", \"Topic4\", \"Topic4\", \"Topic4\", \"Topic4\", \"Topic5\", \"Topic5\", \"Topic5\", \"Topic5\", \"Topic5\", \"Topic5\", \"Topic5\", \"Topic5\", \"Topic5\", \"Topic5\", \"Topic5\", \"Topic5\", \"Topic5\", \"Topic5\", \"Topic5\", \"Topic5\", \"Topic5\", \"Topic5\", \"Topic5\", \"Topic5\", \"Topic5\", \"Topic5\", \"Topic5\", \"Topic5\", \"Topic5\", \"Topic5\", \"Topic5\", \"Topic5\", \"Topic5\", \"Topic5\", \"Topic5\", \"Topic5\", \"Topic5\", \"Topic5\", \"Topic5\", \"Topic5\", \"Topic5\", \"Topic5\", \"Topic5\", \"Topic5\", \"Topic5\", \"Topic5\", \"Topic5\", \"Topic5\", \"Topic5\", \"Topic5\", \"Topic5\", \"Topic5\", \"Topic5\", \"Topic5\", \"Topic5\", \"Topic6\", \"Topic6\", \"Topic6\", \"Topic6\", \"Topic6\", \"Topic6\", \"Topic6\", \"Topic6\", \"Topic6\", \"Topic6\", \"Topic6\", \"Topic6\", \"Topic6\", \"Topic6\", \"Topic6\", \"Topic6\", \"Topic6\", \"Topic6\", \"Topic6\", \"Topic6\", \"Topic6\", \"Topic6\", \"Topic6\", \"Topic6\", \"Topic6\", \"Topic6\", \"Topic6\", \"Topic6\", \"Topic6\", \"Topic6\", \"Topic6\", \"Topic6\", \"Topic6\", \"Topic6\", \"Topic6\", \"Topic6\", \"Topic6\", \"Topic6\", \"Topic6\", \"Topic6\", \"Topic6\", \"Topic6\", \"Topic6\", \"Topic6\", \"Topic6\", \"Topic6\", \"Topic6\", \"Topic6\", \"Topic6\", \"Topic6\", \"Topic6\", \"Topic7\", \"Topic7\", \"Topic7\", \"Topic7\", \"Topic7\", \"Topic7\", \"Topic7\", \"Topic7\", \"Topic7\", \"Topic7\", \"Topic7\", \"Topic7\", \"Topic7\", \"Topic7\", \"Topic7\", \"Topic7\", \"Topic7\", \"Topic7\", \"Topic7\", \"Topic7\", \"Topic7\", \"Topic7\", \"Topic7\", \"Topic7\", \"Topic7\", \"Topic7\", \"Topic7\", \"Topic7\", \"Topic7\", \"Topic7\", \"Topic7\", \"Topic7\", \"Topic7\", \"Topic7\", \"Topic7\", \"Topic7\", \"Topic7\", \"Topic7\", \"Topic7\", \"Topic7\", \"Topic7\", \"Topic7\", \"Topic7\", \"Topic7\", \"Topic7\", \"Topic7\", \"Topic7\", \"Topic7\", \"Topic7\", \"Topic7\", \"Topic7\", \"Topic8\", \"Topic8\", \"Topic8\", \"Topic8\", \"Topic8\", \"Topic8\", \"Topic8\", \"Topic8\", \"Topic8\", \"Topic8\", \"Topic8\", \"Topic8\", \"Topic8\", \"Topic8\", \"Topic8\", \"Topic8\", \"Topic8\", \"Topic8\", \"Topic8\", \"Topic8\", \"Topic8\", \"Topic8\", \"Topic8\", \"Topic8\", \"Topic8\", \"Topic8\", \"Topic8\", \"Topic8\", \"Topic8\", \"Topic8\", \"Topic8\", \"Topic8\", \"Topic8\", \"Topic8\", \"Topic8\", \"Topic8\", \"Topic8\", \"Topic8\", \"Topic8\", \"Topic8\", \"Topic8\", \"Topic8\", \"Topic8\", \"Topic8\", \"Topic8\", \"Topic8\", \"Topic8\", \"Topic8\", \"Topic8\", \"Topic8\", \"Topic8\", \"Topic8\", \"Topic8\", \"Topic9\", \"Topic9\", \"Topic9\", \"Topic9\", \"Topic9\", \"Topic9\", \"Topic9\", \"Topic9\", \"Topic9\", \"Topic9\", \"Topic9\", \"Topic9\", \"Topic9\", \"Topic9\", \"Topic9\", \"Topic9\", \"Topic9\", \"Topic9\", \"Topic9\", \"Topic9\", \"Topic9\", \"Topic9\", \"Topic9\", \"Topic9\", \"Topic9\", \"Topic9\", \"Topic9\", \"Topic9\", \"Topic9\", \"Topic9\", \"Topic9\", \"Topic9\", \"Topic9\", \"Topic9\", \"Topic9\", \"Topic9\", \"Topic9\", \"Topic9\", \"Topic9\", \"Topic9\", \"Topic9\", \"Topic9\", \"Topic9\", \"Topic9\", \"Topic9\", \"Topic9\", \"Topic10\", \"Topic10\", \"Topic10\", \"Topic10\", \"Topic10\", \"Topic10\", \"Topic10\", \"Topic10\", \"Topic10\", \"Topic10\", \"Topic10\", \"Topic10\", \"Topic10\", \"Topic10\", \"Topic10\", \"Topic10\", \"Topic10\", \"Topic10\", \"Topic10\", \"Topic10\", \"Topic10\", \"Topic10\", \"Topic10\", \"Topic10\", \"Topic10\", \"Topic10\", \"Topic10\", \"Topic10\", \"Topic10\", \"Topic10\", \"Topic10\", \"Topic10\", \"Topic10\", \"Topic10\", \"Topic10\", \"Topic10\", \"Topic10\", \"Topic10\", \"Topic10\", \"Topic10\", \"Topic10\", \"Topic10\", \"Topic10\", \"Topic10\", \"Topic10\", \"Topic10\", \"Topic10\"], \"logprob\": [30.0, 29.0, 28.0, 27.0, 26.0, 25.0, 24.0, 23.0, 22.0, 21.0, 20.0, 19.0, 18.0, 17.0, 16.0, 15.0, 14.0, 13.0, 12.0, 11.0, 10.0, 9.0, 8.0, 7.0, 6.0, 5.0, 4.0, 3.0, 2.0, 1.0, -3.6746, -3.8644, -3.9807, -4.2458, -4.6233, -4.7639, -4.8122, -4.8148, -4.9629, -5.1136, -5.1741, -5.2107, -5.2918, -5.2969, -5.3081, -5.4062, -5.514, -5.6305, -5.6916, -5.6946, -5.7516, -5.8589, -6.0975, -6.1136, -6.1156, -6.1183, -6.1502, -6.1715, -6.2534, -6.2539, -2.5325, -2.4553, -4.9674, -5.109, -3.8464, -4.969, -4.9335, -5.0181, -3.7944, -4.7282, -4.4288, -4.2247, -4.2552, -3.649, -4.3856, -4.2379, -3.963, -4.3598, -4.4838, -4.3064, -4.5278, -4.4147, -4.7296, -4.8173, -4.8673, -4.8382, -1.8255, -3.1035, -3.1179, -4.0713, -4.274, -4.4067, -4.4191, -4.6219, -4.7081, -4.7502, -4.7523, -4.833, -4.8478, -4.8633, -4.9451, -4.9515, -5.0654, -5.1588, -5.1703, -5.3454, -5.3968, -5.4357, -5.4676, -5.5092, -5.5657, -5.6369, -5.7928, -5.8267, -5.8436, -5.9053, -4.295, -4.4297, -3.1678, -4.7897, -4.0392, -3.6901, -3.7657, -3.8681, -3.199, -4.5953, -5.0142, -4.3626, -4.5525, -4.6292, -4.8583, -4.8351, -4.9339, -3.0711, -3.3057, -3.9422, -3.9548, -4.1336, -4.3959, -4.5058, -4.681, -4.7658, -4.793, -4.83, -5.1634, -5.2453, -5.4972, -5.544, -5.5776, -5.5818, -5.6221, -5.6256, -5.6455, -5.8831, -5.8983, -6.0016, -6.0748, -6.1337, -6.1651, -6.2331, -6.2423, -6.3334, -6.3753, -2.3241, -4.3151, -4.2166, -3.6878, -3.4277, -3.952, -3.5822, -4.0259, -4.7192, -4.8092, -3.3073, -3.5017, -5.0729, -4.8765, -4.2388, -3.9193, -4.358, -4.3375, -4.4282, -3.9633, -4.5935, -4.3953, -4.5273, -4.6216, -4.6382, -4.6864, -2.2547, -3.6092, -4.5684, -4.5869, -4.7909, -4.8799, -4.9011, -4.9763, -5.0377, -5.11, -5.2284, -5.2545, -5.2603, -5.338, -5.3882, -5.4643, -5.5654, -5.6981, -5.7434, -5.7593, -5.7896, -5.8373, -5.8666, -5.8777, -5.9043, -5.9234, -5.9484, -5.9515, -5.9925, -6.046, -4.0665, -3.7622, -2.5176, -3.5388, -4.6634, -4.4104, -4.261, -4.1873, -4.5349, -3.355, -3.9397, -3.0201, -3.7096, -4.3821, -3.9356, -4.4643, -3.695, -4.8791, -4.0136, -4.7402, -4.7971, -4.7585, -4.7598, -4.7448, -4.7841, -4.8511, -2.7536, -3.6557, -3.9914, -4.121, -4.3171, -4.341, -4.4743, -4.5768, -4.6811, -4.8916, -4.9268, -4.9751, -4.9938, -5.014, -5.0557, -5.0683, -5.1993, -5.2097, -5.2155, -5.2767, -5.2781, -5.2858, -5.3209, -5.3469, -5.3747, -5.41, -5.4586, -5.4772, -5.5365, -5.5836, -2.4956, -4.4673, -4.6774, -3.8659, -3.6661, -3.6608, -3.2836, -4.4339, -4.2032, -4.2406, -4.7683, -3.9965, -4.5428, -3.6086, -4.0461, -4.1501, -4.4958, -4.6818, -4.5482, -4.6143, -4.7628, -2.3843, -2.616, -3.1954, -3.3692, -3.7245, -3.762, -3.8188, -4.0282, -4.7409, -5.1121, -5.1176, -5.1329, -5.1725, -5.1903, -5.2392, -5.259, -5.2634, -5.2766, -5.3444, -5.379, -5.4043, -5.4098, -5.5497, -5.5612, -5.5874, -5.596, -5.7605, -5.7847, -5.795, -5.8143, -3.886, -4.1845, -2.8807, -4.4909, -3.6975, -3.445, -3.8491, -4.5392, -4.1364, -4.2609, -4.3898, -4.3503, -4.4694, -4.7049, -4.3241, -4.5739, -4.8018, -4.7204, -4.6862, -5.0026, -4.9583, -3.2094, -3.3413, -4.2464, -4.3287, -4.4327, -4.5212, -4.6017, -4.6354, -4.6437, -4.6652, -4.7926, -4.8723, -4.8808, -4.8917, -4.9161, -4.9388, -4.9585, -4.9892, -5.0791, -5.2065, -5.2559, -5.2652, -5.2661, -5.2691, -5.3093, -5.3342, -5.3498, -5.3545, -5.3865, -5.3894, -3.137, -4.3667, -4.2019, -4.3454, -4.006, -4.5128, -3.9474, -4.4081, -4.6337, -4.8513, -4.5963, -4.0835, -4.2981, -4.0298, -4.2854, -4.4561, -4.4819, -4.5767, -4.6496, -4.6973, -4.5963, -1.0898, -4.1118, -4.7121, -4.8301, -5.0739, -5.1196, -5.2603, -5.3535, -5.3625, -5.3691, -5.3732, -5.513, -5.5322, -5.5484, -5.5608, -5.6, -5.6025, -5.6295, -5.6546, -5.7904, -5.8298, -5.8583, -5.8687, -5.9286, -5.9592, -5.9777, -6.0082, -6.0667, -6.174, -6.1822, -2.6059, -4.9952, -2.9937, -4.5747, -3.9379, -3.2788, -4.3448, -3.6646, -4.8908, -4.612, -4.2448, -4.35, -4.5273, -4.6959, -5.0649, -4.8856, -5.0076, -4.9785, -5.2386, -5.2985, -5.2508, -5.3094, -5.3313, -2.851, -3.1749, -3.2377, -3.4555, -3.9034, -4.2028, -4.2907, -4.4965, -4.5514, -4.6013, -4.6055, -4.6325, -4.7527, -4.8312, -5.0752, -5.3005, -5.3335, -5.4581, -5.5012, -5.5224, -5.5723, -5.606, -5.639, -5.6495, -5.6817, -5.7287, -5.7743, -5.7845, -5.8402, -5.8415, -2.6011, -3.4998, -3.5265, -3.5245, -3.0209, -3.3222, -3.1661, -4.5549, -4.1728, -4.7734, -2.9014, -3.072, -4.4171, -4.436, -4.8098, -4.8649, -1.3118, -1.7357, -4.302, -4.3224, -4.4452, -4.5705, -4.5759, -4.6065, -4.7131, -4.7982, -4.9537, -4.9771, -5.0794, -5.1537, -5.1594, -5.2931, -5.3022, -5.384, -5.4154, -5.4332, -5.5688, -5.6021, -5.6121, -5.6344, -5.6546, -5.725, -5.7657, -5.8199, -5.8399, -5.8796, -4.6657, -4.5764, -3.5493, -4.3603, -4.2579, -3.2776, -5.0625, -4.9403, -3.627, -4.4552, -4.1073, -4.5585, -4.8287, -4.8667, -4.6363, -4.7687, -4.9439], \"loglift\": [30.0, 29.0, 28.0, 27.0, 26.0, 25.0, 24.0, 23.0, 22.0, 21.0, 20.0, 19.0, 18.0, 17.0, 16.0, 15.0, 14.0, 13.0, 12.0, 11.0, 10.0, 9.0, 8.0, 7.0, 6.0, 5.0, 4.0, 3.0, 2.0, 1.0, 1.7704, 1.7704, 1.7703, 1.7703, 1.7701, 1.77, 1.7699, 1.7699, 1.7698, 1.7697, 1.7696, 1.7696, 1.7695, 1.7695, 1.7695, 1.7694, 1.7692, 1.769, 1.7689, 1.7689, 1.7688, 1.7686, 1.7681, 1.7681, 1.768, 1.768, 1.768, 1.7679, 1.7677, 1.7677, 1.5009, 1.3707, 1.5748, 1.596, 1.3687, 1.566, 1.5417, 1.5477, 1.272, 1.4835, 1.3877, 1.3119, 1.1993, 0.7145, 0.9432, 0.7079, 0.3955, 0.7467, 0.8683, 0.5714, 0.6587, 0.1695, 0.6421, 0.8362, 1.0443, 0.5696, 2.1153, 2.1152, 2.1152, 2.1149, 2.1148, 2.1147, 2.1147, 2.1145, 2.1145, 2.1144, 2.1144, 2.1143, 2.1143, 2.1143, 2.1142, 2.1142, 2.1141, 2.114, 2.1139, 2.1137, 2.1136, 2.1135, 2.1134, 2.1134, 2.1132, 2.1131, 2.1127, 2.1126, 2.1126, 2.1124, 1.9593, 1.9076, 1.7119, 1.911, 1.7518, 1.4653, 1.0895, 1.0782, 0.6269, 1.2912, 1.6906, 0.2216, 0.3933, 0.2487, 0.792, -0.4766, 0.9777, 2.1267, 2.1266, 2.1264, 2.1264, 2.1263, 2.1262, 2.1261, 2.126, 2.1259, 2.1259, 2.1258, 2.1254, 2.1253, 2.1248, 2.1247, 2.1247, 2.1247, 2.1246, 2.1246, 2.1245, 2.1239, 2.1239, 2.1235, 2.1233, 2.1231, 2.1229, 2.1227, 2.1226, 2.1222, 2.122, 1.813, 1.9657, 1.868, 1.7947, 1.7574, 1.6378, 1.5243, 1.6276, 1.8029, 1.7627, 1.0512, 0.8764, 1.778, 1.6467, 1.1329, 0.7755, 1.0444, 0.9937, 0.9701, -0.1373, 1.0578, -0.0318, 0.0569, 0.3672, 0.3293, 0.1915, 2.3337, 2.3334, 2.3328, 2.3328, 2.3326, 2.3324, 2.3324, 2.3323, 2.3322, 2.3321, 2.3319, 2.3318, 2.3318, 2.3317, 2.3316, 2.3314, 2.3311, 2.3308, 2.3306, 2.3306, 2.3305, 2.3303, 2.3302, 2.3302, 2.3301, 2.33, 2.3299, 2.3299, 2.3297, 2.3295, 2.1481, 2.0237, 1.7134, 1.8132, 2.0342, 1.9641, 1.9212, 1.8827, 1.9649, 1.5908, 1.7106, 1.3435, 1.3844, 1.6667, 1.3932, 1.6781, 0.6635, 1.7388, 0.0197, 1.2123, 0.8983, 0.6494, 0.3067, 0.1331, 0.3713, 0.6912, 2.4083, 2.4081, 2.4079, 2.4078, 2.4077, 2.4077, 2.4075, 2.4074, 2.4073, 2.407, 2.407, 2.4069, 2.4069, 2.4069, 2.4068, 2.4068, 2.4065, 2.4065, 2.4065, 2.4064, 2.4064, 2.4064, 2.4063, 2.4062, 2.4062, 2.4061, 2.4059, 2.4059, 2.4057, 2.4056, 1.8825, 2.2145, 2.2187, 1.9488, 1.7418, 1.5257, 1.3006, 1.8533, 1.6068, 1.6003, 2.013, 1.3348, 1.7187, 0.4247, 0.8317, 0.7296, 1.3052, 1.6061, 1.0417, 1.122, 0.6396, 2.4185, 2.4185, 2.4183, 2.4183, 2.4182, 2.4181, 2.4181, 2.418, 2.4173, 2.4168, 2.4168, 2.4167, 2.4167, 2.4166, 2.4165, 2.4165, 2.4165, 2.4165, 2.4163, 2.4162, 2.4162, 2.4161, 2.4158, 2.4157, 2.4157, 2.4156, 2.4151, 2.415, 2.415, 2.4149, 2.1692, 2.2048, 1.9745, 2.1564, 1.9163, 1.5843, 1.5492, 1.5994, 1.2352, 0.7703, 0.9365, 0.6386, 0.8249, 1.057, 0.0345, 0.5201, 1.0392, 0.2258, -0.102, 0.8838, -0.0805, 2.4469, 2.4469, 2.4464, 2.4463, 2.4462, 2.4462, 2.4461, 2.446, 2.446, 2.446, 2.4458, 2.4457, 2.4457, 2.4457, 2.4457, 2.4456, 2.4456, 2.4455, 2.4454, 2.4451, 2.445, 2.445, 2.445, 2.445, 2.4449, 2.4449, 2.4448, 2.4448, 2.4447, 2.4447, 2.1893, 2.2868, 2.1695, 2.1815, 2.0909, 2.1433, 1.8536, 1.9482, 1.9331, 2.0856, 1.7626, 0.9477, 0.9962, 0.3483, 0.7034, 0.6104, 0.7032, 1.037, 1.3505, 1.2127, 0.3499, 2.4995, 2.4989, 2.4983, 2.4981, 2.4977, 2.4976, 2.4973, 2.4971, 2.497, 2.497, 2.497, 2.4966, 2.4966, 2.4965, 2.4965, 2.4964, 2.4964, 2.4963, 2.4962, 2.4957, 2.4955, 2.4954, 2.4954, 2.4951, 2.495, 2.4949, 2.4947, 2.4944, 2.4939, 2.4938, 2.1505, 2.2209, 1.7011, 1.8026, 1.4645, 0.9522, 1.4517, 0.699, 1.5791, 1.1498, 0.7014, 0.6793, 0.6878, 0.4891, 1.0197, 0.2085, 0.6062, 0.1279, 1.1809, 1.3988, -0.0644, 1.2127, 0.3642, 2.5475, 2.5474, 2.5474, 2.5473, 2.5471, 2.5469, 2.5468, 2.5466, 2.5465, 2.5465, 2.5465, 2.5464, 2.5463, 2.5461, 2.5457, 2.5452, 2.5451, 2.5448, 2.5447, 2.5446, 2.5444, 2.5443, 2.5442, 2.5442, 2.544, 2.5439, 2.5437, 2.5436, 2.5434, 2.5434, 2.3664, 2.2623, 2.2464, 2.1268, 2.0103, 1.9721, 1.8227, 2.1423, 1.9658, 2.1687, 1.2358, 1.159, 1.2784, 0.1482, 1.0002, 0.2016, 2.701, 2.7009, 2.6999, 2.6999, 2.6998, 2.6996, 2.6996, 2.6996, 2.6994, 2.6993, 2.699, 2.6989, 2.6987, 2.6985, 2.6985, 2.6981, 2.6981, 2.6979, 2.6978, 2.6977, 2.6972, 2.6971, 2.6971, 2.697, 2.6969, 2.6966, 2.6964, 2.6961, 2.696, 2.6958, 2.4826, 2.4327, 1.993, 2.1029, 2.0036, 1.4788, 2.3179, 2.1529, 1.0678, 1.3068, 0.7723, 0.9781, 1.2987, 1.1885, -0.2778, 0.3253, 0.8527]}, \"token.table\": {\"Topic\": [5, 7, 1, 2, 3, 4, 5, 6, 9, 10, 8, 10, 4, 10, 3, 3, 1, 3, 8, 10, 9, 4, 4, 1, 10, 8, 3, 5, 6, 2, 6, 2, 5, 7, 3, 7, 9, 5, 4, 10, 9, 5, 9, 7, 8, 1, 2, 4, 10, 7, 7, 8, 9, 2, 7, 1, 2, 3, 4, 6, 7, 9, 9, 1, 3, 5, 3, 1, 2, 2, 3, 8, 10, 10, 8, 1, 9, 6, 10, 5, 2, 6, 8, 9, 9, 7, 10, 3, 9, 4, 1, 4, 4, 10, 2, 3, 6, 7, 6, 8, 1, 2, 4, 7, 9, 2, 4, 8, 9, 2, 3, 8, 5, 1, 7, 1, 2, 8, 3, 7, 7, 5, 2, 10, 3, 4, 5, 1, 7, 7, 1, 5, 4, 6, 2, 6, 5, 1, 7, 2, 3, 1, 3, 5, 6, 8, 1, 3, 7, 1, 9, 7, 1, 4, 6, 10, 1, 10, 3, 10, 9, 10, 4, 3, 4, 1, 2, 4, 6, 7, 8, 9, 1, 7, 6, 8, 4, 8, 5, 10, 4, 10, 3, 3, 8, 9, 10, 1, 3, 6, 7, 3, 2, 2, 10, 9, 6, 10, 2, 4, 6, 10, 6, 5, 8, 5, 5, 7, 10, 1, 2, 4, 6, 1, 2, 3, 4, 5, 8, 9, 10, 1, 4, 5, 7, 9, 8, 6, 5, 1, 5, 7, 8, 7, 10, 1, 2, 4, 1, 6, 5, 7, 1, 7, 10, 1, 3, 4, 8, 3, 9, 6, 5, 4, 6, 10, 4, 5, 2, 1, 7, 8, 3, 8, 7, 2, 3, 7, 1, 10, 9, 9, 6, 3, 5, 7, 8, 3, 9, 9, 2, 5, 5, 3, 5, 7, 6, 1, 4, 5, 7, 6, 3, 6, 6, 8, 6, 7, 9, 7, 6, 4, 8, 9, 6, 7, 8, 1, 2, 5, 7, 1, 4, 5, 4, 8, 10, 3, 2, 1, 2, 2, 3, 2, 4, 2, 1, 4, 9, 5, 3, 10, 3, 1, 4, 5, 10, 6, 7, 6, 9, 2, 3, 7, 2, 3, 5, 8, 1, 2, 5, 8, 8, 3, 2, 2, 8, 1, 5, 8, 1, 1, 2, 4, 5, 1, 3, 4, 7, 8, 9, 1, 2, 2, 2, 9, 6, 9, 8, 5, 10, 10, 8, 2, 6, 2, 5, 4, 6, 1, 9, 1, 6, 4, 4, 5, 3, 1, 1, 6, 7, 4, 7, 10, 3, 10, 1, 1, 2, 4, 6, 7, 8, 10, 9, 5, 3, 1, 3, 10, 2, 10, 1, 10, 4, 2, 8, 10, 1, 4, 7, 1, 3, 6, 7, 3, 8, 7, 5, 3, 7, 8, 1, 5, 6, 6, 7, 9, 6, 1, 2, 5, 9, 6, 8, 3, 7, 4, 7, 2, 10, 8, 9, 1, 5, 5, 4, 3, 3, 5, 9, 6, 9, 3, 9, 7, 4, 1, 3, 5, 7, 7, 4, 8, 6, 4, 2, 9, 1, 7, 1, 2, 8, 7, 9, 1, 5, 10, 2, 1, 4, 3, 6, 3, 1, 9, 4, 1, 7, 9, 1, 3, 8, 5, 5, 6, 10, 3, 6, 2, 3, 3, 7, 4, 5, 4, 5, 1, 1, 10, 5, 9, 3, 8, 4, 1, 3, 4, 8, 3, 9, 2, 10, 2, 8, 6, 6, 10, 9, 1, 3, 8, 4, 1, 2, 1, 4, 1, 4, 5, 6, 5, 10, 2, 5, 10, 1, 2, 3, 4, 6, 10, 8, 1, 3, 6, 3, 9, 1, 2, 3, 3, 3, 1, 1, 3, 5, 8, 1, 1, 1, 7, 1, 8, 7, 1, 7, 6, 3, 6, 7, 9, 3, 8, 7, 8, 8, 4, 2, 4, 4, 6, 9, 1, 3, 4, 5, 2, 2, 1, 2, 4, 2, 2, 4, 7, 7, 10, 1, 3, 6, 7, 8, 4, 7, 1, 2, 3, 5, 6, 7, 9, 9, 2, 3, 4, 8, 1, 1, 5, 10], \"Freq\": [0.24210049114656945, 0.757419788497108, 0.3014527890983598, 0.15456967303791652, 0.1443675155950884, 0.11068642047561474, 0.206698504903326, 0.08217628186825943, 0.9981219210474834, 0.9924789796628243, 0.9967953162116192, 0.9981378574371308, 0.9970043517693365, 0.9973215556496985, 0.9959816452288474, 0.9957426781217937, 0.0956701051002915, 0.2588446639209833, 0.4500684871323932, 0.19529736783246854, 0.9961408408727565, 0.997768876883196, 0.9999044100203052, 0.9987645828085862, 0.9974760388960405, 0.9957774566989391, 0.9994696692424734, 0.9998736938635528, 0.9989953899208068, 0.9993701418199262, 0.9979527376468827, 0.11574232372699239, 0.3317477546339022, 0.5523265904297205, 0.9971547406566301, 0.9989381505357628, 0.9952085638720066, 0.9987635936642141, 0.9970990391134832, 0.9984470368121052, 0.9995855038255744, 0.9978346189554875, 0.9995594751065585, 0.9985264696454348, 0.998157603384089, 0.2296688007013247, 0.25095276283528367, 0.5192296808958828, 0.9978615423370938, 0.9984764939284982, 0.9972101127175869, 0.9977071110610359, 0.9982767582138493, 0.26142132990240574, 0.737936159091601, 0.1118107232842606, 0.13888068786887106, 0.06512484233399038, 0.23735258802448303, 0.10239508342874391, 0.29110019886639077, 0.05335529251459453, 0.9995153847228053, 0.37153541876274165, 0.1797567357342078, 0.4482468919741552, 0.9942241334396792, 0.9997381989335097, 0.9988231447917072, 0.8126370146643996, 0.18706892047418822, 0.9958026923193241, 0.9981115283468174, 0.9976363972415366, 0.9915531180135678, 0.99821195444408, 0.9989785293804238, 0.999553140342186, 0.9978830297347102, 0.9987014206805815, 0.35852665884892276, 0.6413582837792848, 0.33274886521399094, 0.6663597741202462, 0.9997352074344351, 0.9969629864042566, 0.9937407759211362, 0.9998045042234878, 0.9955844723623426, 0.9962949291630633, 0.9996024112491069, 0.9984334814682938, 0.995708890494613, 0.9990739724565206, 0.4387469208661284, 0.188910246276857, 0.2153500170539425, 0.1567226992438834, 0.9972206490644471, 0.9940377190559134, 0.17210248992707197, 0.5220257733050522, 0.14055958984397518, 0.06917302649801928, 0.09610439148124812, 0.997250263564871, 0.5377267609235031, 0.2128364530782016, 0.24935825159471556, 0.9992756132056939, 0.9959384170971304, 0.9985961225103153, 0.997493072803044, 0.9989980036974998, 0.9968685933226559, 0.34566737208541964, 0.6539887718098517, 0.9992721738116063, 0.40099051430570776, 0.5977028420783191, 0.9978851944281661, 0.9995784301166787, 0.19488569860143345, 0.803903506730913, 0.613247788720483, 0.13159334806728432, 0.2549265076195227, 0.9998473932548819, 0.9970513943528801, 0.9990532466946129, 0.9993067251762342, 0.9987282029558667, 0.9980965005606066, 0.9992261009984817, 0.9994979484920598, 0.9998824006667609, 0.9993109517739021, 0.998725199606412, 0.9964562194324392, 0.2935223671229665, 0.7056599373983646, 0.12753999173464797, 0.1911408364193, 0.16542985665316406, 0.2560948905653276, 0.25913961185342266, 0.1741783577351569, 0.1281689802202098, 0.6967134309406277, 0.9985439105617298, 0.9986546388308872, 0.9980427972211179, 0.4309981325734216, 0.24085189761455916, 0.08190914736689461, 0.2462149965492963, 0.9965612989928355, 0.9983857282879658, 0.9981089754262965, 0.9982714122058871, 0.7518537196969687, 0.24802375181722683, 0.9982655973704785, 0.9988760787405419, 0.9984051966419119, 0.15877866414550793, 0.35437123157074724, 0.08664735771936767, 0.11163890994585195, 0.12286266094577004, 0.16566256475879104, 0.9977024362893777, 0.29936062367712835, 0.7003998162177364, 0.9977047063723453, 0.9954363528542828, 0.9985849819472046, 0.9970573021162336, 0.5018047872945385, 0.4979018611711365, 0.8304785149113741, 0.16918140150020305, 0.9976115932818538, 0.31487299893234366, 0.3505983002572592, 0.1765250183113473, 0.15761162349227434, 0.26622276473915346, 0.314434484501986, 0.4190891932554518, 0.9985707980514765, 0.9979607395582577, 0.9997762580427462, 0.9987152850121743, 0.9960071512966476, 0.9971110231974408, 0.9967846985554958, 0.9962903711986891, 0.16350874465681256, 0.19338575780008396, 0.1501998933475371, 0.4926991076535847, 0.9993120897941644, 0.2418723348900887, 0.7574804260330322, 0.9989587027407447, 0.9972384204769192, 0.851570038803253, 0.14770449316451773, 0.15504432086004813, 0.20281960577622574, 0.5133589577313803, 0.1289031272266679, 0.2071003452596733, 0.21336612003663794, 0.08013596162117931, 0.044190201058592705, 0.27635364542612456, 0.03297776198402441, 0.14609148558922813, 0.9999169152032428, 0.6073825555395258, 0.13163611928892197, 0.005737984686953008, 0.15931345719069528, 0.09568933286771635, 0.9999789449020937, 0.9987071714909832, 0.999571983949058, 0.6817417429096413, 0.114338237804552, 0.20366498608935826, 0.9959914739049217, 0.23433222129888312, 0.7642292041355535, 0.197280250844466, 0.2662678232256596, 0.5361665713134873, 0.814992059513102, 0.18469244514145838, 0.9994780414550571, 0.9996086095839058, 0.9990577263680195, 0.9988752695157188, 0.9986469294090711, 0.3477972936816121, 0.11548675153003073, 0.37144617261287016, 0.16520789274592673, 0.7306357942195874, 0.26926577696683557, 0.9986793029292298, 0.9986020616172072, 0.9972733924493846, 0.7793687162659406, 0.2204733388272684, 0.9992517738649355, 0.9975502538581227, 0.9981448705606574, 0.9995134561151892, 0.9989580073650292, 0.9993518066163017, 0.7235069508546316, 0.2763796552264693, 0.9991149922033427, 0.25750935335541114, 0.23784276789628667, 0.5045708331856624, 0.44951376144832855, 0.5497846611947691, 0.9991660227972441, 0.99528106322014, 0.9958770636871077, 0.3388771588772202, 0.1705012604246362, 0.13531471222066005, 0.3551716006629541, 0.2599390312976526, 0.7398001640747667, 0.9983848356261221, 0.9979809002166782, 0.9988252386615796, 0.9980573914702906, 0.2863356214892662, 0.5909858696417488, 0.12260625071764257, 0.998078539351745, 0.23225570837769388, 0.15970263126895032, 0.27389859878922124, 0.33400173958936386, 0.996653506492897, 0.2296253768680682, 0.7692450125080285, 0.9981442428002527, 0.9971450347040804, 0.19241367300977463, 0.22320637766586898, 0.5842467666494935, 0.9982481915528428, 0.9954104837677473, 0.3159296492873903, 0.39834607953627477, 0.28571029152946603, 0.6050540100922657, 0.24418042740946302, 0.15053417030260804, 0.8004313926395596, 0.19954097040306304, 0.6731789530929962, 0.32627614996707893, 0.763552590715646, 0.09886780713640286, 0.13754998684226158, 0.9995048778669544, 0.7052710940425679, 0.29458497785561805, 0.9988799376262908, 0.9993288274297482, 0.7952840902348204, 0.20434382874089135, 0.997186531775419, 0.9980570269749428, 0.2664641522568054, 0.7335560602440274, 0.9984996887563311, 0.17916848691859036, 0.5518389397092583, 0.26835457818473313, 0.9970950382788012, 0.9965949366898614, 0.9940744101022753, 0.9992494267140059, 0.3008345647497572, 0.18543945940770354, 0.5133420118302882, 0.9982606942787413, 0.9975709314528381, 0.9987654274890706, 0.9958313142640878, 0.9976416434500198, 0.998497654287698, 0.9975681907468559, 0.9996352515666566, 0.6952168641810902, 0.30441860686085814, 0.8265937466458038, 0.17246994204823385, 0.3702413748708274, 0.23376792275794747, 0.12798467279485393, 0.26772304003005154, 0.9975563785560366, 0.9961192657188087, 0.9969818558287912, 0.8148634127521763, 0.18425255511275326, 0.9997671955542274, 0.9986880118921335, 0.9965600210900795, 0.9966747124182685, 0.43703672980618463, 0.17222581972783882, 0.3903053927335354, 0.9993365106840257, 0.12061164411453283, 0.15828299752563363, 0.23805762827855298, 0.08388998868858583, 0.1180791161541227, 0.2811106036055253, 0.9988415849869626, 0.9990056090259394, 0.9991996879648731, 0.9995372394788591, 0.9987138043930577, 0.31493526961277607, 0.6849291527942193, 0.9979216707189515, 0.9978275098156456, 0.9980626560103628, 0.9969086527394283, 0.9987837920388367, 0.9987498492223595, 0.999741893963554, 0.9983279278760281, 0.998363575434323, 0.999157250527982, 0.9987426316039033, 0.9974394337600109, 0.9973333394327252, 0.9976697989096759, 0.9980285598873162, 0.9983482153261197, 0.9976643995501661, 0.9991610584113598, 0.9963980435192763, 0.9993324950782961, 0.9986738955547038, 0.22716380859514132, 0.7727508749031252, 0.6371425872501926, 0.25458081701543095, 0.10818533815303125, 0.9954654692177088, 0.9986992949036516, 0.9988603120995543, 0.17903596885853887, 0.05915820288833503, 0.3870438435304266, 0.14971709411329365, 0.03088023493877899, 0.1011414436477986, 0.09298767374823337, 0.9993220899201615, 0.9997396167596757, 0.9984280331610322, 0.2824729877254861, 0.7174404507085717, 0.9988334601162249, 0.998825264031846, 0.996801020155259, 0.42140652678329715, 0.5776727768366778, 0.9992627439291546, 0.9976129920471003, 0.9956501912012474, 0.9978654291547676, 0.16532181066931917, 0.661802263894315, 0.17253210770785643, 0.5646964905217976, 0.21717182212578381, 0.05597211910458346, 0.16219476291639295, 0.8509028621222617, 0.14835380562051456, 0.999163958529511, 0.9982155091801233, 0.6911054195490628, 0.1748190778072966, 0.1339646194066784, 0.30242788522635733, 0.4455868478456136, 0.25190119253720805, 0.20326474836222896, 0.23442211854914, 0.562316347659013, 0.9974149813431641, 0.48370100122404863, 0.32063364500310615, 0.09666161356711289, 0.09862628050953388, 0.9971302344725982, 0.9972587208444922, 0.9997918714797962, 0.9986435699005428, 0.6913519623882451, 0.30781791569998634, 0.317509464973369, 0.6811090135719045, 0.9963436715582403, 0.9991890857447291, 0.36841366265979997, 0.6316172280450201, 0.9960844345110982, 0.9957698896855298, 0.9986071662379231, 0.33830285256543696, 0.4487038883973896, 0.21263736483388954, 0.9992522873824404, 0.9970873258841226, 0.9996324486314606, 0.9996307174382407, 0.996688302510466, 0.995855590979227, 0.3927793370009356, 0.6070778006196841, 0.8233288127977952, 0.17570006623623055, 0.9984138020066433, 0.9960428934951044, 0.9951088207401955, 0.9996052526867992, 0.9971296914339385, 0.9992823081221015, 0.996223118805599, 0.7506370059640073, 0.24932819279369856, 0.2585584446858178, 0.24290720711403702, 0.49833540428549866, 0.996898983466059, 0.9973951658152841, 0.2574341166204783, 0.5737920421563106, 0.16819028952537918, 0.9999527100956509, 0.8400521258808684, 0.15984445828550134, 0.19196577433549736, 0.8077767731939246, 0.997559727395146, 0.9996219692759153, 0.9956680865965237, 0.9971639331593046, 0.997049232465939, 0.9972285724773163, 0.9980692767072099, 0.35920493893601646, 0.5473264497430941, 0.09327032888754266, 0.9971398665994053, 0.9984665736042656, 0.9977754977329449, 0.9984835084193407, 0.9994780793305423, 0.9997426951495648, 0.9957061605164567, 0.9989384785368582, 0.9955138219378389, 0.9975991398298976, 0.6910762696836764, 0.30839356569443194, 0.9978793783258267, 0.9994209547314452, 0.9986841087156771, 0.9987005783241896, 0.997325347001686, 0.998155857617648, 0.998935526406465, 0.7717291011787425, 0.2275012544031765, 0.9972935655776197, 0.6690582080840636, 0.0755798853732656, 0.092027321568484, 0.16329954508109717, 0.16570385407511623, 0.8341752137342336, 0.8552606572749912, 0.14392735980032215, 0.9986171547357335, 0.9980961581105595, 0.9998434809384842, 0.9975154446296997, 0.9961989730094603, 0.9939299391059744, 0.24047492247009686, 0.6185710355104299, 0.1397941567371346, 0.9981028905462742, 0.9979514114662116, 0.9984679804365538, 0.40554331044786346, 0.5941681060050092, 0.4064681446121678, 0.3258294492560781, 0.15718405592253015, 0.11011070584156409, 0.996891432778196, 0.9999165456248038, 0.6679858145495606, 0.18663280041806, 0.14532996761736405, 0.252755985762145, 0.0749122181485831, 0.34105429394615744, 0.18823669465970272, 0.09220604875336144, 0.0508837708179055, 0.9939044306880287, 0.3235670565797784, 0.370052628048777, 0.30616359139926663, 0.34347045653281866, 0.6563496290181816, 0.6703243703325116, 0.2257194792031411, 0.10392663737532166, 0.9991806484792369, 0.9991972032183853, 0.9965668131764714, 0.32880835133963066, 0.1803879149710474, 0.4136743957247437, 0.07706445734522593, 0.9993508962940688, 0.9974891410629598, 0.8223982332525321, 0.17717735725368736, 0.9982361676284798, 0.997253662552118, 0.9979375359931447, 0.23266628277584933, 0.7670716510266282, 0.998089943324625, 0.17208905697406474, 0.16865352226133387, 0.17489994901175362, 0.4842542338262929, 0.9995170475879821, 0.9951365498840229, 0.9983997772494547, 0.9980177343769092, 0.9932586826080609, 0.9981263973372386, 0.99924528184904, 0.9993564475460618, 0.9943969560301594, 0.44081432098281115, 0.5586606551157998, 0.2098188628851342, 0.32198617952184116, 0.1262432151950388, 0.34178041186949537, 0.9998883124478571, 0.99828059595477, 0.34553778780750116, 0.17875223222076358, 0.4756753962025341, 0.9984752598651948, 0.25783243199086664, 0.7407292945824564, 0.9994115304582122, 0.9987278025191072, 0.9966768080159732, 0.1482997770086138, 0.15935721652241397, 0.4341671103212707, 0.09593954872267779, 0.1619589669962493, 0.3923291101695893, 0.6068840922935835, 0.20160908484064766, 0.15055562149598753, 0.12617498798037433, 0.3302846506174951, 0.08043525245321964, 0.020213003854824625, 0.09075013586367138, 0.9987930827133558, 0.30492944589355814, 0.6950262183209779, 0.9989653886715903, 0.9964479845084994, 0.9987526316475508, 0.6322178891838632, 0.18931428462959768, 0.17851175768924973], \"Term\": [\"ability\", \"ability\", \"able\", \"able\", \"able\", \"able\", \"able\", \"able\", \"absolute\", \"abuse\", \"accessible\", \"action\", \"actionable\", \"active\", \"activity\", \"addition\", \"advice\", \"advice\", \"advice\", \"advice\", \"advise\", \"afraid\", \"amazing\", \"amount\", \"angel\", \"anger\", \"answer\", \"anxiety\", \"anxious\", \"appointment\", \"appreciative\", \"approach\", \"approach\", \"approach\", \"appropriate\", \"area\", \"article\", \"aspect\", \"attack\", \"attention\", \"attentive\", \"aware\", \"awesome\", \"behavior\", \"beneficial\", \"betterhelp\", \"betterhelp\", \"betterhelp\", \"big\", \"blessing\", \"boundary\", \"break\", \"call\", \"calm\", \"calm\", \"care\", \"care\", \"care\", \"care\", \"care\", \"care\", \"care\", \"caring\", \"challenge\", \"challenge\", \"challenge\", \"challenging\", \"change\", \"chat\", \"check\", \"check\", \"checking\", \"childhood\", \"choice\", \"christian\", \"circumstance\", \"clear\", \"client\", \"close\", \"comfort\", \"comfortable\", \"comfortable\", \"communication\", \"communication\", \"compassionate\", \"competent\", \"complicated\", \"concern\", \"concerned\", \"concrete\", \"confidence\", \"connection\", \"constant\", \"constructive\", \"conversation\", \"conversation\", \"conversation\", \"conversation\", \"corner\", \"councilor\", \"counseling\", \"counseling\", \"counseling\", \"counseling\", \"counseling\", \"counselling\", \"counselor\", \"counselor\", \"counselor\", \"couple\", \"course\", \"crazy\", \"crisis\", \"daily\", \"dark\", \"day\", \"day\", \"deal\", \"deep\", \"deep\", \"demeanor\", \"depression\", \"detail\", \"detail\", \"different\", \"different\", \"different\", \"difficult\", \"difficulty\", \"direct\", \"direction\", \"discussion\", \"doctor\", \"earth\", \"ease\", \"easy\", \"effective\", \"effort\", \"email\", \"emotional\", \"emotional\", \"empathetic\", \"empathetic\", \"empathetic\", \"empathetic\", \"empathetic\", \"empathy\", \"empathy\", \"empathy\", \"encouragement\", \"encouraging\", \"energy\", \"enough\", \"enough\", \"enough\", \"enough\", \"entire\", \"environment\", \"everyday\", \"example\", \"excellent\", \"excellent\", \"excited\", \"exercise\", \"expectation\", \"experience\", \"experience\", \"experience\", \"experience\", \"experience\", \"experience\", \"experienced\", \"expertise\", \"expertise\", \"express\", \"eye\", \"face\", \"faith\", \"family\", \"family\", \"fantastic\", \"fantastic\", \"fear\", \"feedback\", \"feedback\", \"feedback\", \"feedback\", \"feeling\", \"feeling\", \"feeling\", \"field\", \"figure\", \"first\", \"flexible\", \"format\", \"fortunate\", \"free\", \"fresh\", \"friend\", \"friend\", \"friend\", \"friend\", \"friendly\", \"full\", \"full\", \"funny\", \"general\", \"gentle\", \"gentle\", \"glad\", \"glad\", \"glad\", \"glad\", \"goal\", \"goal\", \"goal\", \"goal\", \"goal\", \"goal\", \"goal\", \"good\", \"grateful\", \"grateful\", \"grateful\", \"grateful\", \"grateful\", \"great\", \"grief\", \"growth\", \"guidance\", \"guidance\", \"guidance\", \"habit\", \"hand\", \"hand\", \"happy\", \"happy\", \"happy\", \"hard\", \"hard\", \"healing\", \"health\", \"healthy\", \"heart\", \"heather\", \"help\", \"help\", \"help\", \"help\", \"helpful\", \"helpful\", \"hesitant\", \"high\", \"home\", \"honest\", \"honest\", \"hope\", \"hopeful\", \"hour\", \"huge\", \"human\", \"humor\", \"idea\", \"idea\", \"impact\", \"important\", \"important\", \"important\", \"incredible\", \"incredible\", \"individual\", \"informative\", \"input\", \"insight\", \"insight\", \"insight\", \"insight\", \"insightful\", \"insightful\", \"intelligent\", \"interested\", \"intuitive\", \"invaluable\", \"issue\", \"issue\", \"issue\", \"journal\", \"journey\", \"journey\", \"journey\", \"journey\", \"judge\", \"judgement\", \"judgement\", \"judgemental\", \"judgmental\", \"kind\", \"kind\", \"kind\", \"kindness\", \"knowledgable\", \"knowledge\", \"knowledge\", \"knowledge\", \"knowledgeable\", \"knowledgeable\", \"knowledgeable\", \"last\", \"last\", \"level\", \"level\", \"life\", \"life\", \"life\", \"listen\", \"listener\", \"listener\", \"listening\", \"live\", \"long\", \"long\", \"look\", \"lot\", \"love\", \"love\", \"lovely\", \"lucky\", \"lucky\", \"lucky\", \"major\", \"make\", \"manageable\", \"manner\", \"many\", \"many\", \"many\", \"match\", \"material\", \"matter\", \"meaningful\", \"mechanism\", \"meeting\", \"member\", \"mental\", \"message\", \"message\", \"method\", \"method\", \"mind\", \"mind\", \"mind\", \"mind\", \"minded\", \"mindful\", \"minute\", \"moment\", \"moment\", \"month\", \"mood\", \"mother\", \"move\", \"much\", \"much\", \"much\", \"multiple\", \"need\", \"need\", \"need\", \"need\", \"need\", \"need\", \"negative\", \"nervous\", \"next\", \"nice\", \"nonjudgemental\", \"nonjudgmental\", \"nonjudgmental\", \"normal\", \"objective\", \"offer\", \"offering\", \"one\", \"online\", \"open\", \"opening\", \"opportunity\", \"option\", \"order\", \"outlook\", \"outstanding\", \"overwhelmed\", \"pace\", \"pandemic\", \"panic\", \"part\", \"particular\", \"past\", \"path\", \"patient\", \"patient\", \"people\", \"people\", \"people\", \"perceptive\", \"perfect\", \"period\", \"person\", \"person\", \"person\", \"person\", \"person\", \"person\", \"person\", \"personable\", \"personal\", \"personality\", \"perspective\", \"perspective\", \"phenomenal\", \"phone\", \"picture\", \"plan\", \"plan\", \"platform\", \"pleasant\", \"pleased\", \"pleasure\", \"point\", \"point\", \"point\", \"positive\", \"positive\", \"positive\", \"positive\", \"practical\", \"practical\", \"presence\", \"present\", \"problem\", \"problem\", \"problem\", \"process\", \"process\", \"process\", \"professional\", \"professional\", \"professional\", \"professionalism\", \"progress\", \"progress\", \"progress\", \"progress\", \"prompt\", \"ptsd\", \"question\", \"quick\", \"real\", \"real\", \"reason\", \"reason\", \"reflection\", \"relatable\", \"relationship\", \"relationship\", \"relevant\", \"remember\", \"reply\", \"resource\", \"resource\", \"resource\", \"respectful\", \"respond\", \"response\", \"responsive\", \"result\", \"review\", \"right\", \"right\", \"root\", \"root\", \"rough\", \"ruth\", \"ryan\", \"safe\", \"satisfied\", \"schedule\", \"scheduling\", \"self\", \"self\", \"sense\", \"sense\", \"sense\", \"sensitive\", \"serious\", \"service\", \"service\", \"service\", \"session\", \"several\", \"several\", \"share\", \"share\", \"sharing\", \"short\", \"show\", \"side\", \"significant\", \"simple\", \"sincere\", \"situation\", \"situation\", \"situation\", \"skilled\", \"smart\", \"social\", \"solid\", \"solution\", \"space\", \"speak\", \"specific\", \"spot\", \"state\", \"step\", \"step\", \"straight\", \"strategy\", \"stressful\", \"strong\", \"stuck\", \"stuff\", \"style\", \"suggestion\", \"suggestion\", \"super\", \"support\", \"support\", \"support\", \"support\", \"supportive\", \"supportive\", \"sure\", \"sure\", \"sweet\", \"system\", \"talk\", \"talking\", \"task\", \"team\", \"technique\", \"technique\", \"technique\", \"tell\", \"term\", \"text\", \"thank\", \"thank\", \"thankful\", \"thankful\", \"thankful\", \"thankful\", \"therapeutic\", \"therapist\", \"therapy\", \"therapy\", \"therapy\", \"thing\", \"thing\", \"thing\", \"thing\", \"thing\", \"thing\", \"think\", \"thought\", \"thought\", \"thought\", \"thoughtful\", \"thoughtful\", \"time\", \"time\", \"time\", \"timely\", \"tip\", \"today\", \"tool\", \"tool\", \"tool\", \"tool\", \"tough\", \"transition\", \"trauma\", \"trauma\", \"treatment\", \"tremendous\", \"true\", \"trust\", \"trust\", \"truth\", \"understanding\", \"understanding\", \"understanding\", \"understanding\", \"useful\", \"valid\", \"variety\", \"various\", \"vent\", \"version\", \"video\", \"view\", \"vulnerable\", \"warm\", \"warm\", \"way\", \"way\", \"way\", \"way\", \"week\", \"weekly\", \"well\", \"well\", \"well\", \"wellbeing\", \"willing\", \"willing\", \"wisdom\", \"wise\", \"wish\", \"wonderful\", \"wonderful\", \"wonderful\", \"wonderful\", \"wonderful\", \"word\", \"word\", \"work\", \"work\", \"work\", \"work\", \"work\", \"work\", \"work\", \"working\", \"worksheet\", \"worksheet\", \"world\", \"worry\", \"worth\", \"year\", \"year\", \"year\"]}, \"R\": 30, \"lambda.step\": 0.01, \"plot.opts\": {\"xlab\": \"PC1\", \"ylab\": \"PC2\"}, \"topic.order\": [10, 9, 3, 5, 8, 7, 1, 4, 6, 2]};\n",
              "\n",
              "function LDAvis_load_lib(url, callback){\n",
              "  var s = document.createElement('script');\n",
              "  s.src = url;\n",
              "  s.async = true;\n",
              "  s.onreadystatechange = s.onload = callback;\n",
              "  s.onerror = function(){console.warn(\"failed to load library \" + url);};\n",
              "  document.getElementsByTagName(\"head\")[0].appendChild(s);\n",
              "}\n",
              "\n",
              "if(typeof(LDAvis) !== \"undefined\"){\n",
              "   // already loaded: just create the visualization\n",
              "   !function(LDAvis){\n",
              "       new LDAvis(\"#\" + \"ldavis_el5291400309453054082304387484\", ldavis_el5291400309453054082304387484_data);\n",
              "   }(LDAvis);\n",
              "}else if(typeof define === \"function\" && define.amd){\n",
              "   // require.js is available: use it to load d3/LDAvis\n",
              "   require.config({paths: {d3: \"https://d3js.org/d3.v5\"}});\n",
              "   require([\"d3\"], function(d3){\n",
              "      window.d3 = d3;\n",
              "      LDAvis_load_lib(\"https://cdn.jsdelivr.net/gh/bmabey/pyLDAvis@3.4.0/pyLDAvis/js/ldavis.v3.0.0.js\", function(){\n",
              "        new LDAvis(\"#\" + \"ldavis_el5291400309453054082304387484\", ldavis_el5291400309453054082304387484_data);\n",
              "      });\n",
              "    });\n",
              "}else{\n",
              "    // require.js not available: dynamically load d3 & LDAvis\n",
              "    LDAvis_load_lib(\"https://d3js.org/d3.v5.js\", function(){\n",
              "         LDAvis_load_lib(\"https://cdn.jsdelivr.net/gh/bmabey/pyLDAvis@3.4.0/pyLDAvis/js/ldavis.v3.0.0.js\", function(){\n",
              "                 new LDAvis(\"#\" + \"ldavis_el5291400309453054082304387484\", ldavis_el5291400309453054082304387484_data);\n",
              "            })\n",
              "         });\n",
              "}\n",
              "</script>"
            ]
          },
          "metadata": {},
          "execution_count": 29
        }
      ],
      "source": [
        "pyLDAvis.enable_notebook()\n",
        "vis = pyLDAvis.gensim.prepare(lda_model, doc_term_matrix, dictionary)\n",
        "vis"
      ]
    },
    {
      "cell_type": "code",
      "execution_count": null,
      "metadata": {
        "colab": {
          "base_uri": "https://localhost:8080/"
        },
        "id": "0if_s4glP3_7",
        "outputId": "36026d41-c72c-463d-a64f-21c711a68376"
      },
      "outputs": [
        {
          "output_type": "stream",
          "name": "stderr",
          "text": [
            "/usr/local/lib/python3.10/dist-packages/ipykernel/ipkernel.py:283: DeprecationWarning: `should_run_async` will not call `transform_cell` automatically in the future. Please pass the result to `transformed_cell` argument and any exception that happen during thetransform in `preprocessing_exc_tuple` in IPython 7.17 and above.\n",
            "  and should_run_async(code)\n"
          ]
        },
        {
          "output_type": "stream",
          "name": "stdout",
          "text": [
            "\n",
            "Perplexity:  -7.773965120453612\n",
            "\n",
            "Coherence Score:  0.4880989080386575\n"
          ]
        }
      ],
      "source": [
        "\n",
        "print('\\nPerplexity: ', lda_model.log_perplexity(doc_term_matrix,total_docs=10000))  # a measure of how good the model is. lower the better.\n",
        "\n",
        "# Compute Coherence Score\n",
        "from gensim.models.coherencemodel import CoherenceModel\n",
        "coherence_model_lda = CoherenceModel(model=lda_model, texts=tokenized_reviews, dictionary=dictionary , coherence='c_v')\n",
        "coherence_lda = coherence_model_lda.get_coherence()\n",
        "print('\\nCoherence Score: ', coherence_lda)\n"
      ]
    },
    {
      "cell_type": "code",
      "execution_count": null,
      "metadata": {
        "colab": {
          "base_uri": "https://localhost:8080/"
        },
        "id": "2tXkSfWjP3_8",
        "outputId": "49a34af4-1a34-4f97-ba07-75b121648ff0"
      },
      "outputs": [
        {
          "output_type": "stream",
          "name": "stderr",
          "text": [
            "/usr/local/lib/python3.10/dist-packages/ipykernel/ipkernel.py:283: DeprecationWarning: `should_run_async` will not call `transform_cell` automatically in the future. Please pass the result to `transformed_cell` argument and any exception that happen during thetransform in `preprocessing_exc_tuple` in IPython 7.17 and above.\n",
            "  and should_run_async(code)\n"
          ]
        }
      ],
      "source": [
        "\n",
        "\n",
        "def compute_coherence_values(dictionary, corpus, texts, limit, start=2, step=3):\n",
        "    coherence_values = []\n",
        "    model_list = []\n",
        "    for num_topics in range(start, limit, step):\n",
        "        model = gensim.models.ldamodel.LdaModel(corpus=corpus, num_topics=num_topics, id2word=dictionary)\n",
        "        model_list.append(model)\n",
        "        coherencemodel = CoherenceModel(model=model, texts=texts, dictionary=dictionary, coherence='c_v')\n",
        "        coherence_values.append(coherencemodel.get_coherence())\n",
        "\n",
        "    return model_list, coherence_values"
      ]
    },
    {
      "cell_type": "code",
      "execution_count": null,
      "metadata": {
        "colab": {
          "base_uri": "https://localhost:8080/"
        },
        "id": "UNTkZsszP3_8",
        "outputId": "e5e0160c-26f3-4b94-9c07-f49eec391b7b"
      },
      "outputs": [
        {
          "output_type": "stream",
          "name": "stderr",
          "text": [
            "/usr/local/lib/python3.10/dist-packages/ipykernel/ipkernel.py:283: DeprecationWarning: `should_run_async` will not call `transform_cell` automatically in the future. Please pass the result to `transformed_cell` argument and any exception that happen during thetransform in `preprocessing_exc_tuple` in IPython 7.17 and above.\n",
            "  and should_run_async(code)\n"
          ]
        }
      ],
      "source": [
        "model_list, coherence_values = compute_coherence_values(dictionary=dictionary, corpus=doc_term_matrix, texts=tokenized_reviews, start=2, limit=50, step=1)"
      ]
    },
    {
      "cell_type": "code",
      "execution_count": null,
      "metadata": {
        "colab": {
          "base_uri": "https://localhost:8080/",
          "height": 506
        },
        "id": "Upo0TUTWP3_8",
        "outputId": "90cfdc4b-52e9-4cde-bacf-dacf29444a8e"
      },
      "outputs": [
        {
          "output_type": "stream",
          "name": "stderr",
          "text": [
            "/usr/local/lib/python3.10/dist-packages/ipykernel/ipkernel.py:283: DeprecationWarning: `should_run_async` will not call `transform_cell` automatically in the future. Please pass the result to `transformed_cell` argument and any exception that happen during thetransform in `preprocessing_exc_tuple` in IPython 7.17 and above.\n",
            "  and should_run_async(code)\n"
          ]
        },
        {
          "output_type": "display_data",
          "data": {
            "text/plain": [
              "<Figure size 640x480 with 1 Axes>"
            ],
            "image/png": "[encoded data removed]"
          },
          "metadata": {}
        }
      ],
      "source": [
        "# Show graph\n",
        "limit=50; start=2; step=1;\n",
        "x = range(start, limit, step)\n",
        "plt.plot(x, coherence_values)\n",
        "plt.xlabel(\"Num Topics\")\n",
        "plt.ylabel(\"Coherence score\")\n",
        "plt.legend((\"coherence_values\"), loc='best')\n",
        "plt.show()# Print the coherence scores\n"
      ]
    },
    {
      "cell_type": "code",
      "execution_count": null,
      "metadata": {
        "colab": {
          "base_uri": "https://localhost:8080/"
        },
        "id": "rTD_1lY5P3_8",
        "outputId": "8605d17d-a800-44b3-e21d-87e40a800a67"
      },
      "outputs": [
        {
          "output_type": "stream",
          "name": "stdout",
          "text": [
            "Num Topics = 2  has Coherence Value of 0.4397\n",
            "Num Topics = 3  has Coherence Value of 0.4258\n",
            "Num Topics = 4  has Coherence Value of 0.4544\n",
            "Num Topics = 5  has Coherence Value of 0.4708\n",
            "Num Topics = 6  has Coherence Value of 0.4457\n",
            "Num Topics = 7  has Coherence Value of 0.4771\n",
            "Num Topics = 8  has Coherence Value of 0.4582\n",
            "Num Topics = 9  has Coherence Value of 0.4858\n",
            "Num Topics = 10  has Coherence Value of 0.4769\n",
            "Num Topics = 11  has Coherence Value of 0.4801\n",
            "Num Topics = 12  has Coherence Value of 0.4961\n",
            "Num Topics = 13  has Coherence Value of 0.4745\n",
            "Num Topics = 14  has Coherence Value of 0.4794\n",
            "Num Topics = 15  has Coherence Value of 0.4786\n",
            "Num Topics = 16  has Coherence Value of 0.4825\n",
            "Num Topics = 17  has Coherence Value of 0.4912\n",
            "Num Topics = 18  has Coherence Value of 0.4935\n",
            "Num Topics = 19  has Coherence Value of 0.4735\n",
            "Num Topics = 20  has Coherence Value of 0.4694\n",
            "Num Topics = 21  has Coherence Value of 0.4803\n",
            "Num Topics = 22  has Coherence Value of 0.4683\n",
            "Num Topics = 23  has Coherence Value of 0.4571\n",
            "Num Topics = 24  has Coherence Value of 0.4608\n",
            "Num Topics = 25  has Coherence Value of 0.4689\n",
            "Num Topics = 26  has Coherence Value of 0.4697\n",
            "Num Topics = 27  has Coherence Value of 0.4643\n",
            "Num Topics = 28  has Coherence Value of 0.4538\n",
            "Num Topics = 29  has Coherence Value of 0.4525\n",
            "Num Topics = 30  has Coherence Value of 0.4355\n",
            "Num Topics = 31  has Coherence Value of 0.4399\n",
            "Num Topics = 32  has Coherence Value of 0.4377\n",
            "Num Topics = 33  has Coherence Value of 0.4309\n",
            "Num Topics = 34  has Coherence Value of 0.4146\n",
            "Num Topics = 35  has Coherence Value of 0.4309\n",
            "Num Topics = 36  has Coherence Value of 0.4211\n",
            "Num Topics = 37  has Coherence Value of 0.4179\n",
            "Num Topics = 38  has Coherence Value of 0.4031\n",
            "Num Topics = 39  has Coherence Value of 0.4109\n",
            "Num Topics = 40  has Coherence Value of 0.4068\n",
            "Num Topics = 41  has Coherence Value of 0.398\n",
            "Num Topics = 42  has Coherence Value of 0.3937\n",
            "Num Topics = 43  has Coherence Value of 0.3922\n",
            "Num Topics = 44  has Coherence Value of 0.3939\n",
            "Num Topics = 45  has Coherence Value of 0.3892\n",
            "Num Topics = 46  has Coherence Value of 0.3918\n",
            "Num Topics = 47  has Coherence Value of 0.3814\n",
            "Num Topics = 48  has Coherence Value of 0.3922\n",
            "Num Topics = 49  has Coherence Value of 0.3897\n"
          ]
        },
        {
          "output_type": "stream",
          "name": "stderr",
          "text": [
            "/usr/local/lib/python3.10/dist-packages/ipykernel/ipkernel.py:283: DeprecationWarning: `should_run_async` will not call `transform_cell` automatically in the future. Please pass the result to `transformed_cell` argument and any exception that happen during thetransform in `preprocessing_exc_tuple` in IPython 7.17 and above.\n",
            "  and should_run_async(code)\n"
          ]
        }
      ],
      "source": [
        "# Print the coherence scores\n",
        "for m, cv in zip(x, coherence_values):\n",
        "    print(\"Num Topics =\", m, \" has Coherence Value of\", round(cv, 4))"
      ]
    },
    {
      "cell_type": "code",
      "execution_count": null,
      "metadata": {
        "colab": {
          "base_uri": "https://localhost:8080/"
        },
        "id": "_DsEuqkiP3_8",
        "outputId": "d5bd773e-d8a1-470f-acba-c451b0a3291f"
      },
      "outputs": [
        {
          "output_type": "stream",
          "name": "stderr",
          "text": [
            "/usr/local/lib/python3.10/dist-packages/ipykernel/ipkernel.py:283: DeprecationWarning: `should_run_async` will not call `transform_cell` automatically in the future. Please pass the result to `transformed_cell` argument and any exception that happen during thetransform in `preprocessing_exc_tuple` in IPython 7.17 and above.\n",
            "  and should_run_async(code)\n"
          ]
        },
        {
          "output_type": "execute_result",
          "data": {
            "text/plain": [
              "[(0,\n",
              "  '0.061*\"friend\" + 0.043*\"safe\" + 0.033*\"relationship\" + 0.032*\"space\" + 0.029*\"family\" + 0.020*\"issue\" + 0.017*\"place\" + 0.014*\"time\" + 0.014*\"session\" + 0.014*\"people\"'),\n",
              " (1,\n",
              "  '0.113*\"talk\" + 0.091*\"easy\" + 0.057*\"session\" + 0.020*\"time\" + 0.020*\"comfortable\" + 0.019*\"thing\" + 0.017*\"conversation\" + 0.017*\"personable\" + 0.016*\"nice\" + 0.014*\"thought\"'),\n",
              " (2,\n",
              "  '0.089*\"life\" + 0.035*\"anxiety\" + 0.028*\"thing\" + 0.024*\"tool\" + 0.022*\"time\" + 0.021*\"issue\" + 0.021*\"way\" + 0.019*\"positive\" + 0.018*\"many\" + 0.018*\"different\"'),\n",
              " (3,\n",
              "  '0.301*\"great\" + 0.071*\"listener\" + 0.046*\"advice\" + 0.038*\"mental\" + 0.033*\"health\" + 0.021*\"help\" + 0.020*\"good\" + 0.018*\"insight\" + 0.018*\"issue\" + 0.017*\"resource\"'),\n",
              " (4,\n",
              "  '0.112*\"amazing\" + 0.107*\"time\" + 0.068*\"help\" + 0.040*\"life\" + 0.034*\"well\" + 0.031*\"short\" + 0.024*\"thing\" + 0.021*\"grateful\" + 0.018*\"point\" + 0.017*\"situation\"'),\n",
              " (5,\n",
              "  '0.185*\"helpful\" + 0.058*\"supportive\" + 0.032*\"responsive\" + 0.030*\"thoughtful\" + 0.026*\"insightful\" + 0.025*\"response\" + 0.024*\"manner\" + 0.022*\"time\" + 0.019*\"understanding\" + 0.019*\"timely\"'),\n",
              " (6,\n",
              "  '0.138*\"good\" + 0.067*\"question\" + 0.046*\"problem\" + 0.044*\"right\" + 0.044*\"wonderful\" + 0.038*\"counselor\" + 0.032*\"issue\" + 0.026*\"listener\" + 0.026*\"fantastic\" + 0.025*\"advice\"'),\n",
              " (7,\n",
              "  '0.043*\"kind\" + 0.040*\"comfortable\" + 0.040*\"honest\" + 0.032*\"open\" + 0.028*\"empathetic\" + 0.028*\"compassionate\" + 0.026*\"approach\" + 0.021*\"gentle\" + 0.020*\"heart\" + 0.019*\"experience\"'),\n",
              " (8,\n",
              "  '0.048*\"thank\" + 0.030*\"support\" + 0.027*\"expertise\" + 0.023*\"love\" + 0.022*\"guidance\" + 0.022*\"much\" + 0.020*\"grateful\" + 0.016*\"word\" + 0.015*\"journey\" + 0.014*\"compassion\"'),\n",
              " (9,\n",
              "  '0.105*\"counselor\" + 0.072*\"session\" + 0.056*\"counseling\" + 0.030*\"week\" + 0.029*\"awesome\" + 0.023*\"help\" + 0.023*\"comfortable\" + 0.021*\"happy\" + 0.017*\"first\" + 0.017*\"well\"'),\n",
              " (10,\n",
              "  '0.130*\"therapist\" + 0.084*\"therapy\" + 0.038*\"good\" + 0.037*\"first\" + 0.035*\"session\" + 0.034*\"time\" + 0.027*\"experience\" + 0.026*\"year\" + 0.022*\"month\" + 0.015*\"lucky\"'),\n",
              " (11,\n",
              "  '0.077*\"patient\" + 0.070*\"understanding\" + 0.051*\"excellent\" + 0.036*\"kind\" + 0.033*\"client\" + 0.033*\"professional\" + 0.026*\"respectful\" + 0.021*\"caring\" + 0.021*\"issue\" + 0.020*\"warm\"')]"
            ]
          },
          "metadata": {},
          "execution_count": 37
        }
      ],
      "source": [
        "# Select the model and print the topics\n",
        "optimal_model = model_list[10]\n",
        "model_topics = optimal_model.show_topics(formatted=False)\n",
        "optimal_model.print_topics(num_words=10)"
      ]
    },
    {
      "cell_type": "code",
      "execution_count": null,
      "metadata": {
        "colab": {
          "base_uri": "https://localhost:8080/",
          "height": 918
        },
        "id": "CTPwvqzOP3_8",
        "outputId": "67cc3357-9645-40a4-dff0-064bdd81042b"
      },
      "outputs": [
        {
          "output_type": "stream",
          "name": "stderr",
          "text": [
            "/usr/local/lib/python3.10/dist-packages/ipykernel/ipkernel.py:283: DeprecationWarning: `should_run_async` will not call `transform_cell` automatically in the future. Please pass the result to `transformed_cell` argument and any exception that happen during thetransform in `preprocessing_exc_tuple` in IPython 7.17 and above.\n",
            "  and should_run_async(code)\n"
          ]
        },
        {
          "output_type": "execute_result",
          "data": {
            "text/plain": [
              "PreparedData(topic_coordinates=              x         y  topics  cluster       Freq\n",
              "topic                                                \n",
              "2     -0.164372  0.106101       1        1  14.153378\n",
              "4     -0.149098  0.095197       2        1   9.265294\n",
              "10    -0.177466 -0.133847       3        1   8.798520\n",
              "9     -0.100959 -0.155427       4        1   8.615605\n",
              "3      0.113761  0.230162       5        1   8.604167\n",
              "5      0.224256 -0.011411       6        1   7.908482\n",
              "8     -0.101988  0.128193       7        1   7.883558\n",
              "6      0.137975  0.105721       8        1   7.832578\n",
              "1     -0.010465 -0.169055       9        1   7.429407\n",
              "0     -0.140953  0.003179      10        1   6.772983\n",
              "11     0.218093 -0.062891      11        1   6.618342\n",
              "7      0.151217 -0.135923      12        1   6.117686, topic_info=          Term          Freq         Total Category  logprob  loglift\n",
              "36       great  24823.000000  24823.000000  Default  30.0000  30.0000\n",
              "18     helpful  14981.000000  14981.000000  Default  29.0000  29.0000\n",
              "55   therapist  10968.000000  10968.000000  Default  28.0000  28.0000\n",
              "107    amazing   9768.000000   9768.000000  Default  27.0000  27.0000\n",
              "45        good  16462.000000  16462.000000  Default  26.0000  26.0000\n",
              "..         ...           ...           ...      ...      ...      ...\n",
              "326       mind    587.615777   1596.180713  Topic12  -4.5834   1.7947\n",
              "352    feeling    702.571739   4654.222057  Topic12  -4.4047   0.9032\n",
              "292  judgement    507.523313   1292.525863  Topic12  -4.7299   1.8592\n",
              "11     session    677.952000  18385.287466  Topic12  -4.4404  -0.5062\n",
              "136   positive    493.215176   4171.515631  Topic12  -4.7585   0.6589\n",
              "\n",
              "[801 rows x 6 columns], token_table=      Topic      Freq   Term\n",
              "term                        \n",
              "39        1  0.315253   able\n",
              "39        2  0.132164   able\n",
              "39        3  0.084202   able\n",
              "39        4  0.100099   able\n",
              "39        5  0.030986   able\n",
              "...     ...       ...    ...\n",
              "249      10  0.116460   year\n",
              "249      12  0.000521   year\n",
              "1116      3  0.922906  young\n",
              "1116      6  0.069983  young\n",
              "1473     11  0.997852   zone\n",
              "\n",
              "[2099 rows x 3 columns], R=30, lambda_step=0.01, plot_opts={'xlab': 'PC1', 'ylab': 'PC2'}, topic_order=[3, 5, 11, 10, 4, 6, 9, 7, 2, 1, 12, 8])"
            ],
            "text/html": [
              "\n",
              "<link rel=\"stylesheet\" type=\"text/css\" href=\"https://cdn.jsdelivr.net/gh/bmabey/pyLDAvis@3.4.0/pyLDAvis/js/ldavis.v1.0.0.css\">\n",
              "\n",
              "\n",
              "<div id=\"ldavis_el5291400309453093286794382085\" style=\"background-color:white;\"></div>\n",
              "<script type=\"text/javascript\">\n",
              "\n",
              "var ldavis_el5291400309453093286794382085_data = {\"mdsDat\": {\"x\": [-0.1643720414178631, -0.14909842510268273, -0.17746550969832858, -0.1009588637805223, 0.11376068255688959, 0.22425608186124207, -0.10198837195198555, 0.13797515605851174, -0.01046532646163406, -0.1409528954957227, 0.21809288012190953, 0.1512166333101855], \"y\": [0.10610095564187373, 0.09519659357383066, -0.13384732772864924, -0.15542668592313558, 0.2301624099214908, -0.011410588129141662, 0.12819252522251767, 0.10572144271272403, -0.1690548623303842, 0.0031788591259187056, -0.06289051164486337, -0.1359228104421805], \"topics\": [1, 2, 3, 4, 5, 6, 7, 8, 9, 10, 11, 12], \"cluster\": [1, 1, 1, 1, 1, 1, 1, 1, 1, 1, 1, 1], \"Freq\": [14.153378282155376, 9.265293657514007, 8.798519653384778, 8.615604970916547, 8.604167410148282, 7.908482110878744, 7.883558388228254, 7.832577591741286, 7.429406841160489, 6.772982810604108, 6.618341862185533, 6.1176864210826025]}, \"tinfo\": {\"Term\": [\"great\", \"helpful\", \"therapist\", \"amazing\", \"good\", \"talk\", \"counselor\", \"easy\", \"life\", \"therapy\", \"listener\", \"patient\", \"time\", \"question\", \"understanding\", \"session\", \"friend\", \"counseling\", \"supportive\", \"kind\", \"help\", \"excellent\", \"thank\", \"right\", \"first\", \"mental\", \"problem\", \"anxiety\", \"safe\", \"wonderful\", \"difference\", \"period\", \"control\", \"outlook\", \"mood\", \"transition\", \"inner\", \"review\", \"interaction\", \"mindset\", \"conclusion\", \"team\", \"example\", \"optimistic\", \"authentic\", \"immediate\", \"overwhelming\", \"awareness\", \"logical\", \"actual\", \"date\", \"alternative\", \"outcome\", \"ongoing\", \"large\", \"change\", \"cognitive\", \"darkest\", \"program\", \"bottom\", \"improvement\", \"realistic\", \"major\", \"impact\", \"depression\", \"aspect\", \"event\", \"handle\", \"anxiety\", \"stress\", \"area\", \"life\", \"anger\", \"certain\", \"negative\", \"different\", \"positive\", \"tool\", \"way\", \"many\", \"aware\", \"self\", \"emotion\", \"part\", \"thing\", \"technique\", \"month\", \"perspective\", \"able\", \"thought\", \"issue\", \"work\", \"time\", \"feeling\", \"healthy\", \"difficult\", \"help\", \"session\", \"well\", \"grateful\", \"situation\", \"amount\", \"source\", \"version\", \"invaluable\", \"amazing\", \"everyday\", \"reliable\", \"wrong\", \"straight\", \"rebecca\", \"valid\", \"lori\", \"reassurance\", \"councilor\", \"minded\", \"focused\", \"communicator\", \"validation\", \"applicable\", \"colleague\", \"heard\", \"lifestyle\", \"carrie\", \"memory\", \"force\", \"mistake\", \"analysis\", \"concise\", \"observant\", \"fresh\", \"view\", \"number\", \"rest\", \"breakthrough\", \"short\", \"tough\", \"move\", \"point\", \"rough\", \"attention\", \"time\", \"help\", \"well\", \"track\", \"difficult\", \"huge\", \"grateful\", \"life\", \"hard\", \"decision\", \"situation\", \"person\", \"thing\", \"support\", \"much\", \"able\", \"work\", \"advice\", \"guidance\", \"counselor\", \"understanding\", \"glad\", \"journey\", \"way\", \"lucky\", \"minute\", \"outstanding\", \"professionalism\", \"type\", \"success\", \"loss\", \"favorite\", \"satisfied\", \"convenient\", \"site\", \"terrific\", \"depressed\", \"worried\", \"profession\", \"crucial\", \"eager\", \"business\", \"symptom\", \"perfect\", \"list\", \"credit\", \"item\", \"soft\", \"fine\", \"father\", \"cheerleader\", \"terrible\", \"chaos\", \"purpose\", \"therapist\", \"appointment\", \"star\", \"therapy\", \"match\", \"plan\", \"accountable\", \"balance\", \"young\", \"picture\", \"concrete\", \"meeting\", \"first\", \"last\", \"step\", \"year\", \"action\", \"schedule\", \"month\", \"betterhelp\", \"experience\", \"good\", \"session\", \"time\", \"past\", \"platform\", \"progress\", \"week\", \"goal\", \"several\", \"wonderful\", \"much\", \"well\", \"person\", \"work\", \"grateful\", \"able\", \"interested\", \"competent\", \"treatment\", \"background\", \"basis\", \"wide\", \"talking\", \"tangible\", \"tracy\", \"initial\", \"understood\", \"stacy\", \"body\", \"awesome\", \"night\", \"surprised\", \"history\", \"essential\", \"weekend\", \"website\", \"apprehensive\", \"casual\", \"dynamic\", \"rhonda\", \"access\", \"decade\", \"realization\", \"insecurity\", \"variety\", \"desire\", \"hopeful\", \"partner\", \"forward\", \"sincere\", \"face\", \"spot\", \"counseling\", \"daily\", \"busy\", \"traditional\", \"counselor\", \"service\", \"willing\", \"option\", \"couple\", \"online\", \"call\", \"week\", \"happy\", \"session\", \"phone\", \"opening\", \"earth\", \"glad\", \"video\", \"comfortable\", \"first\", \"help\", \"well\", \"betterhelp\", \"experience\", \"progress\", \"work\", \"love\", \"wonderful\", \"issue\", \"time\", \"able\", \"much\", \"message\", \"person\", \"listening\", \"health\", \"active\", \"crazy\", \"unbiased\", \"empathic\", \"mental\", \"powerful\", \"wood\", \"mindfulness\", \"assignment\", \"clinical\", \"wellness\", \"wealth\", \"andor\", \"provider\", \"low\", \"appreciative\", \"cool\", \"tunnel\", \"affordable\", \"psychologist\", \"game\", \"tactic\", \"adhd\", \"writing\", \"trick\", \"okay\", \"confused\", \"theme\", \"great\", \"holistic\", \"listener\", \"valuable\", \"tip\", \"activity\", \"practical\", \"advice\", \"resource\", \"useful\", \"exercise\", \"feedback\", \"material\", \"insight\", \"deal\", \"skill\", \"information\", \"help\", \"tool\", \"worksheet\", \"situation\", \"issue\", \"good\", \"idea\", \"concern\", \"work\", \"perspective\", \"session\", \"helpful\", \"experience\", \"thing\", \"timely\", \"manner\", \"humor\", \"look\", \"appropriate\", \"fortunate\", \"informative\", \"panic\", \"impressed\", \"helping\", \"bright\", \"welcoming\", \"creative\", \"sympathetic\", \"disorder\", \"leave\", \"enjoyable\", \"communicating\", \"uplifting\", \"system\", \"find\", \"guiding\", \"super\", \"scenario\", \"upbeat\", \"battle\", \"burden\", \"dealing\", \"achievable\", \"wall\", \"reassuring\", \"teresa\", \"helpful\", \"straightforward\", \"response\", \"responsive\", \"angle\", \"supportive\", \"thoughtful\", \"insightful\", \"nonjudgmental\", \"check\", \"presence\", \"thorough\", \"suggestion\", \"attentive\", \"quick\", \"message\", \"sense\", \"understanding\", \"kind\", \"concern\", \"feedback\", \"strategy\", \"professional\", \"time\", \"advice\", \"knowledgeable\", \"situation\", \"compassionate\", \"wonderful\", \"session\", \"perspective\", \"issue\", \"thing\", \"sound\", \"kindness\", \"compassion\", \"faith\", \"energy\", \"obstacle\", \"expert\", \"pleased\", \"depth\", \"worry\", \"similar\", \"honesty\", \"beautiful\", \"advise\", \"brilliant\", \"warmth\", \"ryan\", \"passionate\", \"strength\", \"grace\", \"considerate\", \"courage\", \"empathy\", \"reach\", \"wisdom\", \"rare\", \"breakup\", \"turn\", \"reference\", \"pertinent\", \"healing\", \"peace\", \"phenomenal\", \"pleasure\", \"counsel\", \"expertise\", \"patience\", \"successful\", \"assistance\", \"encouragement\", \"thank\", \"word\", \"clarity\", \"path\", \"love\", \"guidance\", \"woman\", \"truth\", \"knowledge\", \"support\", \"journey\", \"much\", \"grateful\", \"process\", \"concern\", \"care\", \"insight\", \"level\", \"work\", \"life\", \"situation\", \"thankful\", \"time\", \"thing\", \"fantastic\", \"root\", \"break\", \"career\", \"respond\", \"experienced\", \"appreciate\", \"figure\", \"marriage\", \"article\", \"refreshing\", \"particular\", \"spiritual\", \"follow\", \"communicate\", \"outlet\", \"piece\", \"surface\", \"complicated\", \"underlying\", \"punctual\", \"detailed\", \"late\", \"lesson\", \"sign\", \"visit\", \"regard\", \"male\", \"suit\", \"bias\", \"right\", \"understand\", \"answer\", \"virtual\", \"question\", \"direction\", \"good\", \"sure\", \"problem\", \"listen\", \"hand\", \"wonderful\", \"lot\", \"simple\", \"stuff\", \"listener\", \"counselor\", \"solution\", \"issue\", \"advice\", \"effective\", \"thing\", \"deep\", \"work\", \"person\", \"need\", \"communication\", \"suggestion\", \"thought\", \"insight\", \"thoughtful\", \"easy\", \"talk\", \"personable\", \"email\", \"journal\", \"scheduling\", \"weight\", \"exceptional\", \"second\", \"stressor\", \"comforting\", \"single\", \"shoulder\", \"receptive\", \"resourceful\", \"lady\", \"angel\", \"checking\", \"qualified\", \"connect\", \"cause\", \"outside\", \"management\", \"stage\", \"entry\", \"half\", \"abuse\", \"scary\", \"courteous\", \"fashion\", \"general\", \"uncomfortable\", \"live\", \"extra\", \"chat\", \"thinking\", \"nice\", \"ease\", \"conversation\", \"flexible\", \"session\", \"video\", \"message\", \"comfortable\", \"friendly\", \"next\", \"open\", \"thought\", \"feeling\", \"thing\", \"time\", \"able\", \"first\", \"week\", \"topic\", \"concern\", \"sure\", \"person\", \"process\", \"issue\", \"family\", \"environment\", \"boundary\", \"dark\", \"friend\", \"habit\", \"wish\", \"stuck\", \"member\", \"close\", \"esteem\", \"rapport\", \"relaxed\", \"none\", \"additional\", \"money\", \"free\", \"dialogue\", \"toxic\", \"reframe\", \"school\", \"adult\", \"painful\", \"psychology\", \"enjoy\", \"meditation\", \"research\", \"hearing\", \"addiction\", \"mean\", \"heather\", \"corner\", \"space\", \"counselling\", \"safe\", \"laugh\", \"judge\", \"childhood\", \"term\", \"relationship\", \"express\", \"judgment\", \"place\", \"reason\", \"high\", \"people\", \"objective\", \"trauma\", \"personal\", \"trust\", \"long\", \"issue\", \"comfortable\", \"able\", \"time\", \"session\", \"life\", \"feeling\", \"professional\", \"thing\", \"good\", \"help\", \"well\", \"excellent\", \"chance\", \"zone\", \"sort\", \"offer\", \"vent\", \"knowledgable\", \"polite\", \"willingness\", \"asset\", \"read\", \"unsure\", \"tone\", \"observation\", \"tackle\", \"consideration\", \"encourage\", \"vibe\", \"sweet\", \"effect\", \"pragmatic\", \"remember\", \"obvious\", \"respectful\", \"patient\", \"special\", \"flexibility\", \"evident\", \"foot\", \"messaging\", \"client\", \"show\", \"reflection\", \"caring\", \"input\", \"understanding\", \"counsellor\", \"warm\", \"comfort\", \"reply\", \"professional\", \"kind\", \"intuitive\", \"back\", \"core\", \"empathetic\", \"compassionate\", \"knowledgeable\", \"solution\", \"friendly\", \"issue\", \"attentive\", \"counselor\", \"work\", \"problem\", \"supportive\", \"person\", \"insightful\", \"incredible\", \"need\", \"care\", \"concern\", \"encouraging\", \"smart\", \"interest\", \"fear\", \"honest\", \"sharing\", \"sensitive\", \"mechanism\", \"connected\", \"judgemental\", \"proactive\", \"spirit\", \"traumatic\", \"make\", \"manageable\", \"concerned\", \"skilled\", \"bad\", \"trigger\", \"heart\", \"offering\", \"trustworthy\", \"practice\", \"firm\", \"hearted\", \"secure\", \"intention\", \"facetoface\", \"fair\", \"combat\", \"gentle\", \"funny\", \"main\", \"robin\", \"comment\", \"choice\", \"relevant\", \"voice\", \"judgmental\", \"story\", \"relatable\", \"circumstance\", \"empathetic\", \"open\", \"approach\", \"kind\", \"tell\", \"comfortable\", \"compassionate\", \"share\", \"direct\", \"genuine\", \"knowledgeable\", \"feel\", \"guide\", \"experience\", \"supportive\", \"mind\", \"feeling\", \"judgement\", \"session\", \"positive\"], \"Freq\": [24823.0, 14981.0, 10968.0, 9768.0, 16462.0, 7895.0, 13828.0, 6321.0, 17568.0, 7271.0, 7686.0, 4809.0, 21263.0, 5439.0, 6866.0, 18385.0, 3923.0, 5372.0, 6614.0, 6337.0, 12552.0, 3169.0, 4754.0, 3346.0, 5115.0, 3054.0, 5483.0, 5352.0, 3024.0, 6286.0, 1092.0845031957165, 1013.2174520506239, 723.2431692808655, 516.8376926390904, 398.30167820569443, 364.68546490643195, 336.58401309839195, 314.5432706970395, 489.89218364911346, 300.9254813661012, 248.65047293238322, 247.2760177749985, 255.97507282330986, 238.3692745759549, 241.71662779806093, 227.22339543748527, 196.02811489315707, 209.08440911929728, 192.8940709669306, 167.45846660156582, 159.71384483467278, 153.5233225911535, 162.70619873859087, 148.24511375356843, 146.55621514339748, 2351.4245542987555, 144.69385078132504, 144.54413940037668, 139.94508258447485, 169.53254527893884, 857.4779116875872, 448.0690984347691, 448.5035215916914, 590.0055529852345, 1565.4816764313794, 529.6908823480069, 291.425033745713, 214.46057763787934, 4626.979815708007, 1043.927858498939, 1055.3316909042514, 11811.046370436237, 289.68161157613787, 688.3873618520088, 691.2674322202156, 2361.0769431758526, 2591.4580439990277, 3182.72768877673, 2761.576256855423, 2364.4049088670376, 393.6107319261447, 1172.38480698614, 1120.407641818988, 732.465254077099, 3786.7383481243755, 885.3429347239763, 1748.172919883729, 1665.4968073520333, 2340.4872614554215, 1690.6745823325418, 2771.203869335177, 2280.6876921189664, 2881.7732499962335, 1358.6240305380848, 807.8872710535586, 1113.2725349119944, 1504.0215929449598, 1444.7073932324645, 1137.0918200261565, 1101.5905874465004, 910.4891197978719, 865.1711889159637, 380.2156546273331, 357.0735626682804, 420.3569089257515, 9738.434356058873, 412.62876731522607, 261.89339040817106, 253.36917588594224, 242.2174848562611, 219.92851786987023, 206.46558986608073, 180.43644871426972, 179.9774776567085, 179.1823981888526, 263.4727228333811, 162.83711450762536, 158.3362360589105, 150.19952546031308, 147.61904492915846, 131.7649584074446, 127.24640071311647, 129.32451291006396, 118.99460268593674, 107.38448800652873, 123.95015402699491, 97.15490547382043, 93.92539185757973, 86.6981689642186, 84.29127753964757, 288.047401369308, 772.3544195691405, 267.1446332144206, 105.878558917033, 167.68023436181605, 2660.328925064447, 1389.1859752324974, 347.40204214833386, 1529.2884820906554, 491.8377483257978, 626.168630270876, 9359.504866549907, 5910.064759875752, 2990.782085296719, 433.15011385575264, 1415.38888796017, 632.2873117509375, 1840.0273371251556, 3473.2195029985833, 676.5702942728226, 517.7094590393208, 1445.4486335450733, 1420.1411989369503, 2075.4153010168975, 1233.4260634600732, 1004.338155510843, 981.0346390637479, 1021.8576391339461, 777.9978294027956, 583.789491648153, 725.1664855908774, 609.3843761924057, 516.3908549381782, 512.0849449131332, 534.0602066617096, 1280.1983103047096, 363.50440952501583, 302.06588176413845, 448.6877753978138, 531.7425332492141, 286.97128616638076, 235.84272218497574, 225.12509608418398, 220.61133425733357, 244.38530210818666, 225.5318727690256, 186.09827324758578, 163.8611927331662, 135.99236910945663, 122.60870766898483, 120.104657166389, 120.03597220694313, 119.95575472031909, 130.93300707987126, 830.4534700117546, 108.69517569974225, 106.85630557734976, 101.53853985240268, 100.91647649159081, 99.38009935878034, 97.04203831038568, 98.3511630482923, 111.4737735104525, 92.67627404016048, 91.84422819576166, 10714.871848357721, 844.6851861386095, 307.2714219449762, 6912.650544871887, 631.2845308067276, 723.9646169343359, 360.5300186673301, 473.6838253231805, 211.4524476104164, 226.0598468805559, 252.97782422755807, 691.6028439410039, 3040.3401245576088, 981.0690450771825, 1124.7757314734488, 2178.7948072498034, 554.8710453844616, 794.4779921415751, 1828.696392606873, 1012.5187665221276, 2195.180776349978, 3124.475589947514, 2928.3128089955717, 2787.2988425511203, 625.74880224341, 395.0441578432248, 743.236297726616, 957.5389930640926, 725.9009263222521, 490.8959777393304, 808.612981362682, 719.0454068773606, 795.0411029177133, 759.1252322330823, 765.316216272162, 696.5726507950147, 625.4818791101914, 394.8899621363522, 361.93723135123554, 332.4945361991024, 318.397496182232, 255.92017406388155, 265.4908475944178, 470.45758944865077, 208.15047474723272, 195.0249715399064, 186.54530445511014, 180.9624696914928, 165.8232894584894, 159.31431521591963, 2337.426052698931, 155.32111285242544, 149.2061508651303, 143.527063580194, 141.33870675111268, 137.82719118023394, 136.60858957940897, 158.21239304990863, 122.25240960919623, 137.4535304276062, 119.02064943227526, 117.24997443843444, 116.8865035766642, 155.5429527149971, 110.31003662499214, 857.5571585050918, 106.724335632237, 411.8714293898794, 279.3993227854667, 240.96789961804018, 305.32821176220824, 517.215633384535, 322.34201141688357, 4571.726865610284, 599.8672803620395, 424.8080849807036, 238.98615908655842, 8523.139176434464, 1211.2187279685131, 790.3492007654565, 521.6183072271763, 1014.2262119892908, 781.9795015499882, 549.946543159792, 2436.9667132301197, 1699.101728333803, 5814.729003752361, 571.9808388833632, 380.47412275888973, 519.9259369727926, 979.6748466340521, 711.4866472645479, 1833.1960919565236, 1413.1854189031496, 1898.4840895020313, 1405.5906415633629, 744.9787164356976, 1198.1884875151236, 803.9099565356445, 1259.2879403213374, 720.0334111514936, 867.882939710956, 962.6463230112737, 1052.8630354543905, 743.0303263518141, 651.7765639248152, 589.6330102204163, 595.0147053992816, 1238.586592733617, 2670.709730447953, 407.5911237679287, 314.0172691635756, 285.3213365389581, 247.11136082384206, 3042.8483999723767, 185.14273027893418, 176.25037732432577, 158.64317882277615, 150.52248792342286, 147.15697345625654, 124.63955254223363, 146.485267576999, 117.54120490087043, 114.70217838388467, 114.25342052837466, 289.7358448512542, 112.84471436067527, 109.77251638736212, 109.4758485657019, 108.32836710395064, 102.46320454331422, 102.05503917517485, 96.85917255020438, 96.18213843628735, 87.33423764433297, 85.70635840359007, 83.58624818426719, 73.22781169402708, 24312.479749171318, 94.93413596800922, 5722.523120581003, 659.5870260428463, 722.7851608561986, 215.28886528746855, 1118.2097597127786, 3701.74023259979, 1391.1289428712585, 633.2036413988761, 593.7604335338226, 1106.8088437561798, 265.73408696166183, 1442.5238517696926, 612.9358275168548, 615.9423451134553, 413.9513414597915, 1728.694260387943, 1071.9168520191915, 497.7834509596105, 1030.809841691733, 1416.3618053824614, 1594.0223950892312, 456.6660477504134, 718.035312658671, 983.0936363751067, 691.9366779121934, 1175.46135871391, 1014.6121589483081, 705.3026769355132, 796.6064776427048, 1397.9456548110286, 1786.5069982660548, 669.1881189713035, 432.867171049873, 377.65787980831874, 313.08630763770776, 273.31037146797377, 237.70575920656887, 230.98782718688165, 218.81916705600156, 198.32622011885456, 169.00006969910976, 168.0905161221486, 160.37591523208857, 157.66994185711744, 145.11528517885029, 142.56925679779195, 137.37656923885598, 129.64750970206464, 317.20294653865096, 117.19595849025485, 117.17864445547966, 197.5610453446215, 106.74651019521627, 106.12862152790149, 100.50811896577204, 99.67206999921335, 88.51959055700594, 81.29096805932421, 77.76184688013814, 162.95886464582344, 115.90226869448065, 13770.066962614266, 273.4895686994552, 1852.024344178329, 2367.1713733886522, 165.62484528279808, 4279.9155962363575, 2215.933270974607, 1927.8807560060181, 656.8333221507263, 1095.328445729716, 433.42973441066476, 328.4909357752683, 1204.482281668586, 1221.4242507289746, 557.6472132385092, 934.5762595749716, 623.5948747816881, 1403.8915072090313, 1333.729258302313, 1064.5456320784194, 778.3829340549489, 540.0998673020526, 928.716795644333, 1671.5466528657237, 1121.2647832960522, 774.6796515104679, 942.5064163042719, 819.2671761148806, 932.5694582469646, 951.8610828652115, 605.325444472388, 712.4741403999311, 599.7790002928876, 501.9158208280215, 585.9187015156498, 1070.989107812776, 401.5140464520574, 577.0451089441451, 313.36713354988206, 306.3325499375884, 301.64076892869156, 246.05501357791397, 232.40707745878242, 235.54943942440275, 214.25109906874283, 211.46991802108994, 230.0023615767599, 209.90894091242498, 201.28648612588333, 188.44114551749516, 189.6906241385192, 481.3182787534672, 255.2298921374924, 149.41419917766686, 139.6558194498318, 924.1817354038349, 139.50432253902366, 767.2930388445145, 132.53544739100553, 124.25831137149895, 145.2004735539118, 103.78369018489313, 103.60118488224059, 940.8047865573313, 481.20594125822896, 352.73659539461767, 527.7273269552169, 397.49880903779433, 2019.715964895796, 623.4325245876902, 210.42991639709882, 265.4946100089832, 691.5030434084237, 3560.850186901859, 1168.4921193893144, 589.5288201126255, 678.6275655758062, 1736.4166726812068, 1658.2317080898763, 523.0920942125042, 399.1276682170616, 893.0798439856836, 2237.7463443364386, 1147.9315286223155, 1607.797554991174, 1479.6811958946948, 957.337029268731, 1060.3954335996546, 797.5141021750019, 849.5278115412103, 536.5062468955994, 873.0976395117359, 937.367107395614, 701.1110734065675, 607.5756869152292, 692.9901351528218, 605.806785385479, 1946.2213432389615, 1217.6583435826476, 349.5644393448336, 317.7180322314234, 281.3610102913874, 265.13219610075356, 256.8214070502151, 437.35649710122664, 295.305637369411, 216.34209511855536, 210.21930749964412, 262.22261352959214, 191.6150909087679, 164.94442294876697, 160.47112035084743, 158.42384960819945, 176.2752915564429, 147.2404817080324, 187.02536113142614, 136.04457641911998, 120.98244209259065, 120.7238959419084, 116.60470816130712, 116.31759938814479, 112.7618399724393, 132.27233066405304, 101.72757530315461, 87.57549429023821, 81.3405643137589, 74.02303981724185, 3271.635483725353, 784.4937733978192, 961.926121108482, 182.7832161028968, 4937.994887307549, 872.0372772080939, 10142.499386688389, 1378.7025160082753, 3414.7710204006275, 1587.15601414323, 608.6795115336004, 3270.4804328677606, 361.0354559057166, 303.728054598895, 361.4550599402544, 1950.3737126800017, 2803.5023109955478, 886.0280775264183, 2350.0154134920344, 1821.6272248054681, 471.21251994283006, 1753.4206764017122, 517.5022045623679, 1132.90017964905, 776.9930727670352, 614.0695431975817, 425.98375721439146, 480.8605676154886, 542.0990701627996, 497.002142833171, 434.7643512723115, 6320.251898667333, 7892.153175385742, 1172.4275526357549, 364.99570374081765, 334.87129344438097, 333.70280049214415, 300.0058671944282, 292.64795115574367, 284.29289165166875, 242.78401494632632, 240.2882625249131, 236.00782553836538, 211.19185160715287, 208.64896994832336, 203.09350744907343, 199.58676054113198, 193.17424172337553, 181.19650616613123, 179.050410743114, 174.47521687364284, 174.0040382989492, 170.23009023675647, 168.12258909094734, 158.4791570221113, 157.71749717313185, 151.01035152898845, 150.77416885869383, 148.8831468178987, 142.0383200727968, 135.20776703257644, 344.80091492179815, 344.44901444814747, 629.7600862099864, 296.61386266581906, 759.5645081198236, 458.7240681306373, 1138.7171584865105, 580.5012380366626, 1175.078885188963, 605.1756291708214, 3965.2034822906407, 670.2693158616107, 895.9782081300834, 1393.0492184505329, 652.6348850485138, 428.3215319308829, 899.7935466850192, 995.9992279822023, 902.3379077369515, 1315.9977436237857, 1402.406526139056, 828.7345568343159, 614.9061340908481, 550.2933314437892, 379.9078561600423, 444.5387041515414, 391.72053371539363, 425.86359344745875, 382.8814037824439, 375.1136795972294, 1874.3472505179157, 635.7293637590566, 464.68924146833746, 409.0352297052816, 3913.3925297748324, 347.79263722779194, 346.3940692642345, 272.44494010306704, 263.13133054391653, 439.09010932754126, 228.09782997141966, 208.91138226476147, 198.21439593551986, 196.61598596932785, 190.7874436808318, 183.68134425282983, 451.7818846173727, 173.58471388937872, 162.69640744652028, 158.17851686827203, 155.5272756811403, 155.22718662230437, 151.69740537049088, 150.23279647221526, 148.05747685053888, 141.8418036698138, 140.4524245257189, 130.09251966398836, 130.11088248223697, 127.41360827373305, 405.44047460746174, 282.8645871119809, 2049.8141014054086, 545.1720066049883, 2729.0950310201247, 216.72678445189172, 356.9214033089791, 240.73181944337273, 536.6721114712788, 2128.1815706604207, 429.59770312646083, 520.6555248863555, 1077.3846950670186, 482.4083384515578, 334.61435840944665, 869.390371805299, 271.618509537144, 629.0407331481867, 801.0627845432182, 576.2261851644798, 539.7572427851628, 1279.8212646215338, 791.3646080688821, 707.9009009745117, 909.4621613718335, 871.7592494627515, 825.1544463891488, 592.4105418079779, 496.37658897150686, 500.2208946211185, 507.7921854447518, 480.80604546810906, 458.0368029496089, 3166.593813559161, 360.87269596669466, 323.7395819746336, 445.6424947216726, 305.7176459920309, 238.74374363082455, 292.9700153564548, 199.78222599130623, 191.60572757384182, 197.31618157907172, 172.61943035465066, 169.22314498205048, 163.72191662647737, 159.97310334054262, 158.86585982669843, 159.1806613734963, 158.26035526435683, 148.7267503764809, 1043.62512920807, 140.70076640332206, 138.43637340285613, 315.0690347018781, 175.5216668719597, 1612.1648617722433, 4774.597971223715, 125.45395587503698, 214.44751463018054, 130.79718244215888, 112.9049570936775, 110.32582771672055, 2059.842350014174, 323.43215191365806, 272.62619168043, 1321.6497684289825, 325.4833076700217, 4372.79806185689, 852.2979684904022, 1227.7328102236202, 437.01217925169595, 349.87180334291344, 2029.2726679683328, 2234.454051132352, 414.0736504953706, 214.60663155499392, 268.95852266770265, 874.8537303110021, 1036.1491391780837, 940.1447036319915, 660.4427255349632, 582.4963158391932, 1316.1986343159624, 705.0307433421631, 1148.127830700115, 982.0877917757241, 682.4523312193509, 700.5419863919442, 644.0153476564518, 524.6057349922124, 416.4804044106373, 466.01261823709496, 448.75473893232095, 474.84110936914004, 844.223189842824, 591.6403709622983, 565.8386350723517, 496.25809194762166, 2322.6777780135776, 465.3935929583776, 432.24975821535986, 410.79820853314345, 337.784016669367, 296.3271150646523, 284.0779410560922, 224.6390685547406, 216.15158568101594, 319.6562104795359, 205.49281154143497, 203.91911834088864, 446.70863008571666, 241.95271916705275, 187.79197585614142, 1140.5291270633572, 180.96635134185587, 172.60569457128187, 450.7105197395337, 176.64024790376553, 135.3618452709117, 118.36957045111984, 108.15103978222317, 103.18613385139005, 99.09477383020894, 96.25389053844046, 1194.3148538602657, 528.0563437706173, 180.40777566314958, 153.03810287668398, 203.4566729394385, 505.1865210965921, 353.80378400387457, 659.6233389181456, 462.509604320172, 439.3451927474838, 596.2795771792139, 330.9228503244012, 1633.4735155837575, 1813.3972663987313, 1491.6875546978422, 2462.5879869918017, 349.45512388604925, 2323.900149253908, 1588.239246955798, 766.2862603219029, 449.1108294635896, 621.9289718137401, 1047.6273063878177, 921.8836025823771, 506.24070116529657, 1099.41937075175, 1060.455671675554, 587.6157773744574, 702.5717390565981, 507.5233127966105, 677.9519999582693, 493.215175771248], \"Total\": [24823.0, 14981.0, 10968.0, 9768.0, 16462.0, 7895.0, 13828.0, 6321.0, 17568.0, 7271.0, 7686.0, 4809.0, 21263.0, 5439.0, 6866.0, 18385.0, 3923.0, 5372.0, 6614.0, 6337.0, 12552.0, 3169.0, 4754.0, 3346.0, 5115.0, 3054.0, 5483.0, 5352.0, 3024.0, 6286.0, 1093.065700625022, 1014.22718093035, 724.4549827329644, 517.8234915289057, 399.2709933860337, 365.6455472090876, 337.55394566592724, 315.5022878282497, 491.410632381885, 301.91027096828526, 249.60952004555736, 248.24268776349172, 256.9763918889478, 239.34107621397052, 242.70302550901033, 228.20266790437265, 196.98672993426902, 210.18249734730603, 193.93916090245864, 168.4170844683249, 160.67249120004738, 154.48378770549016, 163.7486673905815, 149.20375540085217, 147.51483493830307, 2366.853290538622, 145.65248067851235, 145.50350539812325, 140.90500552260923, 170.72307095780883, 865.2729849440041, 451.5283092268275, 452.2086316037394, 601.0972127346466, 1632.8305492748138, 542.5488125156974, 295.863017859599, 217.70191011016104, 5352.505850373202, 1156.1907738083485, 1200.5142512378557, 17568.25011001523, 302.38033068046866, 830.7413480738348, 835.0329848606162, 3671.8577638603747, 4171.51563085398, 5428.4819210593905, 4586.965827890908, 4210.473913406801, 445.6545172959959, 1950.9943557948152, 1923.7295851989697, 1058.7728358068784, 12503.451175417576, 1451.755715143287, 4264.7807920785735, 4029.126903528289, 7422.617361291901, 4555.675419959179, 12009.386228171765, 9997.123537046347, 21263.21977754627, 4654.222056987926, 1354.9356050028643, 3459.961849678164, 12552.259757156646, 18385.287465892558, 6975.823195557187, 6066.91243342212, 5946.767057782766, 866.4165596387893, 381.1797609591623, 358.044015868727, 421.53732086251017, 9768.212087004855, 414.1167847061748, 262.86489000205466, 254.3579259542254, 243.18763419097104, 220.88817953468438, 207.4248431075492, 181.39574650185315, 180.9403548057046, 180.1417111994589, 264.91454121876944, 163.79694317872253, 159.29549422721533, 151.1587899528169, 148.57875002390384, 132.72713642142705, 128.20566918866413, 130.35399684686288, 119.95771384817121, 108.34374695331894, 125.1113972403476, 98.11695307329848, 94.88465518260641, 87.65744543199861, 85.25054725052507, 291.4300679036579, 787.5439602085218, 272.3759300828002, 107.21187663174068, 171.73279067912782, 3182.6600471925412, 1662.9866160961415, 381.56495622065296, 1955.979884138795, 576.0906588887507, 801.6734938191788, 21263.21977754627, 12552.259757156646, 6975.823195557187, 609.6845121436542, 3459.961849678164, 1222.449431800486, 6066.91243342212, 17568.25011001523, 1400.2463615716697, 982.9128295453476, 5946.767057782766, 6110.955007361329, 12503.451175417576, 5380.886061837069, 4749.076351984618, 7422.617361291901, 9997.123537046347, 8569.408582907854, 2959.2963951499746, 13828.72283905206, 6866.210992408812, 2294.186416260642, 2477.686236830284, 4586.965827890908, 1281.2679895073052, 364.5563076977485, 303.02450600569534, 450.19025553634106, 533.7143988409872, 288.0431163103605, 236.8014701190623, 226.08352641410926, 221.57989055247003, 245.53751229120675, 226.63998037297884, 187.0577210391289, 164.87512562108623, 136.95082714806742, 123.56762038232092, 121.06308776239776, 120.99441975893856, 120.91517976381411, 131.9922922177885, 837.1956888638317, 109.65372328484517, 107.84665076047364, 102.4969701563843, 101.87492477900747, 100.33856006022434, 98.00048727033348, 99.3228076975942, 112.62257665819973, 93.63472193204, 92.80269097802007, 10968.144823981946, 857.2238655700588, 312.074225422864, 7271.170663385849, 661.0440056624798, 823.7464113391845, 407.8011448804352, 557.0352883870174, 228.6257298619581, 248.89279835090315, 282.7231744251082, 905.3500557824196, 5115.44897290675, 1386.4750395104995, 1709.387066893093, 3838.215529681255, 765.3426589485454, 1267.646678481581, 4264.7807920785735, 2109.493503694213, 6883.961441918734, 16462.542260140744, 18385.287465892558, 21263.21977754627, 1436.9590466042855, 660.8296534165316, 2748.0245044321487, 5250.537871291065, 3144.8066643550383, 1239.8301826523368, 6286.232926699047, 4749.076351984618, 6975.823195557187, 6110.955007361329, 9997.123537046347, 6066.91243342212, 7422.617361291901, 395.8504391812406, 362.8974588793113, 333.4999474967902, 319.5872251843215, 256.8975998397012, 266.6159247408784, 472.58383758492215, 209.1118191334698, 195.98534567884136, 187.50525254004768, 181.92392852776624, 166.78405444953944, 160.27427393391542, 2351.617880111163, 156.28110311984028, 150.16609277816343, 144.48740962934338, 142.29869689984469, 138.7871377538823, 137.56853902613113, 159.3710107853092, 123.2123574733958, 138.55265449944469, 119.98118082847935, 118.21001144218047, 117.84679251384149, 156.86302472115582, 111.2699785867769, 865.1427878409412, 107.68428130463667, 419.5520191577548, 283.78626606562517, 244.49898683752485, 311.9108253123931, 534.9933569090483, 331.932648718482, 5372.293012848641, 681.0838370792142, 470.47732936133684, 251.81982581438868, 13828.72283905206, 1730.8664141002253, 1120.2292491585677, 682.7602196358516, 1603.2465654941593, 1179.4508940706962, 765.9717312474467, 5250.537871291065, 3459.37570743713, 18385.287465892558, 862.6053035312802, 492.66574786030264, 791.2008953742784, 2294.186416260642, 1417.4734438718758, 7461.857132607545, 5115.44897290675, 12552.259757156646, 6975.823195557187, 2109.493503694213, 6883.961441918734, 2748.0245044321487, 9997.123537046347, 2981.6704790803337, 6286.232926699047, 12009.386228171765, 21263.21977754627, 7422.617361291901, 4749.076351984618, 2902.626399605524, 6110.955007361329, 1240.4934370466076, 2675.123636575382, 408.6457760757189, 314.9807036658196, 286.367349534719, 248.07490483831165, 3054.7387076441564, 186.1061237795737, 177.21391305264214, 159.6073343114982, 151.48776144193175, 148.12036777874093, 125.60329481586453, 147.64128692220262, 118.50458980364844, 115.66558422182625, 115.21681640565927, 292.2043142759128, 113.80819251995709, 110.73590701478224, 110.44294497093551, 109.29376980466768, 103.42665325294729, 103.0192492032709, 97.82255168344508, 97.14551525198947, 88.29787904233972, 86.6798690994001, 84.5508298686829, 74.19137231900758, 24823.317801009052, 96.54097635935315, 7686.810947015081, 791.3244274538233, 932.2503113462598, 244.93217862352014, 1850.7179144857919, 8569.408582907854, 2830.700299686668, 1044.2672220963962, 1032.5368406832133, 2729.0102948421213, 376.5025607609852, 4228.696404251547, 1313.6798400531645, 1416.251704017918, 896.3645746926495, 12552.259757156646, 5428.4819210593905, 1394.6734606470945, 5946.767057782766, 12009.386228171765, 16462.542260140744, 1359.3392501614394, 4236.208509573099, 9997.123537046347, 4029.126903528289, 18385.287465892558, 14981.117931364695, 6883.961441918734, 12503.451175417576, 1399.06787018815, 1788.3811913084717, 670.3025943118995, 433.8537083081489, 378.8156648929697, 314.06916197270925, 274.27480863074015, 238.69189099068012, 231.95577329697508, 219.78338456735767, 199.2897166973866, 169.96355498404995, 169.05400549158162, 161.33944445064597, 158.63384312009762, 146.0787969192681, 143.5328579963866, 138.3400711508739, 130.61100977001516, 319.6158963258855, 118.15991741056399, 118.14269138281871, 199.1981446722496, 107.71206348430573, 107.09214685553684, 101.47164549654217, 100.63557643663879, 89.4831225670176, 82.25452122917414, 78.72534956920927, 165.02335314363555, 117.52841573030118, 14981.117931364695, 285.8735064061624, 2117.446037843849, 2805.4181781362054, 171.39642038319488, 6614.87244361393, 3214.9950482572503, 3000.090104901301, 868.9965165602822, 1594.9669505205923, 546.8803336693098, 405.6265251545852, 2136.1699792322747, 3011.034974843177, 994.0411802804695, 2902.626399605524, 1614.9674770798786, 6866.210992408812, 6337.138765509556, 4236.208509573099, 2729.0102948421213, 1370.3517009733957, 4979.556006846546, 21263.21977754627, 8569.408582907854, 3547.8793315618495, 5946.767057782766, 4203.014599227373, 6286.232926699047, 18385.287465892558, 4029.126903528289, 12009.386228171765, 12503.451175417576, 502.89214847326605, 587.0870328031399, 1073.3927097130113, 402.4736947001889, 578.4544105194265, 314.3249100584681, 307.2917185705506, 302.5986913747985, 247.04463861802466, 233.36696372846274, 236.52995650086055, 215.22325193749515, 212.43979844991765, 231.07720695926608, 210.90203127456567, 202.2851788166896, 189.39840998691776, 190.6547269636341, 483.8693826153883, 256.5929201177795, 150.42506977541916, 140.6130730414578, 930.5918263256289, 140.478684500892, 772.7642565094411, 133.4929718133576, 125.21660344630807, 146.34060750100699, 104.74099450276677, 104.55954014148855, 953.2535525937706, 486.01437763494414, 357.04641317540387, 537.4472373299398, 403.8450486817108, 2150.6971143357882, 648.1478381268387, 214.33442407943656, 274.1750632871326, 778.1109838717492, 4754.529029331775, 1597.6350309357904, 742.493357143661, 898.9202278676588, 2981.6704790803337, 2959.2963951499746, 664.4366710961413, 481.94309753535595, 1479.4184413701107, 5380.886061837069, 2477.686236830284, 4749.076351984618, 6066.91243342212, 2812.7052106485903, 4236.208509573099, 2552.2986115179365, 4228.696404251547, 1038.4904284676422, 9997.123537046347, 17568.25011001523, 5946.767057782766, 2611.91965907482, 21263.21977754627, 12503.451175417576, 1948.3493270543288, 1220.239621250178, 350.5304918183092, 318.67793623146036, 282.32299259418375, 266.1371969237304, 257.8093324063276, 439.09839752609656, 296.527279602261, 217.30161623882887, 211.18048424234425, 263.46512411652304, 192.5818965805641, 165.91442285825173, 161.43067591738685, 159.3834799140329, 177.42383886115573, 148.2044059011132, 188.25231845671695, 137.00862959025534, 121.94206145406136, 121.68342317482437, 117.5642707406944, 117.27725087319041, 113.72153359125998, 133.4362769117907, 102.68737426511387, 88.53500490287799, 82.30009517995944, 74.98279254757706, 3346.680714589523, 800.6290732661915, 987.5238349727331, 185.65939408777683, 5439.06412235828, 952.9826751097366, 16462.542260140744, 1871.070783674496, 5483.017190906272, 2423.706500989535, 793.4548237511042, 6286.232926699047, 465.9335816693707, 388.7379301117214, 534.4201984569562, 7686.810947015081, 13828.72283905206, 2248.248074165423, 12009.386228171765, 8569.408582907854, 875.9595519538965, 12503.451175417576, 1318.2983592129995, 9997.123537046347, 6110.955007361329, 3172.6090786606605, 1137.6440131163918, 2136.1699792322747, 4555.675419959179, 4228.696404251547, 3214.9950482572503, 6321.391257105423, 7895.167013562624, 1173.4218649731802, 365.9531099961953, 335.82965438529817, 334.6602032589967, 300.9644932562613, 293.60536134315697, 285.2523102693933, 243.74149069014334, 241.24975034128823, 236.96523729632065, 212.15037733015836, 209.60832384500162, 204.05091160054343, 200.54428181636547, 194.15097452659683, 182.15390909574944, 180.00784917435627, 175.4326228996917, 174.96144674332444, 171.18956592267713, 169.08000793979832, 159.43656332811273, 158.6748901717008, 151.96835823082162, 151.7316003152551, 149.8405600968119, 142.99574632093538, 136.1651780570754, 347.74632713084077, 357.1510868051965, 677.1089841448401, 321.1301453240708, 998.7894664671084, 608.8344581044141, 1989.3851854693792, 888.5753820869464, 2636.7473881093533, 1022.8590552769517, 18385.287465892558, 1417.4734438718758, 2902.626399605524, 7461.857132607545, 1862.5807041773091, 847.8113157527412, 3536.136523155227, 4555.675419959179, 4654.222056987926, 12503.451175417576, 21263.21977754627, 7422.617361291901, 5115.44897290675, 5250.537871291065, 982.1437123512521, 4236.208509573099, 1871.070783674496, 6110.955007361329, 2812.7052106485903, 12009.386228171765, 1875.349011940726, 636.7435715260159, 465.66627857496496, 410.03523048806323, 3923.3164834586296, 348.88220317220333, 347.5916389806857, 273.39939721326544, 264.086015232205, 440.8612559695966, 229.0573716487909, 209.87038738221247, 199.1683161292159, 197.57022279784843, 191.7563280361423, 184.64152180896954, 454.2258877254097, 174.53885344274084, 163.65134481371382, 159.13325840474513, 156.48123742605028, 156.18128809223037, 152.6513312628294, 151.1868002776031, 149.01164649667803, 142.79573619553426, 141.40634576660017, 131.04651105677576, 131.06579200035648, 128.36752882056686, 409.30890756515834, 286.5173211000842, 2118.5939410350434, 569.0041642654796, 3024.0555520102753, 222.4311604138378, 381.9441358900921, 250.08683002537953, 603.4464077474723, 2956.8502980007484, 490.54699331148396, 621.8607392654367, 1593.211466804938, 646.2494679539095, 452.79192590890113, 2300.130051321198, 336.40950402586213, 1443.4271159524405, 2328.2264979852152, 1464.5060150033783, 1517.5684664637668, 12009.386228171765, 7461.857132607545, 7422.617361291901, 21263.21977754627, 18385.287465892558, 17568.25011001523, 4654.222056987926, 4979.556006846546, 12503.451175417576, 16462.542260140744, 12552.259757156646, 6975.823195557187, 3169.9717889784088, 361.8600175645249, 324.6974164149107, 447.0290760615328, 306.672886084312, 239.70029689231805, 294.2125208184421, 200.73750494133733, 192.56548346701243, 198.3625351678827, 173.57475644995037, 170.17879934107975, 164.6771591080985, 160.92834894566136, 159.8210997707058, 160.1393444547783, 159.2164453164621, 149.68298584031646, 1050.639770719478, 141.65611014793924, 139.40977666896254, 317.3292469624656, 176.78958543148863, 1623.9309889968893, 4809.770052341462, 126.42012804811404, 216.12744471310927, 131.86958931926205, 113.86020544244914, 111.28106663555086, 2104.631672684493, 328.9009325846201, 285.9721170469344, 1550.7434221006647, 358.9094949996185, 6866.210992408812, 1276.1720623156123, 2081.5396510081387, 601.2283297188989, 453.9712686510039, 4979.556006846546, 6337.138765509556, 620.0790718155702, 249.44649419251434, 366.32333678684876, 3024.646426119722, 4203.014599227373, 3547.8793315618495, 2248.248074165423, 1862.5807041773091, 12009.386228171765, 3011.034974843177, 13828.72283905206, 9997.123537046347, 5483.017190906272, 6614.87244361393, 6110.955007361329, 3000.090104901301, 1523.3712215443175, 3172.6090786606605, 2552.2986115179365, 4236.208509573099, 845.2186029725805, 592.6045460836193, 566.8852497832014, 497.2759378791054, 2327.5024822640426, 466.36817040242056, 433.21896741898115, 411.75552736346697, 338.86975207945386, 297.28600437600835, 285.1074973918411, 225.59541571810846, 217.10825296601345, 321.0843609354184, 206.44915841605655, 204.87545946192867, 448.88215322288113, 243.18239671748012, 188.74832274413296, 1146.3471559208049, 181.92298632587926, 173.56229121655608, 453.3244160917663, 177.67839301509096, 136.31819488876752, 119.32593545289264, 109.10738414090196, 104.14281535546485, 100.05195521891609, 97.21028981846834, 1212.7494632716039, 534.9250193318244, 182.68570203722854, 154.9004168782246, 207.1530106835398, 537.3802652330369, 381.033509771003, 747.2858780164916, 514.5678628923231, 507.9162490548465, 761.2034332729125, 378.68176357600635, 3024.646426119722, 3536.136523155227, 2871.9840277115254, 6337.138765509556, 425.4489456686026, 7461.857132607545, 4203.014599227373, 1652.9784277211238, 655.9377374167062, 1235.6560049479172, 3547.8793315618495, 2751.0555956645767, 863.6556270475887, 6883.961441918734, 6614.87244361393, 1596.1807133261648, 4654.222056987926, 1292.5258634653035, 18385.287465892558, 4171.51563085398], \"Category\": [\"Default\", \"Default\", \"Default\", \"Default\", \"Default\", \"Default\", \"Default\", \"Default\", \"Default\", \"Default\", \"Default\", \"Default\", \"Default\", \"Default\", \"Default\", \"Default\", \"Default\", \"Default\", \"Default\", \"Default\", \"Default\", \"Default\", \"Default\", \"Default\", \"Default\", \"Default\", \"Default\", \"Default\", \"Default\", \"Default\", \"Topic1\", \"Topic1\", \"Topic1\", \"Topic1\", \"Topic1\", \"Topic1\", \"Topic1\", \"Topic1\", \"Topic1\", \"Topic1\", \"Topic1\", \"Topic1\", \"Topic1\", \"Topic1\", \"Topic1\", \"Topic1\", \"Topic1\", \"Topic1\", \"Topic1\", \"Topic1\", \"Topic1\", \"Topic1\", \"Topic1\", \"Topic1\", \"Topic1\", \"Topic1\", \"Topic1\", \"Topic1\", \"Topic1\", \"Topic1\", \"Topic1\", \"Topic1\", \"Topic1\", \"Topic1\", \"Topic1\", \"Topic1\", \"Topic1\", \"Topic1\", \"Topic1\", \"Topic1\", \"Topic1\", \"Topic1\", \"Topic1\", \"Topic1\", \"Topic1\", \"Topic1\", \"Topic1\", \"Topic1\", \"Topic1\", \"Topic1\", \"Topic1\", \"Topic1\", \"Topic1\", \"Topic1\", \"Topic1\", \"Topic1\", \"Topic1\", \"Topic1\", \"Topic1\", \"Topic1\", \"Topic1\", \"Topic1\", \"Topic1\", \"Topic1\", \"Topic1\", \"Topic1\", \"Topic1\", \"Topic1\", \"Topic1\", \"Topic1\", \"Topic1\", \"Topic2\", \"Topic2\", \"Topic2\", \"Topic2\", \"Topic2\", \"Topic2\", \"Topic2\", \"Topic2\", \"Topic2\", \"Topic2\", \"Topic2\", \"Topic2\", \"Topic2\", \"Topic2\", \"Topic2\", \"Topic2\", \"Topic2\", \"Topic2\", \"Topic2\", \"Topic2\", \"Topic2\", \"Topic2\", \"Topic2\", \"Topic2\", \"Topic2\", \"Topic2\", \"Topic2\", \"Topic2\", \"Topic2\", \"Topic2\", \"Topic2\", \"Topic2\", \"Topic2\", \"Topic2\", \"Topic2\", \"Topic2\", \"Topic2\", \"Topic2\", \"Topic2\", \"Topic2\", \"Topic2\", \"Topic2\", \"Topic2\", \"Topic2\", \"Topic2\", \"Topic2\", \"Topic2\", \"Topic2\", \"Topic2\", \"Topic2\", \"Topic2\", \"Topic2\", \"Topic2\", \"Topic2\", \"Topic2\", \"Topic2\", \"Topic2\", \"Topic2\", \"Topic2\", \"Topic2\", \"Topic2\", \"Topic2\", \"Topic2\", \"Topic2\", \"Topic3\", \"Topic3\", \"Topic3\", \"Topic3\", \"Topic3\", \"Topic3\", \"Topic3\", \"Topic3\", \"Topic3\", \"Topic3\", \"Topic3\", \"Topic3\", \"Topic3\", \"Topic3\", \"Topic3\", \"Topic3\", \"Topic3\", \"Topic3\", \"Topic3\", \"Topic3\", \"Topic3\", \"Topic3\", \"Topic3\", \"Topic3\", \"Topic3\", \"Topic3\", \"Topic3\", \"Topic3\", \"Topic3\", \"Topic3\", \"Topic3\", \"Topic3\", \"Topic3\", \"Topic3\", \"Topic3\", \"Topic3\", \"Topic3\", \"Topic3\", \"Topic3\", \"Topic3\", \"Topic3\", \"Topic3\", \"Topic3\", \"Topic3\", \"Topic3\", \"Topic3\", \"Topic3\", \"Topic3\", \"Topic3\", \"Topic3\", \"Topic3\", \"Topic3\", \"Topic3\", \"Topic3\", \"Topic3\", \"Topic3\", \"Topic3\", \"Topic3\", \"Topic3\", \"Topic3\", \"Topic3\", \"Topic3\", \"Topic3\", \"Topic3\", \"Topic3\", \"Topic3\", \"Topic3\", \"Topic4\", \"Topic4\", \"Topic4\", \"Topic4\", \"Topic4\", \"Topic4\", \"Topic4\", \"Topic4\", \"Topic4\", \"Topic4\", \"Topic4\", \"Topic4\", \"Topic4\", \"Topic4\", \"Topic4\", \"Topic4\", \"Topic4\", \"Topic4\", \"Topic4\", \"Topic4\", \"Topic4\", \"Topic4\", \"Topic4\", \"Topic4\", \"Topic4\", \"Topic4\", \"Topic4\", \"Topic4\", \"Topic4\", \"Topic4\", \"Topic4\", \"Topic4\", \"Topic4\", \"Topic4\", \"Topic4\", \"Topic4\", \"Topic4\", \"Topic4\", \"Topic4\", \"Topic4\", \"Topic4\", \"Topic4\", \"Topic4\", \"Topic4\", \"Topic4\", \"Topic4\", \"Topic4\", \"Topic4\", \"Topic4\", \"Topic4\", \"Topic4\", \"Topic4\", \"Topic4\", \"Topic4\", \"Topic4\", \"Topic4\", \"Topic4\", \"Topic4\", \"Topic4\", \"Topic4\", \"Topic4\", \"Topic4\", \"Topic4\", \"Topic4\", \"Topic4\", \"Topic4\", \"Topic4\", \"Topic4\", \"Topic4\", \"Topic4\", \"Topic4\", \"Topic5\", \"Topic5\", \"Topic5\", \"Topic5\", \"Topic5\", \"Topic5\", \"Topic5\", \"Topic5\", \"Topic5\", \"Topic5\", \"Topic5\", \"Topic5\", \"Topic5\", \"Topic5\", \"Topic5\", \"Topic5\", \"Topic5\", \"Topic5\", \"Topic5\", \"Topic5\", \"Topic5\", \"Topic5\", \"Topic5\", \"Topic5\", \"Topic5\", \"Topic5\", \"Topic5\", \"Topic5\", \"Topic5\", \"Topic5\", \"Topic5\", \"Topic5\", \"Topic5\", \"Topic5\", \"Topic5\", \"Topic5\", \"Topic5\", \"Topic5\", \"Topic5\", \"Topic5\", \"Topic5\", \"Topic5\", \"Topic5\", \"Topic5\", \"Topic5\", \"Topic5\", \"Topic5\", \"Topic5\", \"Topic5\", \"Topic5\", \"Topic5\", \"Topic5\", \"Topic5\", \"Topic5\", \"Topic5\", \"Topic5\", \"Topic5\", \"Topic5\", \"Topic5\", \"Topic5\", \"Topic5\", \"Topic6\", \"Topic6\", \"Topic6\", \"Topic6\", \"Topic6\", \"Topic6\", \"Topic6\", \"Topic6\", \"Topic6\", \"Topic6\", \"Topic6\", \"Topic6\", \"Topic6\", \"Topic6\", \"Topic6\", \"Topic6\", \"Topic6\", \"Topic6\", \"Topic6\", \"Topic6\", \"Topic6\", \"Topic6\", \"Topic6\", \"Topic6\", \"Topic6\", \"Topic6\", \"Topic6\", \"Topic6\", \"Topic6\", \"Topic6\", \"Topic6\", \"Topic6\", \"Topic6\", \"Topic6\", \"Topic6\", \"Topic6\", \"Topic6\", \"Topic6\", \"Topic6\", \"Topic6\", \"Topic6\", \"Topic6\", \"Topic6\", \"Topic6\", \"Topic6\", \"Topic6\", \"Topic6\", \"Topic6\", \"Topic6\", \"Topic6\", \"Topic6\", \"Topic6\", \"Topic6\", \"Topic6\", \"Topic6\", \"Topic6\", \"Topic6\", \"Topic6\", \"Topic6\", \"Topic6\", \"Topic6\", \"Topic6\", \"Topic6\", \"Topic6\", \"Topic6\", \"Topic7\", \"Topic7\", \"Topic7\", \"Topic7\", \"Topic7\", \"Topic7\", \"Topic7\", \"Topic7\", \"Topic7\", \"Topic7\", \"Topic7\", \"Topic7\", \"Topic7\", \"Topic7\", \"Topic7\", \"Topic7\", \"Topic7\", \"Topic7\", \"Topic7\", \"Topic7\", \"Topic7\", \"Topic7\", \"Topic7\", \"Topic7\", \"Topic7\", \"Topic7\", \"Topic7\", \"Topic7\", \"Topic7\", \"Topic7\", \"Topic7\", \"Topic7\", \"Topic7\", \"Topic7\", \"Topic7\", \"Topic7\", \"Topic7\", \"Topic7\", \"Topic7\", \"Topic7\", \"Topic7\", \"Topic7\", \"Topic7\", \"Topic7\", \"Topic7\", \"Topic7\", \"Topic7\", \"Topic7\", \"Topic7\", \"Topic7\", \"Topic7\", \"Topic7\", \"Topic7\", \"Topic7\", \"Topic7\", \"Topic7\", \"Topic7\", \"Topic7\", \"Topic7\", \"Topic7\", \"Topic7\", \"Topic7\", \"Topic7\", \"Topic7\", \"Topic8\", \"Topic8\", \"Topic8\", \"Topic8\", \"Topic8\", \"Topic8\", \"Topic8\", \"Topic8\", \"Topic8\", \"Topic8\", \"Topic8\", \"Topic8\", \"Topic8\", \"Topic8\", \"Topic8\", \"Topic8\", \"Topic8\", \"Topic8\", \"Topic8\", \"Topic8\", \"Topic8\", \"Topic8\", \"Topic8\", \"Topic8\", \"Topic8\", \"Topic8\", \"Topic8\", \"Topic8\", \"Topic8\", \"Topic8\", \"Topic8\", \"Topic8\", \"Topic8\", \"Topic8\", \"Topic8\", \"Topic8\", \"Topic8\", \"Topic8\", \"Topic8\", \"Topic8\", \"Topic8\", \"Topic8\", \"Topic8\", \"Topic8\", \"Topic8\", \"Topic8\", \"Topic8\", \"Topic8\", \"Topic8\", \"Topic8\", \"Topic8\", \"Topic8\", \"Topic8\", \"Topic8\", \"Topic8\", \"Topic8\", \"Topic8\", \"Topic8\", \"Topic8\", \"Topic8\", \"Topic8\", \"Topic9\", \"Topic9\", \"Topic9\", \"Topic9\", \"Topic9\", \"Topic9\", \"Topic9\", \"Topic9\", \"Topic9\", \"Topic9\", \"Topic9\", \"Topic9\", \"Topic9\", \"Topic9\", \"Topic9\", \"Topic9\", \"Topic9\", \"Topic9\", \"Topic9\", \"Topic9\", \"Topic9\", \"Topic9\", \"Topic9\", \"Topic9\", \"Topic9\", \"Topic9\", \"Topic9\", \"Topic9\", \"Topic9\", \"Topic9\", \"Topic9\", \"Topic9\", \"Topic9\", \"Topic9\", \"Topic9\", \"Topic9\", \"Topic9\", \"Topic9\", \"Topic9\", \"Topic9\", \"Topic9\", \"Topic9\", \"Topic9\", \"Topic9\", \"Topic9\", \"Topic9\", \"Topic9\", \"Topic9\", \"Topic9\", \"Topic9\", \"Topic9\", \"Topic9\", \"Topic9\", \"Topic9\", \"Topic9\", \"Topic9\", \"Topic9\", \"Topic9\", \"Topic9\", \"Topic9\", \"Topic10\", \"Topic10\", \"Topic10\", \"Topic10\", \"Topic10\", \"Topic10\", \"Topic10\", \"Topic10\", \"Topic10\", \"Topic10\", \"Topic10\", \"Topic10\", \"Topic10\", \"Topic10\", \"Topic10\", \"Topic10\", \"Topic10\", \"Topic10\", \"Topic10\", \"Topic10\", \"Topic10\", \"Topic10\", \"Topic10\", \"Topic10\", \"Topic10\", \"Topic10\", \"Topic10\", \"Topic10\", \"Topic10\", \"Topic10\", \"Topic10\", \"Topic10\", \"Topic10\", \"Topic10\", \"Topic10\", \"Topic10\", \"Topic10\", \"Topic10\", \"Topic10\", \"Topic10\", \"Topic10\", \"Topic10\", \"Topic10\", \"Topic10\", \"Topic10\", \"Topic10\", \"Topic10\", \"Topic10\", \"Topic10\", \"Topic10\", \"Topic10\", \"Topic10\", \"Topic10\", \"Topic10\", \"Topic10\", \"Topic10\", \"Topic10\", \"Topic10\", \"Topic10\", \"Topic10\", \"Topic10\", \"Topic10\", \"Topic10\", \"Topic11\", \"Topic11\", \"Topic11\", \"Topic11\", \"Topic11\", \"Topic11\", \"Topic11\", \"Topic11\", \"Topic11\", \"Topic11\", \"Topic11\", \"Topic11\", \"Topic11\", \"Topic11\", \"Topic11\", \"Topic11\", \"Topic11\", \"Topic11\", \"Topic11\", \"Topic11\", \"Topic11\", \"Topic11\", \"Topic11\", \"Topic11\", \"Topic11\", \"Topic11\", \"Topic11\", \"Topic11\", \"Topic11\", \"Topic11\", \"Topic11\", \"Topic11\", \"Topic11\", \"Topic11\", \"Topic11\", \"Topic11\", \"Topic11\", \"Topic11\", \"Topic11\", \"Topic11\", \"Topic11\", \"Topic11\", \"Topic11\", \"Topic11\", \"Topic11\", \"Topic11\", \"Topic11\", \"Topic11\", \"Topic11\", \"Topic11\", \"Topic11\", \"Topic11\", \"Topic11\", \"Topic11\", \"Topic11\", \"Topic11\", \"Topic11\", \"Topic11\", \"Topic11\", \"Topic11\", \"Topic11\", \"Topic11\", \"Topic12\", \"Topic12\", \"Topic12\", \"Topic12\", \"Topic12\", \"Topic12\", \"Topic12\", \"Topic12\", \"Topic12\", \"Topic12\", \"Topic12\", \"Topic12\", \"Topic12\", \"Topic12\", \"Topic12\", \"Topic12\", \"Topic12\", \"Topic12\", \"Topic12\", \"Topic12\", \"Topic12\", \"Topic12\", \"Topic12\", \"Topic12\", \"Topic12\", \"Topic12\", \"Topic12\", \"Topic12\", \"Topic12\", \"Topic12\", \"Topic12\", \"Topic12\", \"Topic12\", \"Topic12\", \"Topic12\", \"Topic12\", \"Topic12\", \"Topic12\", \"Topic12\", \"Topic12\", \"Topic12\", \"Topic12\", \"Topic12\", \"Topic12\", \"Topic12\", \"Topic12\", \"Topic12\", \"Topic12\", \"Topic12\", \"Topic12\", \"Topic12\", \"Topic12\", \"Topic12\", \"Topic12\", \"Topic12\", \"Topic12\", \"Topic12\", \"Topic12\", \"Topic12\", \"Topic12\", \"Topic12\", \"Topic12\"], \"logprob\": [30.0, 29.0, 28.0, 27.0, 26.0, 25.0, 24.0, 23.0, 22.0, 21.0, 20.0, 19.0, 18.0, 17.0, 16.0, 15.0, 14.0, 13.0, 12.0, 11.0, 10.0, 9.0, 8.0, 7.0, 6.0, 5.0, 4.0, 3.0, 2.0, 1.0, -4.8024, -4.8773, -5.2145, -5.5505, -5.811, -5.8992, -5.9794, -6.0471, -5.604, -6.0914, -6.2822, -6.2877, -6.2532, -6.3244, -6.3105, -6.3723, -6.52, -6.4555, -6.5361, -6.6775, -6.7249, -6.7644, -6.7063, -6.7994, -6.8108, -4.0355, -6.8236, -6.8246, -6.857, -6.6652, -5.0442, -5.6933, -5.6923, -5.4181, -4.4423, -5.5259, -6.1235, -6.4301, -3.3586, -4.8475, -4.8366, -2.4214, -6.1295, -5.2639, -5.2597, -4.0314, -3.9383, -3.7327, -3.8747, -4.03, -5.8229, -4.7314, -4.7768, -5.2018, -3.559, -5.0123, -4.3319, -4.3804, -4.0401, -4.3654, -3.8712, -4.066, -3.8321, -4.584, -5.1038, -4.7832, -4.4823, -4.5226, -4.762, -4.7937, -4.9843, -4.6116, -5.4338, -5.4966, -5.3335, -2.1907, -5.352, -5.8066, -5.8397, -5.8847, -5.9813, -6.0444, -6.1792, -6.1817, -6.1862, -5.8006, -6.2818, -6.3098, -6.3626, -6.3799, -6.4935, -6.5284, -6.5122, -6.5955, -6.6981, -6.5547, -6.7982, -6.8321, -6.9121, -6.9403, -5.7114, -4.7251, -5.7868, -6.7123, -6.2525, -3.4884, -4.1381, -5.5241, -4.042, -5.1764, -4.9349, -2.2304, -2.6901, -3.3713, -5.3035, -4.1194, -4.9252, -3.857, -3.2217, -4.8575, -5.1251, -4.0984, -4.116, -3.7366, -4.257, -4.4625, -4.4859, -4.4452, -4.7178, -5.005, -4.7882, -4.9621, -5.1277, -5.1361, -5.094, -4.1681, -5.4271, -5.6122, -5.2165, -5.0467, -5.6635, -5.8597, -5.9062, -5.9265, -5.8241, -5.9044, -6.0966, -6.2238, -6.4103, -6.5139, -6.5345, -6.5351, -6.5357, -6.4482, -4.6009, -6.6343, -6.6514, -6.7024, -6.7086, -6.7239, -6.7477, -6.7343, -6.6091, -6.7938, -6.8028, -2.0435, -4.5839, -5.5951, -2.4818, -4.8751, -4.7381, -5.4353, -5.1623, -5.9689, -5.9021, -5.7896, -4.7839, -3.3031, -4.4342, -4.2975, -3.6363, -5.0041, -4.6452, -3.8115, -4.4027, -3.6288, -3.2758, -3.3407, -3.39, -4.8839, -5.3439, -4.7119, -4.4585, -4.7355, -5.1266, -4.6275, -4.7449, -4.6445, -4.6907, -4.6826, -4.7767, -4.8843, -5.3232, -5.4104, -5.4952, -5.5386, -5.757, -5.7203, -5.1482, -5.9636, -6.0287, -6.0732, -6.1036, -6.1909, -6.231, -3.5451, -6.2564, -6.2965, -6.3353, -6.3507, -6.3759, -6.3847, -6.2379, -6.4958, -6.3786, -6.5226, -6.5375, -6.5407, -6.2549, -6.5986, -4.5478, -6.6316, -5.2811, -5.6692, -5.8172, -5.5805, -5.0534, -5.5262, -2.8742, -4.9051, -5.2502, -5.8255, -2.2513, -4.2025, -4.6294, -5.0449, -4.38, -4.64, -4.992, -3.5033, -3.864, -2.6337, -4.9528, -5.3604, -5.0482, -4.4146, -4.7345, -3.788, -4.0483, -3.753, -4.0536, -4.6885, -4.2133, -4.6124, -4.1636, -4.7226, -4.5358, -4.4322, -4.3426, -4.6911, -4.8222, -4.9224, -4.9133, -4.1788, -3.4104, -5.2903, -5.5511, -5.6469, -5.7907, -3.28, -6.0794, -6.1286, -6.2339, -6.2864, -6.309, -6.4751, -6.3136, -6.5337, -6.5582, -6.5621, -5.6316, -6.5745, -6.6021, -6.6048, -6.6154, -6.671, -6.675, -6.7273, -6.7343, -6.8308, -6.8496, -6.8746, -7.007, -1.2018, -6.7473, -2.6484, -4.8089, -4.7174, -5.9285, -4.281, -3.084, -4.0627, -4.8497, -4.9141, -4.2913, -5.718, -4.0264, -4.8823, -4.8774, -5.2748, -3.8454, -4.3233, -5.0904, -4.3624, -4.0447, -3.9265, -5.1766, -4.724, -4.4098, -4.761, -4.2311, -4.3783, -4.7419, -4.6202, -3.9735, -3.7282, -4.7102, -5.1458, -5.2822, -5.4697, -5.6056, -5.7452, -5.7739, -5.828, -5.9263, -6.0863, -6.0917, -6.1387, -6.1557, -6.2387, -6.2564, -6.2935, -6.3514, -5.4567, -6.4524, -6.4525, -5.9302, -6.5458, -6.5516, -6.606, -6.6143, -6.733, -6.8182, -6.8626, -6.1227, -6.4635, -1.686, -5.605, -3.6922, -3.4468, -6.1065, -2.8545, -3.5128, -3.652, -4.7288, -4.2174, -5.1445, -5.4217, -4.1224, -4.1084, -4.8925, -4.3761, -4.7807, -3.9692, -4.0205, -4.2459, -4.559, -4.9245, -4.3824, -3.7947, -4.194, -4.5638, -4.3677, -4.5078, -4.3783, -4.3578, -4.8105, -4.6475, -4.8197, -4.9946, -4.8399, -4.2367, -5.2178, -4.8551, -5.4657, -5.4884, -5.5038, -5.7075, -5.7646, -5.7511, -5.8459, -5.859, -5.775, -5.8664, -5.9083, -5.9743, -5.9677, -5.0365, -5.6709, -6.2063, -6.2739, -4.3842, -6.275, -4.5702, -6.3262, -6.3907, -6.2349, -6.5708, -6.5725, -4.3663, -5.0368, -5.3473, -4.9445, -5.2279, -3.6023, -4.7778, -5.8639, -5.6315, -4.6742, -3.0353, -4.1496, -4.8337, -4.693, -3.7535, -3.7996, -4.9533, -5.2238, -4.4184, -3.4998, -4.1673, -3.8304, -3.9135, -4.3489, -4.2467, -4.5316, -4.4684, -4.928, -4.441, -4.37, -4.6604, -4.8036, -4.672, -4.8065, -3.6329, -4.1019, -5.3499, -5.4454, -5.5669, -5.6263, -5.6582, -5.1258, -5.5186, -5.8297, -5.8584, -5.6374, -5.9511, -6.101, -6.1285, -6.1413, -6.0345, -6.2145, -5.9753, -6.2936, -6.4109, -6.4131, -6.4478, -6.4502, -6.4813, -6.3217, -6.5843, -6.7341, -6.8079, -6.9022, -3.1135, -4.5415, -4.3376, -5.9983, -2.7019, -4.4357, -1.9821, -3.9777, -3.0707, -3.8369, -4.7953, -3.1139, -5.3176, -5.4904, -5.3164, -3.6308, -3.2679, -4.4198, -3.4444, -3.6991, -5.0513, -3.7372, -4.9576, -4.174, -4.5511, -4.7865, -5.1522, -5.031, -4.9111, -4.998, -5.1318, -2.4022, -2.1801, -4.0869, -5.2538, -5.34, -5.3435, -5.4499, -5.4748, -5.5037, -5.6616, -5.6719, -5.6899, -5.801, -5.8131, -5.8401, -5.8575, -5.8901, -5.9541, -5.9661, -5.9919, -5.9946, -6.0166, -6.029, -6.0881, -6.0929, -6.1364, -6.1379, -6.1506, -6.1976, -6.2469, -5.3108, -5.3118, -4.7084, -5.4613, -4.521, -5.0253, -4.1161, -4.7898, -4.0846, -4.7482, -2.8684, -4.646, -4.3558, -3.9145, -4.6727, -5.0939, -4.3516, -4.25, -4.3487, -3.9714, -3.9078, -4.4338, -4.7323, -4.8433, -5.2138, -5.0567, -5.1832, -5.0996, -5.206, -5.2265, -3.5252, -4.6064, -4.9199, -5.0474, -2.7891, -5.2096, -5.2136, -5.4538, -5.4886, -4.9765, -5.6314, -5.7193, -5.7719, -5.78, -5.8101, -5.848, -4.948, -5.9046, -5.9693, -5.9975, -6.0144, -6.0163, -6.0393, -6.049, -6.0636, -6.1065, -6.1164, -6.193, -6.1928, -6.2138, -5.0562, -5.4163, -3.4357, -4.7601, -3.1495, -5.6826, -5.1837, -5.5775, -4.7758, -3.3982, -4.9984, -4.8061, -4.0789, -4.8824, -5.2482, -4.2934, -5.4568, -4.617, -4.3753, -4.7047, -4.7701, -3.9067, -4.3875, -4.4989, -4.2484, -4.2907, -4.3457, -4.677, -4.8539, -4.8462, -4.8312, -4.8858, -4.9343, -2.9777, -5.1496, -5.2582, -4.9386, -5.3155, -5.5627, -5.3581, -5.7409, -5.7827, -5.7533, -5.887, -5.9069, -5.94, -5.9631, -5.9701, -5.9681, -5.9739, -6.036, -4.0877, -6.0915, -6.1077, -5.2853, -5.8704, -3.6528, -2.5671, -6.2062, -5.6701, -6.1645, -6.3116, -6.3347, -3.4077, -5.2591, -5.43, -3.8515, -5.2528, -2.655, -4.2902, -3.9252, -4.9582, -5.1806, -3.4227, -3.3264, -5.0121, -5.6693, -5.4436, -4.2641, -4.0949, -4.1921, -4.5452, -4.6708, -3.8556, -4.4799, -3.9922, -4.1484, -4.5124, -4.4863, -4.5704, -4.7755, -5.0063, -4.8939, -4.9316, -4.8751, -4.221, -4.5766, -4.6212, -4.7524, -3.209, -4.8166, -4.8905, -4.9414, -5.1371, -5.268, -5.3102, -5.545, -5.5835, -5.1922, -5.6341, -5.6417, -4.8576, -5.4707, -5.7241, -3.9202, -5.7612, -5.8085, -4.8486, -5.7853, -6.0515, -6.1857, -6.2759, -6.3229, -6.3634, -6.3925, -3.8741, -4.6903, -5.7642, -5.9288, -5.644, -4.7345, -5.0907, -4.4678, -4.8228, -4.8742, -4.5688, -5.1576, -3.561, -3.4565, -3.6518, -3.1505, -5.1031, -3.2085, -3.5891, -4.3179, -4.8522, -4.5266, -4.0052, -4.133, -4.7325, -3.9569, -3.993, -4.5834, -4.4047, -4.7299, -4.4404, -4.7585], \"loglift\": [30.0, 29.0, 28.0, 27.0, 26.0, 25.0, 24.0, 23.0, 22.0, 21.0, 20.0, 19.0, 18.0, 17.0, 16.0, 15.0, 14.0, 13.0, 12.0, 11.0, 10.0, 9.0, 8.0, 7.0, 6.0, 5.0, 4.0, 3.0, 2.0, 1.0, 1.9543, 1.9542, 1.9535, 1.9533, 1.9528, 1.9526, 1.9523, 1.9522, 1.9521, 1.9519, 1.9514, 1.9513, 1.9513, 1.9511, 1.9511, 1.9509, 1.9503, 1.95, 1.9498, 1.9495, 1.9492, 1.949, 1.9488, 1.9488, 1.9487, 1.9487, 1.9486, 1.9486, 1.9484, 1.9482, 1.9462, 1.9475, 1.947, 1.9366, 1.9131, 1.9312, 1.9401, 1.9402, 1.8096, 1.8531, 1.8263, 1.5582, 1.9123, 1.7673, 1.7663, 1.5136, 1.4792, 1.4213, 1.4478, 1.3782, 1.831, 1.4459, 1.4146, 1.5868, 0.7607, 1.4607, 1.0634, 1.0718, 0.801, 0.964, 0.4888, 0.4774, -0.0434, 0.7239, 1.4381, 0.8213, -0.1665, -0.5884, 0.1412, 0.2491, 0.0786, 2.3775, 2.3764, 2.3762, 2.3761, 2.3758, 2.3753, 2.3752, 2.375, 2.3749, 2.3745, 2.3743, 2.3736, 2.3736, 2.3736, 2.3734, 2.373, 2.3729, 2.3725, 2.3724, 2.3716, 2.3714, 2.371, 2.3708, 2.37, 2.3696, 2.369, 2.3687, 2.3679, 2.3676, 2.3672, 2.3594, 2.3595, 2.3664, 2.355, 2.1996, 2.199, 2.2851, 2.1328, 2.2208, 2.1318, 1.5583, 1.6257, 1.532, 2.037, 1.485, 1.7196, 1.1858, 0.7579, 1.6515, 1.7378, 0.9645, 0.9196, 0.5831, 0.9058, 0.8253, 0.3552, 0.0982, -0.0203, 0.7557, -0.5692, -0.043, 0.8876, 0.8023, 0.2284, 2.4298, 2.4277, 2.4274, 2.4272, 2.4269, 2.4269, 2.4265, 2.4263, 2.4262, 2.4259, 2.4257, 2.4254, 2.4244, 2.4236, 2.4228, 2.4226, 2.4226, 2.4226, 2.4225, 2.4225, 2.4218, 2.4214, 2.4212, 2.4211, 2.421, 2.4208, 2.4208, 2.4203, 2.4203, 2.4202, 2.4072, 2.4159, 2.4151, 2.38, 2.3845, 2.3015, 2.3074, 2.2685, 2.3525, 2.3344, 2.3194, 2.1613, 1.9103, 2.0847, 2.012, 1.8644, 2.109, 1.9634, 1.5838, 1.6966, 1.2877, 0.7688, 0.5935, 0.3987, 1.5993, 1.9161, 1.123, 0.7289, 0.9645, 1.5041, 0.3798, 0.5428, 0.2588, 0.3449, -0.1392, 0.2662, -0.0432, 2.4492, 2.4489, 2.4486, 2.4479, 2.4478, 2.4474, 2.4471, 2.447, 2.4467, 2.4465, 2.4463, 2.4458, 2.4456, 2.4455, 2.4454, 2.4452, 2.4449, 2.4448, 2.4447, 2.4446, 2.4443, 2.4438, 2.4436, 2.4436, 2.4434, 2.4434, 2.4431, 2.4429, 2.4428, 2.4426, 2.4331, 2.436, 2.437, 2.4303, 2.4178, 2.4223, 2.2902, 2.3246, 2.3495, 2.3993, 1.9676, 2.0946, 2.1028, 2.1824, 1.9937, 2.0406, 2.1203, 1.684, 1.7406, 1.3004, 2.0407, 2.1932, 2.0317, 1.6007, 1.7623, 1.0479, 1.1652, 0.5628, 0.8496, 1.4107, 0.7032, 1.2224, 0.3798, 1.0307, 0.4715, -0.0722, -0.5539, 0.15, 0.4656, 0.8577, 0.1223, 2.4514, 2.4513, 2.4503, 2.4499, 2.4493, 2.449, 2.449, 2.4477, 2.4475, 2.4469, 2.4465, 2.4464, 2.4452, 2.4451, 2.4448, 2.4446, 2.4445, 2.4444, 2.4444, 2.4442, 2.4441, 2.4441, 2.4436, 2.4435, 2.443, 2.443, 2.442, 2.4416, 2.4414, 2.4399, 2.4321, 2.4361, 2.1578, 2.2708, 2.1984, 2.3239, 1.9491, 1.6135, 1.7425, 1.9526, 1.8996, 1.5505, 2.1045, 1.3774, 1.6906, 1.6203, 1.6803, 0.4704, 0.8307, 1.4227, 0.7004, 0.3153, 0.1181, 1.3621, 0.678, 0.1336, 0.6911, -0.297, -0.2394, 0.1746, -0.3005, 2.5364, 2.5362, 2.5356, 2.535, 2.5342, 2.5341, 2.5337, 2.5331, 2.5331, 2.5328, 2.5324, 2.5315, 2.5315, 2.5312, 2.5311, 2.5306, 2.5305, 2.5302, 2.5298, 2.5297, 2.529, 2.529, 2.529, 2.5282, 2.5282, 2.5277, 2.5276, 2.5264, 2.5255, 2.5249, 2.5246, 2.5233, 2.4529, 2.4929, 2.4033, 2.3674, 2.503, 2.1018, 2.1651, 2.095, 2.2573, 2.1614, 2.3047, 2.3263, 1.9643, 1.635, 1.9592, 1.404, 1.5857, 0.9499, 0.9788, 1.1561, 1.2828, 1.6062, 0.8579, -0.006, 0.5035, 1.0156, 0.6952, 0.9021, 0.6291, -0.4237, 0.6417, -0.2875, -0.5, 2.5384, 2.5384, 2.5381, 2.538, 2.538, 2.5373, 2.5373, 2.5372, 2.5364, 2.5363, 2.5362, 2.5359, 2.5358, 2.5357, 2.5357, 2.5354, 2.5353, 2.5353, 2.5351, 2.5351, 2.5336, 2.5336, 2.5335, 2.5334, 2.5333, 2.5332, 2.5327, 2.5326, 2.5312, 2.5312, 2.5272, 2.5304, 2.5282, 2.5221, 2.5246, 2.4776, 2.5015, 2.522, 2.5082, 2.4224, 2.2513, 2.2276, 2.3097, 2.2593, 1.9997, 1.9612, 2.3012, 2.3518, 2.0357, 1.663, 1.771, 1.4573, 1.1294, 1.4626, 1.1554, 1.3771, 0.9354, 1.8799, 0.1024, -0.3904, 0.4025, 1.082, -0.8833, -0.4868, 2.5458, 2.5448, 2.5441, 2.5439, 2.5435, 2.5431, 2.543, 2.5429, 2.5428, 2.5425, 2.5423, 2.5422, 2.5418, 2.541, 2.5409, 2.5408, 2.5404, 2.5404, 2.5403, 2.5398, 2.539, 2.539, 2.5387, 2.5387, 2.5384, 2.5381, 2.5375, 2.536, 2.5352, 2.534, 2.5242, 2.5265, 2.5206, 2.5313, 2.4502, 2.4581, 2.0625, 2.2415, 2.0733, 2.1235, 2.2818, 1.8935, 2.2918, 2.3001, 2.1558, 1.1754, 0.951, 1.6157, 0.9156, 0.9984, 1.9269, 0.5824, 1.6118, 0.3694, 0.4845, 0.9047, 1.5646, 1.0557, 0.4182, 0.4058, 0.5461, 2.5995, 2.5993, 2.5989, 2.5971, 2.5969, 2.5969, 2.5965, 2.5965, 2.5964, 2.5958, 2.5957, 2.5957, 2.5952, 2.5951, 2.595, 2.5949, 2.5947, 2.5945, 2.5944, 2.5943, 2.5942, 2.5941, 2.594, 2.5937, 2.5937, 2.5934, 2.5934, 2.5933, 2.593, 2.5927, 2.5912, 2.5635, 2.5272, 2.5203, 2.3259, 2.3166, 2.0418, 2.174, 1.7915, 2.0749, 1.0657, 1.8508, 1.4243, 0.9214, 1.551, 1.9169, 1.2311, 1.0793, 0.9592, 0.3483, -0.1191, 0.4073, 0.4812, 0.3441, 1.6499, 0.3453, 1.036, -0.064, 0.6055, -0.8665, 2.6917, 2.6906, 2.6901, 2.6898, 2.6897, 2.6891, 2.6888, 2.6887, 2.6886, 2.6882, 2.688, 2.6876, 2.6874, 2.6874, 2.6872, 2.687, 2.6868, 2.6867, 2.6864, 2.6862, 2.6861, 2.6861, 2.686, 2.6859, 2.6858, 2.6855, 2.6855, 2.6849, 2.6849, 2.6848, 2.6827, 2.6794, 2.6592, 2.6494, 2.5896, 2.6662, 2.6245, 2.6541, 2.575, 2.3634, 2.5596, 2.5146, 2.301, 2.3998, 2.3898, 1.7193, 2.4783, 1.8616, 1.6253, 1.7595, 1.6585, 0.4533, 0.4484, 0.3422, -0.4597, -0.3566, -0.366, 0.6309, 0.3865, -0.5265, -0.7865, -0.57, -0.031, 2.7143, 2.7126, 2.7124, 2.7122, 2.7122, 2.7113, 2.7111, 2.7106, 2.7103, 2.71, 2.7098, 2.7097, 2.7095, 2.7094, 2.7093, 2.7093, 2.7093, 2.7089, 2.7086, 2.7086, 2.7083, 2.7082, 2.7081, 2.7081, 2.708, 2.7077, 2.7075, 2.7072, 2.7069, 2.7067, 2.6938, 2.6986, 2.6675, 2.5555, 2.6176, 2.2641, 2.3116, 2.1874, 2.3963, 2.4549, 1.8177, 1.6729, 2.3115, 2.5649, 2.4064, 1.4748, 1.315, 1.3873, 1.4903, 1.5529, 0.5044, 1.2635, 0.2267, 0.395, 0.6316, 0.4701, 0.4652, 0.9716, 1.4185, 0.7972, 0.9771, 0.5269, 2.7928, 2.7924, 2.7921, 2.7919, 2.7919, 2.7919, 2.7917, 2.7917, 2.7908, 2.7908, 2.7904, 2.7897, 2.7896, 2.7895, 2.7893, 2.7893, 2.7891, 2.7889, 2.7889, 2.7889, 2.7887, 2.7885, 2.7882, 2.7881, 2.7869, 2.7859, 2.7852, 2.7848, 2.7844, 2.7841, 2.7787, 2.7811, 2.7814, 2.7819, 2.776, 2.7322, 2.7198, 2.6692, 2.6873, 2.649, 2.5498, 2.6592, 2.1779, 2.1262, 2.1389, 1.8488, 2.5972, 1.6274, 1.8208, 2.0252, 2.4152, 2.1075, 1.5742, 1.7007, 2.2598, 0.9596, 0.9634, 1.7947, 0.9032, 1.8592, -0.5062, 0.6589]}, \"token.table\": {\"Topic\": [1, 2, 3, 4, 5, 6, 7, 8, 9, 10, 11, 12, 9, 4, 2, 3, 5, 7, 6, 3, 5, 7, 9, 12, 5, 2, 5, 1, 10, 10, 5, 10, 1, 2, 3, 4, 5, 6, 7, 8, 9, 10, 11, 12, 7, 5, 1, 1, 2, 3, 6, 9, 11, 12, 2, 2, 5, 9, 1, 2, 10, 6, 9, 7, 8, 9, 10, 1, 3, 4, 5, 6, 9, 10, 11, 12, 2, 1, 3, 8, 4, 5, 4, 1, 3, 5, 6, 7, 8, 9, 10, 11, 12, 6, 1, 11, 12, 8, 1, 7, 10, 12, 11, 5, 4, 7, 2, 9, 1, 2, 3, 4, 5, 6, 7, 8, 9, 11, 12, 1, 1, 4, 7, 9, 1, 4, 5, 10, 11, 4, 12, 1, 3, 4, 6, 7, 3, 4, 7, 9, 10, 12, 8, 4, 1, 10, 8, 2, 10, 7, 6, 7, 6, 3, 1, 4, 9, 1, 4, 9, 10, 11, 1, 2, 3, 4, 5, 6, 7, 8, 9, 10, 11, 12, 8, 4, 6, 11, 2, 4, 9, 1, 6, 7, 8, 9, 11, 1, 2, 3, 9, 10, 12, 3, 1, 4, 5, 9, 10, 11, 2, 4, 5, 6, 7, 8, 9, 10, 11, 9, 3, 7, 10, 3, 12, 3, 12, 2, 7, 9, 10, 4, 7, 9, 11, 5, 2, 10, 1, 2, 12, 10, 11, 1, 2, 3, 4, 5, 6, 7, 8, 9, 10, 11, 12, 9, 6, 10, 11, 12, 8, 6, 1, 3, 4, 7, 8, 9, 2, 1, 7, 1, 2, 4, 5, 6, 7, 8, 9, 10, 11, 12, 4, 8, 1, 2, 3, 4, 5, 6, 7, 8, 9, 10, 11, 12, 12, 2, 1, 3, 10, 5, 9, 12, 7, 11, 1, 3, 1, 2, 3, 4, 5, 6, 7, 8, 9, 10, 11, 12, 5, 2, 7, 9, 11, 1, 10, 2, 4, 7, 1, 2, 3, 4, 5, 6, 7, 9, 10, 11, 12, 9, 10, 11, 12, 1, 2, 3, 10, 11, 1, 2, 3, 4, 5, 6, 7, 8, 9, 10, 11, 12, 1, 2, 3, 4, 5, 6, 9, 10, 7, 9, 5, 6, 3, 3, 4, 12, 10, 1, 1, 1, 5, 8, 10, 6, 4, 1, 2, 4, 6, 7, 9, 10, 11, 5, 6, 7, 8, 9, 10, 12, 3, 1, 5, 10, 7, 4, 8, 10, 1, 1, 2, 4, 5, 6, 7, 9, 10, 1, 2, 5, 6, 7, 9, 10, 12, 2, 8, 12, 1, 2, 8, 6, 4, 3, 3, 4, 9, 1, 3, 4, 6, 8, 9, 10, 9, 11, 1, 3, 6, 8, 10, 12, 9, 1, 2, 3, 5, 7, 9, 10, 11, 12, 1, 3, 5, 6, 8, 9, 10, 11, 12, 5, 1, 5, 7, 12, 11, 1, 3, 4, 5, 7, 10, 12, 7, 11, 10, 6, 9, 10, 4, 10, 1, 10, 12, 2, 11, 1, 4, 11, 12, 9, 2, 3, 5, 7, 9, 1, 2, 3, 4, 5, 6, 7, 8, 9, 10, 11, 12, 8, 7, 1, 2, 3, 7, 11, 5, 9, 10, 11, 8, 9, 3, 4, 8, 12, 12, 12, 7, 10, 3, 8, 9, 3, 3, 12, 1, 2, 3, 5, 6, 7, 8, 9, 12, 1, 2, 3, 4, 5, 6, 9, 10, 11, 12, 1, 2, 3, 4, 5, 6, 7, 8, 9, 10, 11, 12, 1, 8, 6, 3, 12, 1, 3, 4, 9, 10, 11, 12, 9, 11, 3, 9, 2, 8, 11, 2, 6, 1, 4, 9, 9, 10, 2, 5, 3, 9, 10, 2, 4, 5, 6, 8, 9, 10, 11, 12, 1, 4, 12, 5, 9, 11, 2, 6, 8, 12, 1, 4, 6, 7, 8, 11, 12, 1, 2, 3, 4, 6, 8, 9, 10, 11, 12, 1, 2, 3, 4, 5, 6, 7, 8, 9, 10, 11, 1, 2, 3, 4, 5, 6, 7, 8, 9, 10, 11, 12, 7, 1, 2, 3, 4, 5, 6, 7, 8, 9, 10, 11, 12, 1, 2, 3, 4, 5, 6, 7, 8, 9, 10, 11, 12, 1, 2, 3, 4, 5, 6, 7, 8, 9, 10, 11, 12, 4, 7, 12, 6, 10, 9, 1, 2, 3, 5, 8, 10, 11, 12, 1, 4, 1, 2, 3, 4, 5, 6, 8, 9, 10, 11, 12, 1, 2, 3, 4, 5, 6, 7, 9, 10, 11, 1, 2, 3, 4, 7, 9, 10, 2, 3, 4, 5, 1, 2, 5, 7, 8, 9, 10, 11, 2, 10, 1, 8, 10, 12, 12, 5, 6, 10, 1, 2, 3, 4, 5, 6, 7, 8, 9, 10, 11, 12, 1, 2, 3, 4, 5, 6, 7, 9, 10, 11, 12, 6, 3, 7, 10, 4, 5, 9, 2, 10, 12, 7, 4, 5, 6, 9, 1, 2, 4, 9, 10, 6, 1, 3, 4, 5, 6, 7, 8, 9, 11, 12, 1, 1, 2, 6, 1, 10, 1, 2, 3, 4, 7, 11, 2, 4, 5, 9, 11, 12, 6, 4, 1, 8, 11, 4, 1, 2, 3, 4, 5, 6, 7, 8, 9, 10, 11, 12, 1, 2, 3, 5, 6, 7, 8, 9, 10, 11, 12, 12, 1, 8, 12, 4, 1, 3, 7, 11, 12, 2, 1, 2, 3, 4, 5, 6, 7, 8, 9, 10, 11, 12, 3, 9, 1, 2, 3, 4, 5, 6, 7, 9, 10, 11, 12, 4, 8, 10, 2, 5, 7, 9, 10, 11, 12, 12, 3, 7, 10, 5, 11, 12, 1, 2, 3, 4, 5, 6, 8, 9, 11, 12, 7, 11, 1, 2, 3, 4, 5, 7, 10, 11, 12, 2, 4, 5, 6, 7, 8, 9, 10, 11, 12, 9, 1, 1, 3, 8, 6, 10, 6, 8, 1, 3, 7, 8, 9, 10, 1, 2, 3, 4, 5, 6, 7, 8, 9, 10, 11, 12, 2, 3, 2, 4, 5, 6, 7, 8, 5, 6, 7, 8, 11, 12, 2, 5, 1, 9, 10, 1, 1, 2, 3, 4, 7, 9, 10, 6, 2, 3, 8, 9, 12, 2, 3, 4, 5, 6, 7, 8, 9, 10, 11, 5, 3, 5, 12, 1, 10, 2, 12, 8, 12, 9, 6, 1, 2, 3, 4, 5, 6, 7, 8, 9, 10, 11, 12, 8, 3, 4, 5, 7, 11, 10, 12, 10, 1, 3, 5, 6, 9, 10, 2, 2, 3, 4, 5, 10, 1, 2, 3, 4, 5, 6, 8, 9, 10, 11, 12, 11, 1, 2, 3, 7, 8, 9, 10, 12, 2, 4, 5, 1, 3, 2, 10, 1, 2, 3, 4, 5, 6, 8, 9, 10, 11, 12, 1, 2, 3, 11, 1, 2, 3, 4, 5, 6, 7, 8, 9, 10, 11, 12, 2, 3, 4, 6, 7, 8, 9, 10, 11, 12, 1, 9, 10, 1, 3, 4, 9, 11, 1, 4, 6, 8, 9, 11, 4, 10, 5, 6, 7, 9, 10, 11, 1, 2, 5, 10, 2, 11, 7, 11, 11, 12, 5, 1, 1, 3, 4, 9, 10, 12, 1, 2, 4, 5, 8, 9, 10, 11, 12, 4, 7, 1, 1, 4, 5, 10, 1, 8, 1, 9, 3, 1, 10, 6, 1, 3, 4, 6, 7, 9, 12, 8, 4, 12, 7, 1, 3, 4, 7, 10, 12, 1, 2, 7, 10, 2, 4, 5, 7, 8, 10, 2, 3, 4, 5, 9, 10, 11, 12, 7, 10, 1, 2, 3, 7, 8, 9, 10, 11, 1, 3, 4, 1, 1, 2, 3, 4, 5, 6, 7, 8, 9, 10, 11, 12, 9, 1, 2, 3, 4, 5, 6, 7, 8, 9, 10, 11, 12, 1, 2, 3, 4, 5, 6, 7, 9, 10, 11, 12, 7, 1, 7, 4, 5, 6, 9, 10, 11, 3, 10, 8, 1, 2, 3, 7, 9, 10, 1, 3, 5, 11, 12, 1, 2, 3, 5, 6, 10, 12, 7, 3, 7, 1, 2, 4, 7, 8, 9, 10, 12, 11, 1, 2, 3, 5, 6, 7, 8, 9, 10, 11, 12, 5, 1, 2, 3, 4, 5, 6, 8, 9, 10, 11, 12, 10, 12, 11, 6, 11, 12, 12, 1, 3, 4, 5, 6, 8, 9, 10, 11, 12, 1, 2, 3, 4, 5, 6, 7, 8, 9, 10, 11, 12, 3, 1, 2, 3, 4, 5, 6, 7, 8, 9, 10, 11, 3, 1, 1, 2, 3, 4, 5, 6, 8, 9, 10, 11, 5, 5, 10, 8, 3, 9, 1, 2, 4, 6, 7, 8, 9, 10, 11, 12, 1, 2, 6, 7, 8, 11, 10, 7, 7, 11, 1, 4, 9, 4, 5, 9, 10, 12, 2, 4, 6, 2, 9, 7, 5, 7, 11, 10, 8, 8, 1, 4, 9, 12, 1, 4, 8, 10, 10, 4, 12, 2, 10, 11, 8, 9, 11, 12, 10, 1, 2, 4, 5, 6, 7, 8, 9, 10, 12, 9, 1, 4, 5, 9, 11, 8, 1, 2, 4, 5, 6, 9, 1, 2, 3, 4, 5, 6, 7, 9, 11, 2, 1, 4, 1, 2, 3, 7, 8, 10, 11, 12, 8, 9, 12, 2, 4, 5, 7, 1, 6, 7, 9, 10, 12, 3, 9, 6, 3, 4, 9, 11, 9, 10, 9, 12, 1, 2, 3, 4, 5, 7, 10, 11, 12, 1, 3, 6, 7, 8, 9, 10, 11, 12, 1, 3, 4, 5, 6, 7, 10, 11, 1, 2, 3, 4, 5, 6, 7, 8, 9, 10, 11, 12, 1, 2, 3, 4, 5, 7, 8, 9, 10, 12, 1, 3, 4, 5, 7, 8, 9, 10, 12, 12, 1, 2, 3, 4, 6, 9, 10, 9, 3, 11, 8, 7, 5, 8, 9, 4, 6, 7, 9, 9, 3, 1, 2, 3, 4, 5, 6, 7, 8, 9, 10, 11, 12, 1, 5, 7, 9, 10, 11, 7, 12, 12, 3, 1, 2, 4, 5, 6, 8, 9, 10, 11, 12, 11, 7, 2, 1, 7, 9, 10, 12, 11, 12, 8, 4, 11, 4, 9, 3, 8, 11, 1, 3, 5, 9, 10, 12, 2, 4, 8, 9, 10, 12, 2, 6, 9, 11, 4, 6, 8, 9, 10, 11, 12, 1, 7, 1, 5, 9, 10, 9, 10, 1, 8, 9, 3, 7, 10, 1, 2, 3, 6, 8, 9, 10, 11, 12, 8, 5, 6, 1, 2, 3, 4, 5, 6, 7, 8, 9, 10, 11, 12, 1, 2, 3, 4, 5, 6, 7, 8, 9, 10, 11, 12, 8, 9, 10, 8, 4, 2, 3, 8, 11, 6, 3, 4, 5, 6, 11, 5, 8, 9, 4, 10, 4, 1, 1, 3, 6, 9, 10, 11, 12, 2, 8, 12, 6, 9, 1, 7, 9, 10, 3, 3, 1, 2, 5, 6, 7, 8, 9, 10, 12, 1, 2, 3, 4, 6, 7, 8, 9, 10, 11, 5, 1, 3, 5, 6, 7, 8, 9, 10, 11, 12, 1, 3, 4, 5, 6, 8, 9, 10, 12, 1, 2, 3, 4, 5, 6, 7, 8, 9, 10, 11, 12, 2, 9, 10, 11, 5, 6, 11, 12, 1, 2, 3, 5, 6, 7, 8, 9, 10, 11, 12, 1, 2, 3, 4, 5, 6, 7, 8, 9, 11, 12, 1, 2, 3, 4, 5, 6, 7, 8, 9, 10, 11, 12, 6, 5, 6, 8, 11, 1, 2, 4, 5, 6, 7, 8, 9, 10, 11, 12, 2, 6, 7, 9, 10, 11, 12, 2, 3, 5, 6, 7, 10, 12, 10, 2, 8, 4, 4, 9, 1, 1, 2, 3, 4, 7, 9, 10, 12, 12, 4, 5, 12, 1, 2, 3, 4, 7, 8, 9, 10, 12, 3, 6, 7, 8, 9, 5, 7, 3, 8, 5, 9, 10, 11, 8, 4, 6, 8, 9, 10, 11, 1, 2, 5, 6, 7, 8, 9, 10, 11, 12, 4, 11, 6, 6, 1, 5, 6, 2, 2, 3, 5, 9, 10, 4, 10, 11, 2, 11, 4, 5, 9, 10, 11, 1, 2, 7, 1, 8, 8, 1, 11, 12, 6, 2, 3, 6, 8, 9, 10, 11, 12, 7, 1, 2, 4, 5, 6, 7, 8, 9, 10, 11, 12, 5, 4, 1, 2, 3, 4, 5, 6, 7, 8, 9, 10, 11, 12, 4, 9, 6, 1, 2, 3, 4, 5, 6, 7, 8, 9, 10, 11, 12, 5, 4, 4, 11, 11, 1, 2, 5, 7, 10, 2, 3, 7, 8, 1, 2, 3, 4, 6, 7, 8, 9, 10, 11, 12, 5, 1, 2, 3, 5, 7, 1, 2, 3, 4, 5, 6, 7, 8, 9, 10, 11, 12, 1, 2, 3, 4, 5, 6, 7, 8, 9, 10, 11, 3, 7, 5, 2, 1, 2, 3, 4, 7, 9, 10, 12, 3, 6, 11], \"Freq\": [0.31525267787651723, 0.13216362264823223, 0.08420210413368516, 0.10009946139412491, 0.03098637432119614, 0.006601444964080916, 0.059008834576886555, 0.03165999115426562, 0.11168567092291999, 0.09538414356263855, 0.020343228358698333, 0.012394549728478456, 0.9951783259799868, 0.9897638835542087, 0.012260877789997304, 0.8852353764378053, 0.10053919787797788, 0.0024521755579994605, 0.9847483006353067, 0.7251653798606738, 0.0078396257282235, 0.00391981286411175, 0.08492927872242126, 0.17769818317306602, 0.9984197167485239, 0.11840012269100525, 0.8777940130540045, 0.9915858627240907, 0.9918682671955045, 0.9960557857782939, 0.9915913900292964, 0.9924364300828868, 0.004084295860254508, 0.09078806226508593, 0.002683965851024391, 0.00338413085563945, 0.43200180784749115, 0.1308141616955801, 0.0490115503230541, 0.2126167730681061, 0.009218839227431604, 0.02485585766383458, 0.02485585766383458, 0.01575371260383882, 0.9953383244784676, 0.9869349285161199, 0.9968683593749497, 0.00030711863883371775, 0.9969071016542477, 0.0020474575922247848, 0.00030711863883371775, 0.00010237287961123924, 0.00010237287961123924, 0.00010237287961123924, 0.9983650362830324, 0.9906765200241927, 0.9957420231192353, 0.9940717550895468, 0.9590570899482507, 0.0033070934136146574, 0.03637802754976123, 0.9685149761521858, 0.02917213783590921, 0.02227794329704199, 0.9741537023524725, 0.0010126337862291813, 0.0020252675724583627, 0.8644549168829744, 0.0009341419028344222, 0.00018682838056688445, 0.0625875074899063, 0.0018682838056688445, 0.00672582170040784, 0.06202702234820564, 0.0005604851417006534, 0.0003736567611337689, 0.9961047591004049, 0.013998676987393405, 0.985740171195619, 0.9968607327020574, 0.0034222629548712065, 0.9924562569126499, 0.9913973640591631, 0.17270291032754323, 0.019150524330675156, 0.03064083892908025, 0.001740956757334105, 0.04247934487895216, 0.08078039354030248, 0.046657641096554014, 0.014275845410139662, 0.07172741840216514, 0.519501496388497, 0.9978468026310364, 0.8787900675999346, 0.11828264416984902, 0.0016659527347866058, 0.9940100940740436, 0.9768706294692437, 0.0036863042621480898, 0.014745217048592359, 0.0036863042621480898, 0.9931310861361521, 0.9967801924241998, 0.02917843768899551, 0.9665357484479763, 0.7808665308587553, 0.21829335926562649, 0.0013284468740547694, 0.0006642234370273847, 0.0026568937481095387, 0.06476178511017001, 0.08867382884315586, 0.40550840830521834, 0.01859825623676677, 0.10295463273924463, 0.00996335155541077, 0.2341387615521531, 0.07073979604341647, 0.9971033508645559, 0.884092912129761, 0.0022438906399232517, 0.07853617239731381, 0.033658359598848775, 0.9943739494856603, 0.9937839050150138, 0.0055281090137762855, 0.13630177529678952, 0.8619082849649925, 0.9950335149241148, 0.9951378194579857, 0.14720790892340732, 0.8509335223133546, 0.996506001456373, 0.9953519478842172, 0.9932225578238012, 0.48021005906204584, 0.35316534452243253, 0.00094809488462398, 0.00047404744231199, 0.16496850992457252, 0.00047404744231199, 0.9868930922124103, 0.9920494168986793, 0.995764655861963, 0.9985691929915906, 0.9984866029327224, 0.9782639607475878, 0.017468999299064068, 0.9902840085673643, 0.993528433284167, 0.9957229844154922, 0.993684376249994, 0.9924312252142226, 0.008502003710635572, 0.9033378942550295, 0.08502003710635572, 0.005222124834144568, 0.7180421646948781, 0.20627393094871044, 0.05874890438412639, 0.010444249668289137, 0.0889394363871066, 0.033303313184599385, 0.06739023373824816, 0.07483450374421745, 0.03447872423817348, 0.06621482268467407, 0.3126593402507095, 0.001175411053574096, 0.06464760794657527, 0.004701644214296384, 0.1759198543515897, 0.07600991479779154, 0.9978726602805411, 0.0006448520017872345, 0.14638140440570224, 0.852494346362724, 0.9920162379104409, 0.9901604230431386, 0.9945048079950155, 0.8281759438063407, 0.010833696939327132, 0.04935350827915693, 0.007222464626218088, 0.10111450476705323, 0.9976233418372297, 0.9933019547083909, 0.0004225018948142879, 0.0004225018948142879, 0.0004225018948142879, 0.004647520842957167, 0.0004225018948142879, 0.9932212974103701, 0.002002424001400763, 0.22226906415548467, 0.009010908006303432, 0.7609211205322898, 0.004004848002801526, 0.002002424001400763, 0.0012539444778759874, 0.03322952866371367, 0.08840308569025712, 0.6865346016371031, 0.0012539444778759874, 0.01504733373451185, 0.16677461555750633, 0.0012539444778759874, 0.006269722389379937, 0.993665197186941, 0.9866817327433823, 0.031988889615611256, 0.963665299670289, 0.05768726915670552, 0.9397442233592351, 0.12411477002791155, 0.8740848697710366, 0.15623035396066956, 0.7946199037654745, 0.012121320565914018, 0.03771077509395472, 0.012828848083218783, 0.007602280345611131, 0.0004751425216006957, 0.9787935944974331, 0.9924360991297665, 0.0022682873272696106, 0.9957781366713592, 0.9955202913436639, 0.9945215692809172, 0.9875497766673832, 0.27111164252058745, 0.7268453238128634, 0.004690521324383659, 0.01474163844806293, 0.07102789434066685, 0.24564930250272138, 0.006298700064172343, 0.026936993891460446, 0.0037524170595069277, 0.021308368302200054, 0.18668274871046966, 0.10600578193107071, 0.0013401489498239027, 0.31145061593907497, 0.9948196823436283, 0.004827349584253274, 0.004827349584253274, 0.004827349584253274, 0.9799519656034147, 0.9911375213585861, 0.9903132104839499, 0.31292741481124275, 0.016701182251161833, 0.016701182251161833, 0.12569837167979694, 0.37445808626289157, 0.15382667862912214, 0.991867351719519, 0.0009316254814767336, 0.9977708906615818, 0.0045205648354142555, 0.027361313477507334, 0.02783716240755094, 0.04401602602903354, 0.19486013685285658, 0.016654712551526202, 0.04829866639942599, 0.0019033957201744231, 0.010230751995937525, 0.2464897457625878, 0.37782405045462303, 0.9975269628999807, 0.9933476598483174, 0.0014163608770533928, 0.004013022484984613, 0.0014163608770533928, 0.023606014617556546, 0.169491184954056, 0.2514040556769772, 0.2502237549460994, 0.00259666160793122, 0.10504676504812663, 0.0014163608770533928, 0.11212856943339358, 0.0771916677994099, 0.9957268700496003, 0.9924998335422787, 0.9975581057747873, 0.894868277121083, 0.10257383413640872, 0.9934852222084822, 0.9918337714159878, 0.9974333735185372, 0.9905263811574311, 0.9928852933758572, 0.9979916174674159, 0.9937381776134342, 0.039063279426951425, 0.006826592521214812, 0.031857431765669124, 0.029581900925264182, 0.002654785980472427, 0.0686451803522156, 0.10770845977916703, 0.1410829121051061, 0.4456247895793002, 0.0800228345542403, 0.04475210652796376, 0.002275530840404937, 0.9928986437438116, 0.005459657627992542, 0.25114425088765696, 0.005459657627992542, 0.734323950964997, 0.010470571162963169, 0.9877238797061922, 0.9936621496939442, 0.012380986262730521, 0.9830503092608034, 0.06980259622904623, 0.0013029817962755296, 0.008376311547485547, 0.8510332532245317, 0.00018614025661078997, 0.00018614025661078997, 0.008190171290874758, 0.0005584207698323698, 0.0024198233359402693, 0.013774378989198456, 0.04411524081675722, 0.0017574563822232963, 0.9578137283116964, 0.010544738293339777, 0.029876758497796037, 0.002350780187552848, 0.11283744900253671, 0.0031343735834037977, 0.2139209970673092, 0.6676215732650088, 0.0029648435706742748, 0.052427111920459735, 0.004483421984922074, 0.6163258964111425, 0.0013016386407838278, 0.021549350830754484, 0.004194168953636779, 0.20276637493099187, 0.001880144703354418, 0.005495807594420607, 0.08301561997887968, 0.0036879761488875125, 0.059254765950937004, 0.0006237343784309158, 0.2881652828350831, 0.6324666597289487, 0.005613609405878242, 0.0074848125411709895, 0.0012474687568618315, 0.004989875027447326, 0.9956399996942173, 0.9930365318790633, 0.9968864642995399, 0.9937652734786334, 0.9921494941706253, 0.9912187291597567, 0.8809488161884194, 0.11745984215845591, 0.9974752645356083, 0.9965395651689245, 0.9958145218573223, 0.4567322887254767, 0.46662815498119536, 0.0007612204812091278, 0.07536082763970366, 0.9946009643700602, 0.9928144627802065, 0.31335433900325355, 0.52700502468729, 0.005086921087715155, 0.006104305305258186, 0.004069536870172124, 0.002034768435086062, 0.12310349032270675, 0.02034768435086062, 0.0015171072511946113, 0.0015171072511946113, 0.29887012848533845, 0.39293077805940435, 0.0015171072511946113, 0.15626204687304499, 0.1471594033658773, 0.9946921913309262, 0.9584583046263194, 0.0018373002644593982, 0.03858330555364736, 0.9957714580495719, 0.9936454857074186, 0.994383596738214, 0.9969127020596728, 0.9990250351608211, 0.6429987629798012, 0.08851105377739746, 0.0013617085196522686, 0.11547288246651237, 0.08960042059311928, 0.026961828689114918, 0.03377037128737626, 0.0013617085196522686, 0.32167984745367295, 0.4089640468526031, 0.0005780410556220539, 0.11069486215162332, 0.06213941347937079, 0.026878909086425505, 0.062428434007181816, 0.006358451611842592, 0.0015245349412862288, 0.3125296629636769, 0.6845161886375167, 0.06715756925237949, 0.016789392313094873, 0.9150218810636706, 0.9960043638379374, 0.9887937585529918, 0.9917812758561942, 0.0025278030038804467, 0.6572287810089161, 0.33872560251997985, 0.004501587688154749, 0.09003175376309498, 0.17218572907191915, 0.01688095383058031, 0.02363333536281243, 0.6538556117044773, 0.04051428919339274, 0.9997799128310781, 0.99536828911048, 0.03881457759568959, 0.20320572976566903, 0.001141605223402635, 0.537696060222641, 0.04452260371270276, 0.1735239939572005, 0.99739554065764, 0.5822024096407289, 0.10084577452705482, 0.0005198235800363651, 0.008837000860618206, 0.011955942340836396, 0.05198235800363651, 0.13047571858912763, 0.02183259036152733, 0.09096912650636388, 0.002975554406055315, 0.01190221762422126, 0.08331552336954881, 0.0006612343124567366, 0.06546219693321692, 0.00198370293737021, 0.004628640187197156, 0.28929001169982227, 0.5398978161209255, 0.9956670150130169, 0.0021491699619766145, 0.0032237549429649215, 0.9929165224331958, 0.0010745849809883073, 0.992359801061729, 0.10024276949784867, 0.0025703274230217607, 0.0012851637115108804, 0.0025703274230217607, 0.8893332883655292, 0.003855491134532641, 0.9985582392906466, 0.9974856955138082, 0.001728744706263099, 0.9932109568583246, 0.996287553917445, 0.9957467109574142, 0.9988322276670436, 0.9908734448864366, 0.9953838130544336, 0.983563279064818, 0.006759885079483286, 0.003379942539741643, 0.9973032131335434, 0.9934056872115016, 0.996200460743609, 0.00031546022064829525, 0.999062518793151, 0.00031546022064829525, 0.9979381802144633, 0.02614918803491266, 0.1142816365970257, 0.5752821367680785, 0.16851698955832603, 0.1152501250427632, 0.07161574104671169, 0.011766480780494212, 0.318857102631911, 0.1740277033954576, 0.10241196234874592, 0.005229547013552983, 0.08134850909971307, 0.01220227636495696, 0.025276143898839417, 0.009442237663359552, 0.028036182600436825, 0.1596464491081869, 0.9957270274998188, 0.9957964419719498, 0.0009299310380195824, 0.0074394483041566595, 0.0004649655190097912, 0.9392303483997783, 0.051146207091077034, 0.004077081354629881, 0.09988849318843207, 0.8765724912454244, 0.018346866095834462, 0.07473605436755315, 0.9248586727984703, 0.001869182088124517, 0.9663671395603753, 0.02616854923374324, 0.003738364176249034, 0.9890264599476772, 0.9894859104290927, 0.9988230418374504, 0.9992806608625185, 0.0005132549826225877, 0.9987941961835557, 0.9914429072564573, 0.9897909969817431, 0.9952074066107559, 0.9974341451457569, 0.001099299627293475, 0.005130064927369549, 0.04726988397361942, 0.40564156247129224, 0.2850850366781078, 0.001099299627293475, 0.0894097030198693, 0.0117258626911304, 0.15316908140289084, 0.06506593333922017, 0.11740947747803417, 0.003998465177270514, 0.1610290975937125, 0.05706900298467915, 0.06470243650492286, 0.09051071174003253, 0.0487085757958408, 0.05634200931608451, 0.3351440812221285, 0.29199294390339087, 0.026212758761010806, 0.007090336386175054, 0.0032228801755341155, 0.06853991839969219, 0.005586325637592466, 0.04984721338159432, 0.06316845144046866, 0.1938025278887848, 0.1271963375944131, 0.012246944667029639, 0.15104565089336555, 0.0022773938726127277, 0.995221122331762, 0.9901834950803691, 0.9866595647832606, 0.9961819048248971, 0.0015638900988693006, 0.5942782375703343, 0.27622208871279025, 0.1202240513505775, 0.0062555603954772025, 0.00019548626235866258, 0.000977431311793313, 0.004626899657872764, 0.9901565267847715, 0.40768080201146784, 0.5914793410478131, 0.9951345662302564, 0.9944885872939874, 0.9924450738595941, 0.9911167386436223, 0.9965957753827415, 0.004089996498286198, 0.9856891560869738, 0.008179992996572396, 0.0044030955831585, 0.995099601793821, 0.9882302195915081, 0.006862709858274362, 0.00127443198148323, 0.001019545585186584, 0.997370468708776, 0.002684447438323737, 0.019864911043595654, 0.00859023180263596, 0.26576029639404997, 0.001073778975329495, 0.35058883544508007, 0.03650848516120282, 0.312469681820883, 0.0016106684629942423, 0.00373884175860423, 0.00747768351720846, 0.9870542242715167, 0.9862061353811945, 0.9921024985267279, 0.005751318832039003, 0.002473717854227678, 0.010719444034986604, 0.0008245726180758926, 0.9845397059826158, 0.008902153961905968, 0.012948587580954135, 0.1262487289143028, 0.2282188561143166, 0.0016185734476192668, 0.11815586167620647, 0.5033763422095919, 0.010025340502838622, 0.22491633475933603, 0.1721743260270111, 0.427166682294863, 0.08456156771959533, 0.0026153062181318142, 0.003922959327197721, 0.02048656537536588, 0.011332993611904528, 0.0427166682294863, 0.20510004869640586, 0.10557087777861511, 0.23085679899781497, 0.09126157205561004, 0.1329175509381359, 0.07917815833396133, 0.013355352008138055, 0.05946311489337658, 0.025756750301409108, 0.013355352008138055, 0.043563886312259846, 0.018101699925261255, 0.007957458691977264, 0.1897641294178395, 0.0021260385818259865, 0.0968258714123035, 0.0047987727989786556, 0.003462405690402321, 0.6160652370536902, 0.006013651988593505, 0.030857931416217177, 0.0009719033516918796, 0.022961216683720656, 0.9937920340239772, 0.18164099318941426, 0.30328441694058283, 0.11488545576499251, 0.07499696179780717, 0.0008241424373385402, 0.00016482848746770805, 0.2439461614522079, 0.0008241424373385402, 0.004450369161628117, 0.04384437766641034, 0.02900981379431662, 0.0023075988245479127, 0.00024170822160428948, 0.0006848399612121535, 0.00016113881440285965, 0.002417082216042895, 0.979401713940581, 0.00016113881440285965, 0.0008862634792157281, 0.013978792149448076, 0.0006848399612121535, 8.056940720142982e-05, 0.0012085411080214475, 4.028470360071491e-05, 0.11218882993407442, 0.19734420687198634, 0.03683307970727142, 0.01993717158466985, 0.013854644660533287, 0.013854644660533287, 0.560268313345468, 0.007096281411492659, 0.0006758363249040628, 0.005744608761684534, 0.031088470945586887, 0.0010137544873560942, 0.0023157378211463874, 0.41104346325348373, 0.585881668750036, 0.9903278707345845, 0.9974713437252405, 0.9936278956876615, 0.05923462633676451, 0.0075618671919273845, 0.07309804952196472, 0.035288713562327795, 0.7675295199806296, 0.05293307034349169, 0.0037809335959636922, 0.001260311198654564, 0.9829955092801538, 0.00918687391850611, 0.12690150973085026, 0.11042454833071709, 0.14684730510995886, 0.4911290775232679, 0.004625111971967208, 0.004914181470215159, 0.04075879925296102, 0.022547420863340138, 0.03844624326697742, 0.008961154445686466, 0.004336042473719257, 0.1349762478853092, 0.48348634824526104, 0.07355848429728491, 0.011426560667539404, 0.0014283200834424256, 0.03785048221122428, 0.15354440897006075, 0.048562882837042465, 0.052133683045648534, 0.004284960250327276, 0.001049038838910208, 0.003147116516730624, 0.001049038838910208, 0.002098077677820416, 0.9871455474145058, 0.001049038838910208, 0.00524519419455104, 0.00037381449826377815, 0.00037381449826377815, 0.0007476289965275563, 0.9984585248625514, 0.5963383034711025, 0.0981596464871988, 0.011070636821864526, 0.006642382093118716, 0.0014760849095819368, 0.0007380424547909684, 0.2856224300041048, 0.0007380424547909684, 0.9905958200109708, 0.99201420130657, 0.0008723360936825011, 0.0008723360936825011, 0.0026170082810475035, 0.9953354828917338, 0.9903300150809425, 0.002443142530048186, 0.004886285060096372, 0.9894727246695153, 0.11981906279006833, 0.470831556575335, 0.0032663441319101074, 0.151207833228424, 0.13774412205055062, 0.00948036467554397, 0.006054686683540687, 0.019120063211181117, 0.014897715918711953, 0.03831979335240882, 0.027325757005979678, 0.0019120063211181117, 0.0004672548492088627, 0.000534005541952986, 0.000267002770976493, 0.00020025207823236974, 0.06775195313528509, 0.9191570390865771, 0.000267002770976493, 0.010346357375339102, 0.0004672548492088627, 0.0001335013854882465, 0.0004672548492088627, 0.9964356515443614, 0.22747755449314913, 0.030919279251496, 0.7398541820893685, 0.9966266290565127, 0.9840381108886117, 0.01035829590409065, 0.0008592901684274599, 0.00042964508421372994, 0.9980655306284946, 0.994316357891245, 0.9819998026158583, 0.0023834946665433456, 0.0023834946665433456, 0.011917473332716727, 0.47936543202192766, 0.5169948004059015, 0.0008180297474776922, 0.0016360594949553844, 0.0008180297474776922, 0.9980567070410392, 0.03825387959173865, 0.08312862295897051, 0.0007356515306103585, 0.33619274948893385, 0.12653206326498168, 0.017655636734648605, 0.2537997780605737, 0.019126939795869324, 0.0007356515306103585, 0.12358945714254024, 0.9947298253985505, 0.9815384059357709, 0.016636244168402897, 0.9958795020128626, 0.9904388729476635, 0.008089932451147776, 0.17198696962018065, 0.16870477554345964, 0.2139990538022095, 0.000656438815344201, 0.17067409198949224, 0.2730785471831876, 0.20415800129400258, 0.12048668928826381, 0.4618656422716779, 0.07363075456505011, 0.005578087467049251, 0.133874099209182, 0.9953520753980127, 0.9973053952718484, 0.9983589418134798, 0.09194518523405204, 0.9055207636686944, 0.988586511807527, 0.09719307339887986, 0.022702031742804055, 0.025539785710654562, 0.0018918359785670047, 0.3412399146340235, 0.10357801982654351, 0.20100757272274425, 0.11753031016847516, 0.0406744735391906, 0.020573716266916175, 0.026958662694579815, 0.0011823974866043778, 0.0019999399318699437, 0.005333173151653183, 0.005333173151653183, 0.018999429352764465, 0.6426473647742086, 0.012999609557154634, 0.11666316269241338, 0.0033332332197832395, 0.017332812742872846, 0.17499474403862006, 0.00033332332197832395, 0.9898505114972616, 0.9971294223426798, 0.0020349580047809793, 0.99843839686508, 0.9978516149104203, 0.0016126975501237842, 0.0016126975501237842, 0.10966343340841732, 0.6676567857512467, 0.2209395643669584, 0.9963530610780449, 0.23073618812423188, 0.02897733434400314, 0.003164191681241722, 0.08018727865883628, 0.11790777422732313, 0.05928695992221332, 0.0011657548299311609, 0.19568027502415913, 0.03122557580172752, 0.10658329873656328, 0.10958095401352912, 0.03547225411076246, 0.9951513673465074, 0.9975295380426819, 0.009282854163739477, 0.20664440573193968, 0.10170779344618906, 0.09403934870223037, 0.07950966392420335, 0.0016144094197807787, 0.46333550347708347, 0.005650432969232726, 0.008879251808794283, 0.0004036023549451947, 0.028655767201108823, 0.047127310799136506, 0.015709103599712167, 0.9346916641828741, 0.0030947156363091036, 0.0015473578181545518, 0.19651444290562806, 0.06885742290787755, 0.25299300326826923, 0.0835573221803458, 0.3930288858112561, 0.9956741845997505, 0.04341808108338425, 0.11738962663285371, 0.8378081572015997, 0.09911229145429959, 0.001943378263809796, 0.8997841361439356, 0.0004733997646268641, 0.007100996469402962, 0.014990992546517364, 0.00015779992154228803, 0.00031559984308457607, 0.21050509533741224, 0.02098738956512431, 0.004102797960099489, 0.3525250247254715, 0.38866120675865545, 0.9981484298878998, 0.9958787586093579, 0.003379706417184734, 0.06624224577682078, 0.034473005455284284, 0.1155859594677179, 0.14532737593894354, 0.6036155661091934, 0.00202782385031084, 0.0006759412834369468, 0.02703765133747787, 0.0008455755451748519, 0.07694737461091151, 0.028185851505828394, 0.21844034917017008, 0.0016911510903497037, 0.05186196677072425, 0.06116329776764762, 0.00028185851505828396, 0.26494700415478695, 0.2953877237810816, 0.9972859768853252, 0.9965099446539164, 0.2921076748291025, 0.7075497012527149, 0.9952003211763293, 0.022478864879800997, 0.9755827357833632, 0.9926149657443832, 0.9891091335814866, 0.1569585963738893, 0.09725655358136698, 0.517096725477169, 0.004814680870364702, 0.030813957570334092, 0.1925872348145881, 0.6722923413565725, 0.19768616556865432, 0.008993496734767459, 0.0012522590390182536, 0.0010245755773785712, 0.0006261295195091268, 0.05333485088909562, 0.0005122877886892856, 0.0030737267321357133, 0.04695971396318451, 0.0003984460578694443, 0.013831770294610711, 0.9896129241940044, 0.9940382937736915, 0.18401568004125501, 0.0020629560542741593, 0.0004125912108548319, 0.15760984254654578, 0.0008251824217096638, 0.6547822516266182, 0.7445220182268614, 0.00013009296142352987, 0.00013009296142352987, 0.2536812747758832, 0.0011708366528117688, 0.00026018592284705975, 0.0008061308267626314, 0.9987960943589003, 0.062028419329045265, 0.930426289935679, 0.00590746850752812, 0.9951574457779004, 0.000658948852785665, 0.2912553929312639, 0.25896689914476634, 0.0039536931167139895, 0.025699005258640936, 0.06457698757299517, 0.3558323805042591, 0.9980322668867393, 0.9923055169221463, 0.9966154343608622, 0.7747885411190811, 0.21462286457592278, 0.008584914583036911, 0.00033538246664616004, 0.11704848085950985, 0.24147537598523522, 0.018110653198892643, 0.00804917919950784, 0.5822239620977337, 0.00033538246664616004, 0.00100614739993848, 0.028507509664923603, 0.0026830597331692803, 0.9894388992542975, 0.9990103635479157, 0.005473882131159971, 0.9852987836087947, 0.9929045325995656, 0.0066341060084603495, 0.003114446300301546, 0.9966228160964947, 0.9939571370277227, 0.992980555468596, 0.9936124444695859, 0.9992276862923943, 0.5614569876499312, 0.10663882718054954, 0.11495143063560351, 0.05510068575921491, 0.02778784583546614, 0.0038000472937389593, 0.018525230556977426, 0.00023750295585868496, 0.015200189174955837, 0.09025112322630027, 0.005462567984749754, 0.0004750059117173699, 0.9948494465524064, 0.9545506722621734, 0.043869999200638714, 0.7065024988471846, 0.127489172724304, 0.16467351476889266, 0.9893467699103377, 0.9981651069305499, 0.9944274512899697, 0.057436347043752785, 0.7643452337360948, 0.002209090270913569, 0.005522725677283922, 0.1700999508603448, 0.9958876458064237, 0.9875973741807369, 0.0009820807234650942, 0.0006547204823100628, 0.001636801205775157, 0.9961572138347605, 0.0006547204823100628, 0.012747076235862947, 0.001722577869711209, 0.044787024612491434, 0.20326418862592266, 0.01722577869711209, 0.3221220616359961, 0.005512249183075869, 0.30868595425224865, 0.00930192049644053, 0.07441536397152423, 0.0003445155739422418, 0.9884880090182242, 0.12968456407961965, 0.15662386966137637, 0.0031324773932275276, 0.015035891487492133, 0.05137262924893145, 0.11778114998535504, 0.15787686061866738, 0.3683793414435572, 0.9927729855448426, 0.0037748022264062456, 0.9961948220354782, 0.9969849619048539, 0.9984740143401669, 0.9886161051855733, 0.9965255820972204, 0.4098686627098735, 0.010551538799739307, 0.42886143254940423, 0.06659193375835473, 0.0014068718399652409, 0.00046895727998841363, 0.00023447863999420681, 0.0007034359199826204, 0.08042617351801294, 0.00023447863999420681, 0.0007034359199826204, 0.9968167149452681, 0.9094126552841383, 0.010483143000393526, 0.07600278675285306, 0.10107228530857587, 0.2114095301037712, 0.15139786070180428, 0.13728985421081558, 0.0010528363052976653, 0.0018951053495357977, 0.3385921557837292, 0.0012634035663571985, 0.006527585092845525, 0.04527196112779961, 0.004211345221190661, 0.00021056726105953309, 0.14877345058826413, 0.06020281581008146, 0.15161023248507427, 0.1326983531730068, 0.06083321178715038, 0.19353156496015717, 0.03025900689930796, 0.027737422991032296, 0.1468822626570574, 0.04727969828016869, 0.8275122211074594, 0.14849712795560774, 0.02275359218674635, 0.06723194057558875, 0.31610807147820674, 0.11087372656325162, 0.5048293081816138, 0.0011795077293962938, 0.0005026678630684877, 0.0015080035892054632, 0.21614718111944972, 0.08696154031084838, 0.5725386960350075, 0.12214829072564252, 0.9918025718128064, 0.9971138221652366, 0.026467309778225666, 0.7560444575780114, 0.017261288985799348, 0.00230150519810658, 0.19562794183905927, 0.00230150519810658, 0.014685585465588059, 0.980262829828003, 0.1902443279220788, 0.8085383936688348, 0.9853309182068931, 0.9942312901875677, 0.99578490276758, 0.9955337559644054, 0.9978058507457128, 0.9949264996990215, 0.9921565513831078, 0.9919321373807372, 0.00508711302027328, 0.3221838246173077, 0.6630203969756175, 0.00508711302027328, 0.0016957043400910934, 0.0016957043400910934, 0.0011311780452500392, 0.14479078979200502, 0.01385693105431298, 0.0008483835339375295, 0.0011311780452500392, 0.2545150601812588, 0.07069862782812746, 0.0002827945113125098, 0.5127064490095803, 0.7713140230478344, 0.22530488567976212, 0.994396798764406, 0.09666644028441043, 0.7645436640676098, 0.12303001490743146, 0.014646430346122792, 0.9954279481933387, 0.9913198035657201, 0.998409706121145, 0.9930511774110437, 0.9966190655033158, 0.9949908811898229, 0.9957332094162484, 0.997101321759158, 0.6913664340870167, 0.07083672480399761, 0.053835910851038185, 0.0009444896640533016, 0.16623018087338107, 0.0009444896640533016, 0.014167344960799523, 0.994439020642918, 0.9831342575806035, 0.014095114804022988, 0.9965659022775818, 0.33334283334792114, 0.43564219974070695, 0.10160345233569204, 0.010438710856406717, 0.11273807724919253, 0.005567312456750249, 0.23250116475382004, 0.008899566114978759, 0.755350674008822, 0.0022248915287446896, 0.030857157616695035, 0.0015428578808347516, 0.0015428578808347516, 0.9612004597600503, 0.0015428578808347516, 0.0015428578808347516, 0.0004158202945744511, 0.0006237304418616767, 0.00020791014728722555, 0.0008316405891489022, 0.00020791014728722555, 0.00020791014728722555, 0.992770953296502, 0.004781933387606188, 0.9896826557696806, 0.008230209195589859, 0.12260176325161214, 0.18651119303170782, 0.14912200282022325, 0.06608321990867037, 0.023911691414321517, 0.03608491613433974, 0.37780472434627993, 0.03738919021148455, 0.001194463867052531, 0.9914050096536007, 0.004777855468210124, 0.9987900334822182, 0.05596506594927024, 0.23236957207006942, 0.12420317267688923, 0.09736612350823332, 0.03992829266556123, 0.00654562174845266, 0.05874695519236262, 0.12714870246369292, 0.06971087162102083, 0.018818662526801398, 0.10538451015008782, 0.06365617150370212, 0.9987882746899278, 0.186837492132504, 0.09749910508983542, 0.012885344285000277, 0.16665045275267024, 0.007731206571000166, 0.00042951147616667585, 0.0034360918093334068, 0.018898504951333737, 0.004295114761666758, 0.34403869240950735, 0.0012885344285000276, 0.1567716888008367, 0.41324089309323236, 0.08984576774759767, 0.0004963854571690479, 0.0019855418286761914, 0.17174936818049058, 0.150156600793637, 0.1429590116646858, 0.007942167314704766, 0.018614454643839297, 0.0009927709143380957, 0.0019855418286761914, 0.9946485979114733, 0.008402268974835519, 0.9886669827056461, 0.6631074463122146, 0.004637115009176326, 0.0011592787522940815, 0.3025717543487553, 0.019707738788999386, 0.00811495126605857, 0.9080214513935932, 0.08839146871973032, 0.9919749292412168, 0.1374582122730936, 0.1726073441785422, 0.0006276630697401534, 0.011297935255322761, 0.0012553261394803068, 0.6759931261101453, 0.11411278848205471, 0.8789112644788044, 0.0012139658349154757, 0.0024279316698309515, 0.0024279316698309515, 0.19369590837552733, 0.04993722637806564, 0.5977334672526039, 0.05145047566224945, 0.09987445275613129, 0.004539747852551422, 0.0015132492841838073, 0.9980215004497262, 0.01674582986920237, 0.9824220189932057, 0.04856900664999828, 0.7817053807141829, 0.0005112527015789293, 0.0005112527015789293, 0.16002209559420488, 0.003067516209473576, 0.005112527015789293, 0.0005112527015789293, 0.9963260231736324, 0.621117174016097, 0.014622982483590088, 0.0052738625350652775, 0.0019177681945691917, 0.09421036255821154, 0.03284178033199741, 0.03451982750224545, 0.05393723047225852, 0.0026369312675326387, 0.02061600809161881, 0.11818246499032645, 0.9940564890767173, 0.28691568598531364, 0.0005403308587294042, 0.002701654293647021, 0.0005403308587294042, 0.6040899000594739, 0.0048629777285646375, 0.0032419851523764255, 0.0037823160111058293, 0.008104962880941063, 0.07078334249355195, 0.01404860232696451, 0.00441185148870327, 0.9948725107025875, 0.9898875336963623, 0.7917637065037129, 0.19748378822725401, 0.009142767973483982, 0.9961155094061978, 0.14043362863736142, 0.0009119066794633858, 0.0003647626717853543, 0.05179629939352032, 0.014590506871414173, 0.6228322620734925, 0.005836202748565669, 0.03447007248371599, 0.12438407107880584, 0.004012389389638897, 0.18665304775360325, 0.03022001725534529, 0.0255981322633513, 0.0991927625204863, 0.00568847383630029, 0.010665888443063043, 0.34024184133371105, 0.002844236918150145, 0.13616784245643818, 0.12052453940661238, 0.029153428411038983, 0.012443536516906883, 0.9954063986943773, 0.000602463351325943, 0.017270616071343697, 0.031930557620274976, 0.07129149657356991, 0.00943859250410644, 0.18656281779393366, 0.05964387178126835, 0.045184751349445725, 0.07109067545646126, 0.09960727408588924, 0.4074660466134461, 0.997356105509385, 0.9935771939452923, 0.1888629446946093, 0.12408914092651593, 0.2703760460656931, 0.2925738102783543, 0.023653355308573418, 0.0007277955479561051, 0.04949009726101515, 0.019286582020836787, 0.009097444349451315, 0.021833866438683156, 0.9942456157006065, 0.9881624560395352, 0.9921501065210457, 0.9922745159231521, 0.9913505635498201, 0.9944010820695932, 0.003677103183576435, 0.0003677103183576435, 0.0003677103183576435, 0.005515654775364653, 0.07170351207974049, 0.9078767760250218, 0.005515654775364653, 0.00018385515917882176, 0.0018385515917882175, 0.0027578273876823264, 0.005029972700516539, 0.050299727005165384, 0.5613449533776457, 0.0010059945401033076, 0.1971749298602483, 0.1851029953790086, 0.9958527384779285, 0.9963071328275855, 0.9965924759148143, 0.9966887094546142, 0.9921858515740261, 0.0044294011230983305, 0.0022147005615491652, 0.9944982272100773, 0.0046421701661098465, 0.003094780110739898, 0.7458420066883154, 0.24448762874845192, 0.9948029569925716, 0.0060597483989408745, 0.9877389890273626, 0.9959790535801626, 0.9970978068339907, 0.9929254585916005, 0.04196213296567838, 0.0034968444138065314, 0.954638524969183, 0.9928785571532586, 0.9944100694409358, 0.9933061462518339, 0.003941127783805485, 0.06831288158596173, 0.14319430947826595, 0.782970719716023, 0.27901311086253416, 0.00033819771013640507, 0.0006763954202728101, 0.71968472717027, 0.9941340261748364, 0.06823546835979259, 0.9290521461294838, 0.9967097545737359, 0.003151301084196258, 0.9926598415218213, 0.0022027825747024587, 0.22248104004494834, 0.7709739011458605, 0.004405565149404917, 0.9900545781098011, 0.1808739696168731, 0.001059808415723866, 0.12258450675206048, 0.4913978354239658, 0.0014130778876318211, 0.04557176187612623, 0.06500158283106378, 0.052990420786193294, 0.0134242399325023, 0.025082132505464826, 0.9948497578751291, 0.0018473691433483364, 0.001231579428898891, 0.0030789485722472272, 0.0006157897144494455, 0.9926530196925061, 0.9953139041846109, 0.0014168011587463345, 0.0018890682116617793, 0.0014168011587463345, 0.0004722670529154448, 0.8746385819994038, 0.11948356438760754, 0.0010693592931635832, 0.00035645309772119443, 0.0007129061954423889, 0.022812998254156443, 0.003564530977211944, 0.8437244823060671, 0.00035645309772119443, 0.0028516247817695554, 0.12404567800697565, 0.9886964329903176, 0.998407974053985, 0.9918222106024943, 0.00956171285193092, 0.0038844458460969363, 0.0077688916921938725, 0.0005976070532456825, 0.9776851391099366, 0.00029880352662284125, 0.006455760547023916, 0.9877313636946592, 0.9981646053683427, 0.000819511170253155, 0.000819511170253155, 0.8540322471970692, 0.0017358379008070512, 0.14407454576698525, 0.9926165695529633, 0.0003306817559403757, 0.0003306817559403757, 0.00231477229158263, 0.000992045267821127, 0.9024305119612853, 0.09358293693112632, 0.9973829278865326, 0.9943903032912529, 0.9933891946614737, 0.6263574965155695, 0.3612994123477718, 0.005522043420162451, 0.005522043420162451, 0.9980272429988164, 0.9969246317707725, 0.9956098155061018, 0.9888881201906345, 0.6007193185971772, 0.009738623765653896, 0.0010251182911214626, 0.00768838718341097, 0.0010251182911214626, 0.17273243205396646, 0.1978478301864423, 0.007175828037850239, 0.0020502365822429253, 0.17647414207704412, 0.001857622548179412, 0.38638549002131767, 0.21548421558881178, 0.01733781044967451, 0.08049697708777452, 0.12136467314772158, 0.0006192075160598039, 0.9971862556567098, 0.000577745337163897, 0.10630514203815705, 0.6996496033054793, 0.021954322812228085, 0.004044217360147279, 0.0190655961264086, 0.10919386872397653, 0.0387089375899811, 0.07859545316768585, 0.007723567024090927, 0.15925777638407207, 0.3162855087682306, 0.06390979755849886, 0.05178053385165185, 0.004460087999827155, 0.002828348487695269, 0.21566157218676427, 0.04742922848596682, 0.015175177462826539, 0.03687731297418062, 0.39118260450995956, 0.0016131241423091116, 0.3960219769368869, 0.11453181410394693, 0.004839372426927334, 0.0016131241423091116, 0.024196862134636673, 0.002419686213463667, 0.06129871740774624, 0.0032262482846182232, 0.003024842863129946, 0.0012099371452519783, 0.008469560016763848, 0.0024198742905039566, 0.1161539659441899, 0.0012099371452519783, 0.20145453468445437, 0.20145453468445437, 0.46340592663150765, 0.9970663298028252, 0.1552160748163357, 0.8357788643956537, 0.0034562283865985683, 0.00031420258059986986, 0.004398836128398178, 0.00031420258059986986, 0.00031420258059986986, 0.9945775381376386, 0.015202146010071265, 0.9820586322506036, 0.9936552597518309, 0.9977594529306116, 0.2032217437009447, 0.7820178491783188, 0.012862135677274981, 0.9778435862061805, 0.003206044544938297, 0.012824178179753188, 0.003206044544938297, 0.9959266713238886, 0.9971762247246685, 0.15302432248612252, 0.2429891714202715, 0.0005044757884157886, 0.00840792980692981, 0.17337151261889266, 0.1585735561586962, 0.11787917589315593, 0.05633312970642972, 0.011266625941285944, 0.025055630824650833, 0.0006726343845543847, 0.05179284761068763, 0.37846379882852993, 0.43495093298204185, 0.09602812806097027, 0.001412178353837798, 0.08402461205334899, 0.0049426242384322935, 0.0022277562001968816, 0.995807021488006, 0.9989798490618835, 0.9914117749691064, 0.12009350885365587, 0.0035583261882564704, 0.0022239538676602937, 0.13254765051255352, 0.04225512348554558, 0.3940846253494041, 0.006227070829448823, 0.004003116961788529, 0.2935619105311588, 0.0004447907735320588, 0.9976979661578185, 0.9982259646010093, 0.9969049748176722, 0.008496201018684148, 0.003776089341637399, 0.0014160335031140248, 0.9676228937945835, 0.018408435540482323, 0.9887665985627418, 0.9973606922985861, 0.9969784461006144, 0.9700763129001327, 0.02711393421149439, 0.9952989843535872, 0.9909897497906026, 0.9837403251870981, 0.0032043658800882677, 0.009613097640264802, 0.31531770096965966, 0.6581306374598649, 0.010530090199357838, 0.0017550150332263062, 0.0017550150332263062, 0.011700100221508709, 0.009844142630412446, 0.0019688285260824894, 0.041345399047732274, 0.04331422757381476, 0.0374077419955673, 0.8643157229502129, 0.995116387414508, 0.9549678227688857, 0.006996101265706122, 0.03148245569567755, 0.13281262019868387, 0.3940594225675235, 0.11675834742741438, 0.035027504228224315, 0.21381372372645258, 0.0007297396714213398, 0.10654199202751562, 0.004133346873880907, 0.9940699231683583, 0.9029651711898669, 0.02335254753077242, 0.012973637517095788, 0.05967873257864063, 0.9969578807118811, 0.9948814912266473, 0.011227120564162692, 0.6754984206104553, 0.30874581551447405, 0.9963786105228893, 0.9797772845026979, 0.013996818350038541, 0.08473108496031304, 0.0004681275412171991, 0.0014043826236515972, 0.5636255596255076, 0.22516934732547275, 0.0018725101648687963, 0.0014043826236515972, 0.05477092232241229, 0.06553785577040787, 0.9842029929963432, 0.005020127078218266, 0.9939851614872168, 0.11745277501457281, 0.22914441707748145, 0.0070620339407496315, 0.03326589672089958, 0.05352278355094457, 0.08418687829367323, 0.4159166305104651, 0.027318920770794626, 0.0027876449766116966, 0.018584299844077976, 0.009106306923598208, 0.0013009009890854583, 0.022978523213511466, 0.03734010022195613, 0.004232885855120533, 0.0034770133809918662, 0.002267617422386, 0.6470268378541386, 0.0006046979793029333, 0.008616946205066799, 0.006651677772332266, 0.0007558724741286667, 0.10597332087283906, 0.1602449645152773, 0.7370111339624766, 0.2095057030553233, 0.05291087908795155, 0.9918733461816458, 0.9922346466063676, 0.0028554030445141062, 0.0009518010148380354, 0.0019036020296760707, 0.9936802594909089, 0.9916979728348098, 0.9924821957319204, 0.003128755520283584, 0.003128755520283584, 0.9918154999298961, 0.9948623819265175, 0.9901062256699252, 0.00012665976518066828, 0.9995988668058341, 0.9945325307819952, 0.0021160266612382877, 0.9946831358548884, 0.994994060954272, 0.6096066926195302, 0.04408455178265529, 0.06337154318756698, 0.05235040524190316, 0.016531706918495735, 0.05717215309313108, 0.15636239460410548, 0.0023504582869008583, 0.1739339132306635, 0.8203099421283995, 0.9869953515428259, 0.0085085806167485, 0.07291451143812747, 0.03645725571906373, 0.0016571479872301697, 0.8898884691426011, 0.9855927940352127, 0.9943454831308052, 0.1646850813549553, 0.00252390929279625, 0.0002103257743996875, 0.0006309773231990625, 0.7489700826372871, 0.0006309773231990625, 0.000420651548799375, 0.0771895592046853, 0.004416841262393437, 0.19679012645514, 0.19143008410033074, 0.12289811399241234, 0.18109285955891288, 0.02565163126944432, 0.23277898226600216, 0.006891483027611906, 0.02105730925103638, 0.019143008410033073, 0.0026800211774046304, 0.9839419021138344, 0.0016411161859061928, 0.9769199962213808, 0.0019146355502238914, 0.00018234624287846585, 0.0010940774572707952, 0.009208485265362526, 0.002279328035980823, 0.0013675968215884939, 0.002279328035980823, 0.0030998861289339196, 0.012927766978890925, 0.9507409906922656, 0.0017878826672934258, 0.00027505887189129626, 0.00013752943594564813, 0.0005501177437825925, 0.017191179493206015, 0.01402800246645611, 0.00220047097513037, 0.30287637763927416, 0.16595418104079585, 0.02319359638642448, 0.03383065955675019, 0.06374240110338038, 0.04798675114432651, 0.048466618655769775, 0.14020129126000727, 0.10525094084322281, 0.039988959286938755, 0.0030391609058073453, 0.02543297810649305, 0.0016424825938950085, 0.7538995105978089, 0.23815997611477624, 0.006569930375580034, 0.0024653220092519783, 0.8086256190346488, 0.16271125261063055, 0.02465322009251978, 0.3711853554341131, 0.0015365449367467719, 0.0004390128390705063, 0.005268154068846075, 0.0015365449367467719, 0.06519340660197018, 0.1189724793881072, 0.21862839385711214, 0.09877788879086391, 0.023267680470736834, 0.09526578607829986, 0.005287721985517575, 0.0006220849394726559, 0.0012441698789453118, 0.0006220849394726559, 0.0009331274092089838, 0.6892701129357027, 0.0323484168525781, 0.13530347433530265, 0.0037325096368359353, 0.004665637046044919, 0.12628324271294913, 0.13553920949654863, 0.4401967386841413, 0.131071400717169, 0.04952213310196589, 0.003574247023503711, 0.07863343451708164, 0.032591489306422, 0.011098977599300997, 0.06593545167042372, 0.042749875583748334, 0.007430671443599821, 0.0016930643795543894, 0.9992367273876382, 0.7755427820194749, 0.22204336912590777, 0.0021453465616029736, 0.9958879597403427, 0.5863517731636517, 0.06871165924914925, 0.006631688292143092, 0.19747694025492762, 0.011789668074921052, 0.04218490608057689, 0.022474054767818257, 0.018789783494405427, 0.020447705567441198, 0.013631803711627467, 0.011421240947579769, 0.06210903682717267, 0.11505444527000838, 0.0040727237263719785, 0.3869087540053379, 0.2504725091718767, 0.0020363618631859893, 0.17818166302877406, 0.835244244635399, 0.02044514349719479, 0.011425227248432384, 0.016235849247772334, 0.10282704523589146, 0.012627882748267372, 0.0006013277499174939, 0.9960199238542448, 0.710203377936516, 0.2870336977803471, 0.9949723502263479, 0.9490912767772387, 0.04765311849927558, 0.9982345000123344, 0.35540415884559484, 0.0006927956312779626, 0.08452106701591144, 0.01593429951939314, 0.10530493595425032, 0.0006927956312779626, 0.43576845207383846, 0.0020783868938338878, 0.9948953899684921, 0.9955024055984159, 0.9853011300337422, 0.996035340959573, 0.004096944593284009, 0.09149842925000953, 0.1113003281175489, 0.019801898867539375, 0.294297186617568, 0.04984615921828878, 0.03550685314179474, 0.39330668095526483, 0.9967602915782294, 0.047723476314156965, 0.0020749337527894334, 0.8278985673629838, 0.07262268134763017, 0.047723476314156965, 0.99335439574551, 0.9908391284968681, 0.9967877972850082, 0.0018736612730921207, 0.9952251905221017, 0.9631778054412877, 0.016799612885603856, 0.016799612885603856, 0.9926382039345127, 0.002498035690661266, 0.01249017845330633, 0.9792299907392162, 0.002498035690661266, 0.001249017845330633, 0.001249017845330633, 0.0013107665945526982, 0.08869520623139925, 0.0017476887927369308, 0.2044795887502209, 0.006699473705491568, 0.0027671739218334736, 0.0026215331891053964, 0.0013107665945526982, 0.6368869242198832, 0.05345014891120447, 0.9949213468769985, 0.9930731715957335, 0.9898018025821249, 0.995321912210226, 0.39166220230385174, 0.6061666847392131, 0.0009576092965864346, 0.9931307981907913, 0.9923339558805769, 0.0037911125903857695, 0.8340447698848693, 0.002527408393590513, 0.1592267287962023, 0.9917438046744089, 0.008091149921586088, 0.997078447956063, 0.9970841130630437, 0.99543711774266, 0.5015966987415862, 0.011287689423158057, 0.4726719945947437, 0.002116441766842136, 0.011993170012105437, 0.01650701504530354, 0.9802627396134102, 0.0025395407762005442, 0.010772414775060784, 0.9856759519180618, 0.9892362336162888, 0.11508313288117844, 0.001338175963734633, 0.8831961360648578, 0.9907863277434976, 0.0004804136205215579, 0.0004804136205215579, 0.22099026543991662, 0.0004804136205215579, 0.17631179873141176, 0.011049513271995832, 0.5899479260004731, 0.0004804136205215579, 0.9936466980714675, 0.602140958453569, 0.11641682542150826, 0.006104253018356239, 0.07107094585657621, 0.0743410814021242, 0.011772487963972745, 0.06387664765637065, 0.03379140063732918, 0.013516560254931672, 0.004142171691027448, 0.0028341174728082536, 0.9888832794916812, 0.9958672307625281, 0.16588776642531447, 0.015617447585391258, 0.18245749740005884, 0.4641429239707134, 0.007427810436954379, 0.04837599617913878, 0.003999590235283127, 0.0015236534229650007, 0.1047511728288438, 0.004951873624636252, 0.0005713700336118753, 0.0003809133557412502, 0.9943284531504774, 0.9967953254358146, 0.9943308141316509, 0.16299151628787564, 0.4287666008944908, 0.11396504437015051, 0.20155327343953663, 0.006594203825191099, 0.00028670451413874345, 0.007310965110537957, 0.00014335225706937172, 0.003583806426734293, 0.06565533373777224, 0.004730624483289266, 0.004443919969150523, 0.9951968233257816, 0.9939391289456962, 0.7052127951429485, 0.29368988557218995, 0.9970634224948767, 0.0012940557117858656, 0.0025881114235717312, 0.0012940557117858656, 0.9925407309397589, 0.9954209514781392, 0.06622151051267515, 0.049666132884506366, 0.7871329545029342, 0.09632219710934567, 0.0009544667004807679, 0.013998844940384595, 0.1286939267814902, 0.1380795160028844, 0.14841957192475938, 0.0014317000507211516, 0.5201843517620185, 0.0345198790007211, 0.0028634001014423032, 0.0009544667004807679, 0.010021900355048062, 0.9931500127064993, 0.013770354038314893, 0.21657011351167968, 0.036303660646466535, 0.0006259251835597679, 0.7310806143978089, 0.22816563099848639, 0.10222940590988737, 0.07652201127305659, 0.12593622508859903, 0.09832828376655507, 0.006201783920169293, 0.08732511874689988, 0.11333259970244852, 0.036910617202297887, 0.016004603664953012, 0.09822825499364912, 0.010803107473843283, 0.040152768070898376, 0.036567699493139594, 0.043020822933105406, 0.1125711533416258, 0.3570728303447748, 0.19287668948342254, 0.00645312343996581, 0.02437846632875973, 0.16347912714580054, 0.020076384035449188, 0.0035850685777587834, 0.9930571638896389, 0.9941424282742382, 0.98820825388575, 0.9946613578124953, 0.20165621081322574, 0.04324926485141534, 0.5677117356098436, 0.03751743456990246, 0.03256721750859589, 0.0002605377400687671, 0.1164603698107389, 0.0005210754801375342, 0.9229057469926927, 0.06998337417954067, 0.9978521035904409], \"Term\": [\"able\", \"able\", \"able\", \"able\", \"able\", \"able\", \"able\", \"able\", \"able\", \"able\", \"able\", \"able\", \"abuse\", \"access\", \"accountable\", \"accountable\", \"accountable\", \"accountable\", \"achievable\", \"action\", \"action\", \"action\", \"action\", \"action\", \"active\", \"activity\", \"activity\", \"actual\", \"addiction\", \"additional\", \"adhd\", \"adult\", \"advice\", \"advice\", \"advice\", \"advice\", \"advice\", \"advice\", \"advice\", \"advice\", \"advice\", \"advice\", \"advice\", \"advice\", \"advise\", \"affordable\", \"alternative\", \"amazing\", \"amazing\", \"amazing\", \"amazing\", \"amazing\", \"amazing\", \"amazing\", \"amount\", \"analysis\", \"andor\", \"angel\", \"anger\", \"anger\", \"anger\", \"angle\", \"angle\", \"answer\", \"answer\", \"answer\", \"answer\", \"anxiety\", \"anxiety\", \"anxiety\", \"anxiety\", \"anxiety\", \"anxiety\", \"anxiety\", \"anxiety\", \"anxiety\", \"applicable\", \"appointment\", \"appointment\", \"appreciate\", \"appreciative\", \"appreciative\", \"apprehensive\", \"approach\", \"approach\", \"approach\", \"approach\", \"approach\", \"approach\", \"approach\", \"approach\", \"approach\", \"approach\", \"appropriate\", \"area\", \"area\", \"area\", \"article\", \"aspect\", \"aspect\", \"aspect\", \"aspect\", \"asset\", \"assignment\", \"assistance\", \"assistance\", \"attention\", \"attention\", \"attentive\", \"attentive\", \"attentive\", \"attentive\", \"attentive\", \"attentive\", \"attentive\", \"attentive\", \"attentive\", \"attentive\", \"attentive\", \"authentic\", \"aware\", \"aware\", \"aware\", \"aware\", \"awareness\", \"awesome\", \"awesome\", \"back\", \"back\", \"background\", \"bad\", \"balance\", \"balance\", \"basis\", \"battle\", \"beautiful\", \"betterhelp\", \"betterhelp\", \"betterhelp\", \"betterhelp\", \"betterhelp\", \"betterhelp\", \"bias\", \"body\", \"bottom\", \"boundary\", \"break\", \"breakthrough\", \"breakthrough\", \"breakup\", \"bright\", \"brilliant\", \"burden\", \"business\", \"busy\", \"busy\", \"busy\", \"call\", \"call\", \"call\", \"call\", \"call\", \"care\", \"care\", \"care\", \"care\", \"care\", \"care\", \"care\", \"care\", \"care\", \"care\", \"care\", \"care\", \"career\", \"caring\", \"caring\", \"caring\", \"carrie\", \"casual\", \"cause\", \"certain\", \"certain\", \"certain\", \"certain\", \"certain\", \"chance\", \"change\", \"change\", \"change\", \"change\", \"change\", \"change\", \"chaos\", \"chat\", \"chat\", \"chat\", \"chat\", \"chat\", \"chat\", \"check\", \"check\", \"check\", \"check\", \"check\", \"check\", \"check\", \"check\", \"check\", \"checking\", \"cheerleader\", \"childhood\", \"childhood\", \"choice\", \"choice\", \"circumstance\", \"circumstance\", \"clarity\", \"clarity\", \"clarity\", \"clarity\", \"client\", \"client\", \"client\", \"client\", \"clinical\", \"close\", \"close\", \"cognitive\", \"colleague\", \"combat\", \"comfort\", \"comfort\", \"comfortable\", \"comfortable\", \"comfortable\", \"comfortable\", \"comfortable\", \"comfortable\", \"comfortable\", \"comfortable\", \"comfortable\", \"comfortable\", \"comfortable\", \"comfortable\", \"comforting\", \"comment\", \"comment\", \"comment\", \"comment\", \"communicate\", \"communicating\", \"communication\", \"communication\", \"communication\", \"communication\", \"communication\", \"communication\", \"communicator\", \"compassion\", \"compassion\", \"compassionate\", \"compassionate\", \"compassionate\", \"compassionate\", \"compassionate\", \"compassionate\", \"compassionate\", \"compassionate\", \"compassionate\", \"compassionate\", \"compassionate\", \"competent\", \"complicated\", \"concern\", \"concern\", \"concern\", \"concern\", \"concern\", \"concern\", \"concern\", \"concern\", \"concern\", \"concern\", \"concern\", \"concern\", \"concerned\", \"concise\", \"conclusion\", \"concrete\", \"concrete\", \"confused\", \"connect\", \"connected\", \"considerate\", \"consideration\", \"control\", \"convenient\", \"conversation\", \"conversation\", \"conversation\", \"conversation\", \"conversation\", \"conversation\", \"conversation\", \"conversation\", \"conversation\", \"conversation\", \"conversation\", \"conversation\", \"cool\", \"core\", \"core\", \"core\", \"core\", \"corner\", \"corner\", \"councilor\", \"counsel\", \"counsel\", \"counseling\", \"counseling\", \"counseling\", \"counseling\", \"counseling\", \"counseling\", \"counseling\", \"counseling\", \"counseling\", \"counseling\", \"counseling\", \"counselling\", \"counselling\", \"counselling\", \"counselling\", \"counsellor\", \"counsellor\", \"counsellor\", \"counsellor\", \"counsellor\", \"counselor\", \"counselor\", \"counselor\", \"counselor\", \"counselor\", \"counselor\", \"counselor\", \"counselor\", \"counselor\", \"counselor\", \"counselor\", \"counselor\", \"couple\", \"couple\", \"couple\", \"couple\", \"couple\", \"couple\", \"couple\", \"couple\", \"courage\", \"courteous\", \"crazy\", \"creative\", \"credit\", \"crucial\", \"daily\", \"daily\", \"dark\", \"darkest\", \"date\", \"deal\", \"deal\", \"deal\", \"deal\", \"dealing\", \"decade\", \"decision\", \"decision\", \"decision\", \"decision\", \"decision\", \"decision\", \"decision\", \"decision\", \"deep\", \"deep\", \"deep\", \"deep\", \"deep\", \"deep\", \"deep\", \"depressed\", \"depression\", \"depression\", \"depression\", \"depth\", \"desire\", \"detailed\", \"dialogue\", \"difference\", \"different\", \"different\", \"different\", \"different\", \"different\", \"different\", \"different\", \"different\", \"difficult\", \"difficult\", \"difficult\", \"difficult\", \"difficult\", \"difficult\", \"difficult\", \"difficult\", \"direct\", \"direct\", \"direct\", \"direction\", \"direction\", \"direction\", \"disorder\", \"dynamic\", \"eager\", \"earth\", \"earth\", \"earth\", \"ease\", \"ease\", \"ease\", \"ease\", \"ease\", \"ease\", \"ease\", \"easy\", \"effect\", \"effective\", \"effective\", \"effective\", \"effective\", \"effective\", \"effective\", \"email\", \"emotion\", \"emotion\", \"emotion\", \"emotion\", \"emotion\", \"emotion\", \"emotion\", \"emotion\", \"emotion\", \"empathetic\", \"empathetic\", \"empathetic\", \"empathetic\", \"empathetic\", \"empathetic\", \"empathetic\", \"empathetic\", \"empathetic\", \"empathic\", \"empathy\", \"empathy\", \"empathy\", \"empathy\", \"encourage\", \"encouragement\", \"encouragement\", \"encouragement\", \"encouragement\", \"encouragement\", \"encouragement\", \"encouraging\", \"energy\", \"energy\", \"enjoy\", \"enjoyable\", \"entry\", \"environment\", \"essential\", \"esteem\", \"event\", \"event\", \"event\", \"everyday\", \"evident\", \"example\", \"excellent\", \"excellent\", \"excellent\", \"exceptional\", \"exercise\", \"exercise\", \"exercise\", \"exercise\", \"exercise\", \"experience\", \"experience\", \"experience\", \"experience\", \"experience\", \"experience\", \"experience\", \"experience\", \"experience\", \"experience\", \"experience\", \"experience\", \"experienced\", \"expert\", \"expertise\", \"expertise\", \"expertise\", \"expertise\", \"expertise\", \"express\", \"express\", \"express\", \"express\", \"extra\", \"extra\", \"face\", \"face\", \"face\", \"face\", \"facetoface\", \"fair\", \"faith\", \"family\", \"fantastic\", \"fantastic\", \"fashion\", \"father\", \"favorite\", \"fear\", \"feedback\", \"feedback\", \"feedback\", \"feedback\", \"feedback\", \"feedback\", \"feedback\", \"feedback\", \"feedback\", \"feel\", \"feel\", \"feel\", \"feel\", \"feel\", \"feel\", \"feel\", \"feel\", \"feel\", \"feel\", \"feeling\", \"feeling\", \"feeling\", \"feeling\", \"feeling\", \"feeling\", \"feeling\", \"feeling\", \"feeling\", \"feeling\", \"feeling\", \"feeling\", \"figure\", \"figure\", \"find\", \"fine\", \"firm\", \"first\", \"first\", \"first\", \"first\", \"first\", \"first\", \"first\", \"flexibility\", \"flexibility\", \"flexible\", \"flexible\", \"focused\", \"follow\", \"foot\", \"force\", \"fortunate\", \"forward\", \"forward\", \"forward\", \"free\", \"free\", \"fresh\", \"fresh\", \"friend\", \"friend\", \"friend\", \"friendly\", \"friendly\", \"friendly\", \"friendly\", \"friendly\", \"friendly\", \"friendly\", \"friendly\", \"friendly\", \"funny\", \"funny\", \"funny\", \"game\", \"general\", \"general\", \"gentle\", \"gentle\", \"gentle\", \"gentle\", \"genuine\", \"genuine\", \"genuine\", \"genuine\", \"genuine\", \"genuine\", \"genuine\", \"glad\", \"glad\", \"glad\", \"glad\", \"glad\", \"glad\", \"glad\", \"glad\", \"glad\", \"glad\", \"goal\", \"goal\", \"goal\", \"goal\", \"goal\", \"goal\", \"goal\", \"goal\", \"goal\", \"goal\", \"goal\", \"good\", \"good\", \"good\", \"good\", \"good\", \"good\", \"good\", \"good\", \"good\", \"good\", \"good\", \"good\", \"grace\", \"grateful\", \"grateful\", \"grateful\", \"grateful\", \"grateful\", \"grateful\", \"grateful\", \"grateful\", \"grateful\", \"grateful\", \"grateful\", \"grateful\", \"great\", \"great\", \"great\", \"great\", \"great\", \"great\", \"great\", \"great\", \"great\", \"great\", \"great\", \"great\", \"guidance\", \"guidance\", \"guidance\", \"guidance\", \"guidance\", \"guidance\", \"guidance\", \"guidance\", \"guidance\", \"guidance\", \"guidance\", \"guidance\", \"guide\", \"guide\", \"guide\", \"guiding\", \"habit\", \"half\", \"hand\", \"hand\", \"hand\", \"hand\", \"hand\", \"hand\", \"hand\", \"hand\", \"handle\", \"handle\", \"happy\", \"happy\", \"happy\", \"happy\", \"happy\", \"happy\", \"happy\", \"happy\", \"happy\", \"happy\", \"happy\", \"hard\", \"hard\", \"hard\", \"hard\", \"hard\", \"hard\", \"hard\", \"hard\", \"hard\", \"hard\", \"healing\", \"healing\", \"healing\", \"healing\", \"healing\", \"healing\", \"healing\", \"health\", \"health\", \"health\", \"health\", \"healthy\", \"healthy\", \"healthy\", \"healthy\", \"healthy\", \"healthy\", \"healthy\", \"healthy\", \"heard\", \"hearing\", \"heart\", \"heart\", \"heart\", \"heart\", \"hearted\", \"heather\", \"heather\", \"heather\", \"help\", \"help\", \"help\", \"help\", \"help\", \"help\", \"help\", \"help\", \"help\", \"help\", \"help\", \"help\", \"helpful\", \"helpful\", \"helpful\", \"helpful\", \"helpful\", \"helpful\", \"helpful\", \"helpful\", \"helpful\", \"helpful\", \"helpful\", \"helping\", \"high\", \"high\", \"high\", \"history\", \"holistic\", \"holistic\", \"honest\", \"honest\", \"honest\", \"honesty\", \"hopeful\", \"hopeful\", \"hopeful\", \"hopeful\", \"huge\", \"huge\", \"huge\", \"huge\", \"huge\", \"humor\", \"idea\", \"idea\", \"idea\", \"idea\", \"idea\", \"idea\", \"idea\", \"idea\", \"idea\", \"idea\", \"immediate\", \"impact\", \"impact\", \"impressed\", \"improvement\", \"improvement\", \"incredible\", \"incredible\", \"incredible\", \"incredible\", \"incredible\", \"incredible\", \"information\", \"information\", \"information\", \"information\", \"information\", \"information\", \"informative\", \"initial\", \"inner\", \"input\", \"input\", \"insecurity\", \"insight\", \"insight\", \"insight\", \"insight\", \"insight\", \"insight\", \"insight\", \"insight\", \"insight\", \"insight\", \"insight\", \"insight\", \"insightful\", \"insightful\", \"insightful\", \"insightful\", \"insightful\", \"insightful\", \"insightful\", \"insightful\", \"insightful\", \"insightful\", \"insightful\", \"intention\", \"interaction\", \"interaction\", \"interest\", \"interested\", \"intuitive\", \"intuitive\", \"intuitive\", \"intuitive\", \"intuitive\", \"invaluable\", \"issue\", \"issue\", \"issue\", \"issue\", \"issue\", \"issue\", \"issue\", \"issue\", \"issue\", \"issue\", \"issue\", \"issue\", \"item\", \"journal\", \"journey\", \"journey\", \"journey\", \"journey\", \"journey\", \"journey\", \"journey\", \"journey\", \"journey\", \"journey\", \"journey\", \"judge\", \"judge\", \"judge\", \"judgement\", \"judgement\", \"judgement\", \"judgement\", \"judgement\", \"judgement\", \"judgement\", \"judgemental\", \"judgment\", \"judgment\", \"judgment\", \"judgmental\", \"judgmental\", \"judgmental\", \"kind\", \"kind\", \"kind\", \"kind\", \"kind\", \"kind\", \"kind\", \"kind\", \"kind\", \"kind\", \"kindness\", \"knowledgable\", \"knowledge\", \"knowledge\", \"knowledge\", \"knowledge\", \"knowledge\", \"knowledge\", \"knowledge\", \"knowledge\", \"knowledge\", \"knowledgeable\", \"knowledgeable\", \"knowledgeable\", \"knowledgeable\", \"knowledgeable\", \"knowledgeable\", \"knowledgeable\", \"knowledgeable\", \"knowledgeable\", \"knowledgeable\", \"lady\", \"large\", \"last\", \"last\", \"late\", \"laugh\", \"laugh\", \"leave\", \"lesson\", \"level\", \"level\", \"level\", \"level\", \"level\", \"level\", \"life\", \"life\", \"life\", \"life\", \"life\", \"life\", \"life\", \"life\", \"life\", \"life\", \"life\", \"life\", \"lifestyle\", \"list\", \"listen\", \"listen\", \"listen\", \"listen\", \"listen\", \"listen\", \"listener\", \"listener\", \"listener\", \"listener\", \"listener\", \"listener\", \"listening\", \"listening\", \"live\", \"live\", \"live\", \"logical\", \"long\", \"long\", \"long\", \"long\", \"long\", \"long\", \"long\", \"look\", \"lori\", \"loss\", \"lot\", \"lot\", \"lot\", \"love\", \"love\", \"love\", \"love\", \"love\", \"love\", \"love\", \"love\", \"love\", \"love\", \"low\", \"lucky\", \"main\", \"main\", \"major\", \"major\", \"make\", \"make\", \"male\", \"manageable\", \"management\", \"manner\", \"many\", \"many\", \"many\", \"many\", \"many\", \"many\", \"many\", \"many\", \"many\", \"many\", \"many\", \"many\", \"marriage\", \"match\", \"match\", \"material\", \"material\", \"material\", \"mean\", \"mechanism\", \"meditation\", \"meeting\", \"meeting\", \"meeting\", \"meeting\", \"meeting\", \"member\", \"memory\", \"mental\", \"mental\", \"mental\", \"mental\", \"mental\", \"message\", \"message\", \"message\", \"message\", \"message\", \"message\", \"message\", \"message\", \"message\", \"message\", \"message\", \"messaging\", \"mind\", \"mind\", \"mind\", \"mind\", \"mind\", \"mind\", \"mind\", \"mind\", \"minded\", \"minded\", \"mindfulness\", \"mindset\", \"minute\", \"mistake\", \"money\", \"month\", \"month\", \"month\", \"month\", \"month\", \"month\", \"month\", \"month\", \"month\", \"month\", \"month\", \"mood\", \"move\", \"move\", \"move\", \"much\", \"much\", \"much\", \"much\", \"much\", \"much\", \"much\", \"much\", \"much\", \"much\", \"much\", \"much\", \"need\", \"need\", \"need\", \"need\", \"need\", \"need\", \"need\", \"need\", \"need\", \"need\", \"negative\", \"negative\", \"negative\", \"next\", \"next\", \"next\", \"next\", \"next\", \"nice\", \"nice\", \"nice\", \"nice\", \"nice\", \"nice\", \"night\", \"none\", \"nonjudgmental\", \"nonjudgmental\", \"nonjudgmental\", \"nonjudgmental\", \"nonjudgmental\", \"nonjudgmental\", \"number\", \"number\", \"objective\", \"objective\", \"observant\", \"observation\", \"obstacle\", \"obvious\", \"offer\", \"offering\", \"okay\", \"ongoing\", \"online\", \"online\", \"online\", \"online\", \"online\", \"online\", \"open\", \"open\", \"open\", \"open\", \"open\", \"open\", \"open\", \"open\", \"open\", \"opening\", \"opening\", \"optimistic\", \"option\", \"option\", \"option\", \"option\", \"outcome\", \"outlet\", \"outlook\", \"outside\", \"outstanding\", \"overwhelming\", \"painful\", \"panic\", \"part\", \"part\", \"part\", \"part\", \"part\", \"part\", \"part\", \"particular\", \"partner\", \"partner\", \"passionate\", \"past\", \"past\", \"past\", \"past\", \"past\", \"past\", \"path\", \"path\", \"path\", \"path\", \"patience\", \"patience\", \"patience\", \"patience\", \"patience\", \"patience\", \"patient\", \"patient\", \"patient\", \"patient\", \"patient\", \"patient\", \"patient\", \"patient\", \"peace\", \"peace\", \"people\", \"people\", \"people\", \"people\", \"people\", \"people\", \"people\", \"people\", \"perfect\", \"perfect\", \"perfect\", \"period\", \"person\", \"person\", \"person\", \"person\", \"person\", \"person\", \"person\", \"person\", \"person\", \"person\", \"person\", \"person\", \"personable\", \"personal\", \"personal\", \"personal\", \"personal\", \"personal\", \"personal\", \"personal\", \"personal\", \"personal\", \"personal\", \"personal\", \"personal\", \"perspective\", \"perspective\", \"perspective\", \"perspective\", \"perspective\", \"perspective\", \"perspective\", \"perspective\", \"perspective\", \"perspective\", \"perspective\", \"pertinent\", \"phenomenal\", \"phenomenal\", \"phone\", \"phone\", \"phone\", \"phone\", \"phone\", \"phone\", \"picture\", \"picture\", \"piece\", \"place\", \"place\", \"place\", \"place\", \"place\", \"place\", \"plan\", \"plan\", \"plan\", \"plan\", \"plan\", \"platform\", \"platform\", \"platform\", \"platform\", \"platform\", \"platform\", \"platform\", \"pleased\", \"pleasure\", \"pleasure\", \"point\", \"point\", \"point\", \"point\", \"point\", \"point\", \"point\", \"point\", \"polite\", \"positive\", \"positive\", \"positive\", \"positive\", \"positive\", \"positive\", \"positive\", \"positive\", \"positive\", \"positive\", \"positive\", \"powerful\", \"practical\", \"practical\", \"practical\", \"practical\", \"practical\", \"practical\", \"practical\", \"practical\", \"practical\", \"practical\", \"practical\", \"practice\", \"practice\", \"pragmatic\", \"presence\", \"presence\", \"presence\", \"proactive\", \"problem\", \"problem\", \"problem\", \"problem\", \"problem\", \"problem\", \"problem\", \"problem\", \"problem\", \"problem\", \"process\", \"process\", \"process\", \"process\", \"process\", \"process\", \"process\", \"process\", \"process\", \"process\", \"process\", \"process\", \"profession\", \"professional\", \"professional\", \"professional\", \"professional\", \"professional\", \"professional\", \"professional\", \"professional\", \"professional\", \"professional\", \"professional\", \"professionalism\", \"program\", \"progress\", \"progress\", \"progress\", \"progress\", \"progress\", \"progress\", \"progress\", \"progress\", \"progress\", \"progress\", \"provider\", \"psychologist\", \"psychology\", \"punctual\", \"purpose\", \"qualified\", \"question\", \"question\", \"question\", \"question\", \"question\", \"question\", \"question\", \"question\", \"question\", \"question\", \"quick\", \"quick\", \"quick\", \"quick\", \"quick\", \"quick\", \"rapport\", \"rare\", \"reach\", \"read\", \"realistic\", \"realistic\", \"realistic\", \"realization\", \"reason\", \"reason\", \"reason\", \"reason\", \"reassurance\", \"reassuring\", \"reassuring\", \"rebecca\", \"receptive\", \"reference\", \"reflection\", \"reflection\", \"reflection\", \"reframe\", \"refreshing\", \"regard\", \"relatable\", \"relatable\", \"relatable\", \"relatable\", \"relationship\", \"relationship\", \"relationship\", \"relationship\", \"relaxed\", \"relevant\", \"relevant\", \"reliable\", \"remember\", \"remember\", \"reply\", \"reply\", \"reply\", \"reply\", \"research\", \"resource\", \"resource\", \"resource\", \"resource\", \"resource\", \"resource\", \"resource\", \"resource\", \"resource\", \"resource\", \"resourceful\", \"respectful\", \"respectful\", \"respectful\", \"respectful\", \"respectful\", \"respond\", \"response\", \"response\", \"response\", \"response\", \"response\", \"response\", \"responsive\", \"responsive\", \"responsive\", \"responsive\", \"responsive\", \"responsive\", \"responsive\", \"responsive\", \"responsive\", \"rest\", \"review\", \"rhonda\", \"right\", \"right\", \"right\", \"right\", \"right\", \"right\", \"robin\", \"robin\", \"root\", \"root\", \"root\", \"rough\", \"rough\", \"rough\", \"ryan\", \"safe\", \"safe\", \"safe\", \"safe\", \"safe\", \"safe\", \"satisfied\", \"scary\", \"scenario\", \"schedule\", \"schedule\", \"schedule\", \"schedule\", \"scheduling\", \"school\", \"second\", \"secure\", \"self\", \"self\", \"self\", \"self\", \"self\", \"self\", \"self\", \"self\", \"self\", \"sense\", \"sense\", \"sense\", \"sense\", \"sense\", \"sense\", \"sense\", \"sense\", \"sensitive\", \"service\", \"service\", \"service\", \"service\", \"service\", \"service\", \"service\", \"service\", \"session\", \"session\", \"session\", \"session\", \"session\", \"session\", \"session\", \"session\", \"session\", \"session\", \"session\", \"session\", \"several\", \"several\", \"several\", \"several\", \"several\", \"several\", \"several\", \"several\", \"several\", \"several\", \"share\", \"share\", \"share\", \"share\", \"share\", \"share\", \"share\", \"share\", \"share\", \"sharing\", \"short\", \"short\", \"short\", \"short\", \"short\", \"short\", \"short\", \"shoulder\", \"show\", \"show\", \"sign\", \"similar\", \"simple\", \"simple\", \"simple\", \"sincere\", \"sincere\", \"sincere\", \"sincere\", \"single\", \"site\", \"situation\", \"situation\", \"situation\", \"situation\", \"situation\", \"situation\", \"situation\", \"situation\", \"situation\", \"situation\", \"situation\", \"situation\", \"skill\", \"skill\", \"skill\", \"skill\", \"skill\", \"skill\", \"skilled\", \"skilled\", \"smart\", \"soft\", \"solution\", \"solution\", \"solution\", \"solution\", \"solution\", \"solution\", \"solution\", \"solution\", \"solution\", \"solution\", \"sort\", \"sound\", \"source\", \"space\", \"space\", \"space\", \"space\", \"space\", \"special\", \"spirit\", \"spiritual\", \"spot\", \"spot\", \"stacy\", \"stage\", \"star\", \"star\", \"star\", \"step\", \"step\", \"step\", \"step\", \"step\", \"step\", \"story\", \"story\", \"story\", \"story\", \"story\", \"story\", \"straight\", \"straightforward\", \"straightforward\", \"straightforward\", \"strategy\", \"strategy\", \"strategy\", \"strategy\", \"strategy\", \"strategy\", \"strategy\", \"strength\", \"strength\", \"stress\", \"stress\", \"stress\", \"stress\", \"stressor\", \"stuck\", \"stuff\", \"stuff\", \"stuff\", \"success\", \"successful\", \"successful\", \"suggestion\", \"suggestion\", \"suggestion\", \"suggestion\", \"suggestion\", \"suggestion\", \"suggestion\", \"suggestion\", \"suggestion\", \"suit\", \"super\", \"super\", \"support\", \"support\", \"support\", \"support\", \"support\", \"support\", \"support\", \"support\", \"support\", \"support\", \"support\", \"support\", \"supportive\", \"supportive\", \"supportive\", \"supportive\", \"supportive\", \"supportive\", \"supportive\", \"supportive\", \"supportive\", \"supportive\", \"supportive\", \"supportive\", \"sure\", \"sure\", \"sure\", \"surface\", \"surprised\", \"sweet\", \"sweet\", \"sweet\", \"sweet\", \"sympathetic\", \"symptom\", \"system\", \"system\", \"system\", \"tackle\", \"tactic\", \"talk\", \"talk\", \"talking\", \"talking\", \"tangible\", \"team\", \"technique\", \"technique\", \"technique\", \"technique\", \"technique\", \"technique\", \"technique\", \"tell\", \"tell\", \"tell\", \"teresa\", \"teresa\", \"term\", \"term\", \"term\", \"term\", \"terrible\", \"terrific\", \"thank\", \"thank\", \"thank\", \"thank\", \"thank\", \"thank\", \"thank\", \"thank\", \"thank\", \"thankful\", \"thankful\", \"thankful\", \"thankful\", \"thankful\", \"thankful\", \"thankful\", \"thankful\", \"thankful\", \"thankful\", \"theme\", \"therapist\", \"therapist\", \"therapist\", \"therapist\", \"therapist\", \"therapist\", \"therapist\", \"therapist\", \"therapist\", \"therapist\", \"therapy\", \"therapy\", \"therapy\", \"therapy\", \"therapy\", \"therapy\", \"therapy\", \"therapy\", \"therapy\", \"thing\", \"thing\", \"thing\", \"thing\", \"thing\", \"thing\", \"thing\", \"thing\", \"thing\", \"thing\", \"thing\", \"thing\", \"thinking\", \"thinking\", \"thinking\", \"thinking\", \"thorough\", \"thorough\", \"thorough\", \"thorough\", \"thought\", \"thought\", \"thought\", \"thought\", \"thought\", \"thought\", \"thought\", \"thought\", \"thought\", \"thought\", \"thought\", \"thoughtful\", \"thoughtful\", \"thoughtful\", \"thoughtful\", \"thoughtful\", \"thoughtful\", \"thoughtful\", \"thoughtful\", \"thoughtful\", \"thoughtful\", \"thoughtful\", \"time\", \"time\", \"time\", \"time\", \"time\", \"time\", \"time\", \"time\", \"time\", \"time\", \"time\", \"time\", \"timely\", \"tip\", \"tip\", \"tip\", \"tone\", \"tool\", \"tool\", \"tool\", \"tool\", \"tool\", \"tool\", \"tool\", \"tool\", \"tool\", \"tool\", \"tool\", \"topic\", \"topic\", \"topic\", \"topic\", \"topic\", \"topic\", \"topic\", \"tough\", \"tough\", \"tough\", \"tough\", \"tough\", \"tough\", \"tough\", \"toxic\", \"track\", \"track\", \"tracy\", \"traditional\", \"traditional\", \"transition\", \"trauma\", \"trauma\", \"trauma\", \"trauma\", \"trauma\", \"trauma\", \"trauma\", \"trauma\", \"traumatic\", \"treatment\", \"trick\", \"trigger\", \"trust\", \"trust\", \"trust\", \"trust\", \"trust\", \"trust\", \"trust\", \"trust\", \"trustworthy\", \"truth\", \"truth\", \"truth\", \"truth\", \"truth\", \"tunnel\", \"turn\", \"type\", \"type\", \"unbiased\", \"uncomfortable\", \"uncomfortable\", \"uncomfortable\", \"underlying\", \"understand\", \"understand\", \"understand\", \"understand\", \"understand\", \"understand\", \"understanding\", \"understanding\", \"understanding\", \"understanding\", \"understanding\", \"understanding\", \"understanding\", \"understanding\", \"understanding\", \"understanding\", \"understood\", \"unsure\", \"upbeat\", \"uplifting\", \"useful\", \"useful\", \"useful\", \"valid\", \"validation\", \"valuable\", \"valuable\", \"valuable\", \"valuable\", \"variety\", \"variety\", \"vent\", \"version\", \"vibe\", \"video\", \"video\", \"video\", \"video\", \"video\", \"view\", \"view\", \"view\", \"virtual\", \"virtual\", \"visit\", \"voice\", \"voice\", \"voice\", \"wall\", \"warm\", \"warm\", \"warm\", \"warm\", \"warm\", \"warm\", \"warm\", \"warm\", \"warmth\", \"way\", \"way\", \"way\", \"way\", \"way\", \"way\", \"way\", \"way\", \"way\", \"way\", \"way\", \"wealth\", \"website\", \"week\", \"week\", \"week\", \"week\", \"week\", \"week\", \"week\", \"week\", \"week\", \"week\", \"week\", \"week\", \"weekend\", \"weight\", \"welcoming\", \"well\", \"well\", \"well\", \"well\", \"well\", \"well\", \"well\", \"well\", \"well\", \"well\", \"well\", \"well\", \"wellness\", \"wide\", \"willing\", \"willing\", \"willingness\", \"wisdom\", \"wisdom\", \"wisdom\", \"wisdom\", \"wish\", \"woman\", \"woman\", \"woman\", \"woman\", \"wonderful\", \"wonderful\", \"wonderful\", \"wonderful\", \"wonderful\", \"wonderful\", \"wonderful\", \"wonderful\", \"wonderful\", \"wonderful\", \"wonderful\", \"wood\", \"word\", \"word\", \"word\", \"word\", \"word\", \"work\", \"work\", \"work\", \"work\", \"work\", \"work\", \"work\", \"work\", \"work\", \"work\", \"work\", \"work\", \"worksheet\", \"worksheet\", \"worksheet\", \"worksheet\", \"worksheet\", \"worksheet\", \"worksheet\", \"worksheet\", \"worksheet\", \"worksheet\", \"worksheet\", \"worried\", \"worry\", \"writing\", \"wrong\", \"year\", \"year\", \"year\", \"year\", \"year\", \"year\", \"year\", \"year\", \"young\", \"young\", \"zone\"]}, \"R\": 30, \"lambda.step\": 0.01, \"plot.opts\": {\"xlab\": \"PC1\", \"ylab\": \"PC2\"}, \"topic.order\": [3, 5, 11, 10, 4, 6, 9, 7, 2, 1, 12, 8]};\n",
              "\n",
              "function LDAvis_load_lib(url, callback){\n",
              "  var s = document.createElement('script');\n",
              "  s.src = url;\n",
              "  s.async = true;\n",
              "  s.onreadystatechange = s.onload = callback;\n",
              "  s.onerror = function(){console.warn(\"failed to load library \" + url);};\n",
              "  document.getElementsByTagName(\"head\")[0].appendChild(s);\n",
              "}\n",
              "\n",
              "if(typeof(LDAvis) !== \"undefined\"){\n",
              "   // already loaded: just create the visualization\n",
              "   !function(LDAvis){\n",
              "       new LDAvis(\"#\" + \"ldavis_el5291400309453093286794382085\", ldavis_el5291400309453093286794382085_data);\n",
              "   }(LDAvis);\n",
              "}else if(typeof define === \"function\" && define.amd){\n",
              "   // require.js is available: use it to load d3/LDAvis\n",
              "   require.config({paths: {d3: \"https://d3js.org/d3.v5\"}});\n",
              "   require([\"d3\"], function(d3){\n",
              "      window.d3 = d3;\n",
              "      LDAvis_load_lib(\"https://cdn.jsdelivr.net/gh/bmabey/pyLDAvis@3.4.0/pyLDAvis/js/ldavis.v3.0.0.js\", function(){\n",
              "        new LDAvis(\"#\" + \"ldavis_el5291400309453093286794382085\", ldavis_el5291400309453093286794382085_data);\n",
              "      });\n",
              "    });\n",
              "}else{\n",
              "    // require.js not available: dynamically load d3 & LDAvis\n",
              "    LDAvis_load_lib(\"https://d3js.org/d3.v5.js\", function(){\n",
              "         LDAvis_load_lib(\"https://cdn.jsdelivr.net/gh/bmabey/pyLDAvis@3.4.0/pyLDAvis/js/ldavis.v3.0.0.js\", function(){\n",
              "                 new LDAvis(\"#\" + \"ldavis_el5291400309453093286794382085\", ldavis_el5291400309453093286794382085_data);\n",
              "            })\n",
              "         });\n",
              "}\n",
              "</script>"
            ]
          },
          "metadata": {},
          "execution_count": 38
        }
      ],
      "source": [
        "# Visualize the topics\n",
        "pyLDAvis.enable_notebook()\n",
        "vis = pyLDAvis.gensim.prepare(optimal_model, doc_term_matrix, dictionary)\n",
        "vis"
      ]
    },
    {
      "cell_type": "markdown",
      "source": [
        "# TOPIC MODELING FOR EACH THERAPIST REVIEWS"
      ],
      "metadata": {
        "id": "tSLpKInF0Oao"
      }
    },
    {
      "cell_type": "code",
      "source": [
        "!pip install pyLDAvis"
      ],
      "metadata": {
        "colab": {
          "base_uri": "https://localhost:8080/",
          "height": 840
        },
        "id": "VcLYA02O_Eor",
        "outputId": "0f6860f7-3457-48ad-ff93-a6ae8827c443"
      },
      "execution_count": null,
      "outputs": [
        {
          "output_type": "stream",
          "name": "stdout",
          "text": [
            "Looking in indexes: https://pypi.org/simple, https://us-python.pkg.dev/colab-wheels/public/simple/\n",
            "Collecting pyLDAvis\n",
            "  Downloading pyLDAvis-3.4.1-py3-none-any.whl (2.6 MB)\n",
            "\u001b[2K     \u001b[90m━━━━━━━━━━━━━━━━━━━━━━━━━━━━━━━━━━━━━━━━\u001b[0m \u001b[32m2.6/2.6 MB\u001b[0m \u001b[31m66.0 MB/s\u001b[0m eta \u001b[36m0:00:00\u001b[0m\n",
            "\u001b[?25hCollecting numpy>=1.24.2 (from pyLDAvis)\n",
            "  Downloading numpy-1.24.3-cp310-cp310-manylinux_2_17_x86_64.manylinux2014_x86_64.whl (17.3 MB)\n",
            "\u001b[2K     \u001b[90m━━━━━━━━━━━━━━━━━━━━━━━━━━━━━━━━━━━━━━━━\u001b[0m \u001b[32m17.3/17.3 MB\u001b[0m \u001b[31m93.1 MB/s\u001b[0m eta \u001b[36m0:00:00\u001b[0m\n",
            "\u001b[?25hRequirement already satisfied: scipy in /usr/local/lib/python3.10/dist-packages (from pyLDAvis) (1.10.1)\n",
            "Collecting pandas>=2.0.0 (from pyLDAvis)\n",
            "  Downloading pandas-2.0.2-cp310-cp310-manylinux_2_17_x86_64.manylinux2014_x86_64.whl (12.3 MB)\n",
            "\u001b[2K     \u001b[90m━━━━━━━━━━━━━━━━━━━━━━━━━━━━━━━━━━━━━━━\u001b[0m \u001b[32m12.3/12.3 MB\u001b[0m \u001b[31m113.4 MB/s\u001b[0m eta \u001b[36m0:00:00\u001b[0m\n",
            "\u001b[?25hRequirement already satisfied: joblib>=1.2.0 in /usr/local/lib/python3.10/dist-packages (from pyLDAvis) (1.2.0)\n",
            "Requirement already satisfied: jinja2 in /usr/local/lib/python3.10/dist-packages (from pyLDAvis) (3.1.2)\n",
            "Requirement already satisfied: numexpr in /usr/local/lib/python3.10/dist-packages (from pyLDAvis) (2.8.4)\n",
            "Collecting funcy (from pyLDAvis)\n",
            "  Downloading funcy-2.0-py2.py3-none-any.whl (30 kB)\n",
            "Requirement already satisfied: scikit-learn>=1.0.0 in /usr/local/lib/python3.10/dist-packages (from pyLDAvis) (1.2.2)\n",
            "Requirement already satisfied: gensim in /usr/local/lib/python3.10/dist-packages (from pyLDAvis) (4.3.1)\n",
            "Requirement already satisfied: setuptools in /usr/local/lib/python3.10/dist-packages (from pyLDAvis) (67.7.2)\n",
            "Requirement already satisfied: python-dateutil>=2.8.2 in /usr/local/lib/python3.10/dist-packages (from pandas>=2.0.0->pyLDAvis) (2.8.2)\n",
            "Requirement already satisfied: pytz>=2020.1 in /usr/local/lib/python3.10/dist-packages (from pandas>=2.0.0->pyLDAvis) (2022.7.1)\n",
            "Requirement already satisfied: tzdata>=2022.1 in /usr/local/lib/python3.10/dist-packages (from pandas>=2.0.0->pyLDAvis) (2023.3)\n",
            "Requirement already satisfied: threadpoolctl>=2.0.0 in /usr/local/lib/python3.10/dist-packages (from scikit-learn>=1.0.0->pyLDAvis) (3.1.0)\n",
            "Requirement already satisfied: smart-open>=1.8.1 in /usr/local/lib/python3.10/dist-packages (from gensim->pyLDAvis) (6.3.0)\n",
            "Requirement already satisfied: MarkupSafe>=2.0 in /usr/local/lib/python3.10/dist-packages (from jinja2->pyLDAvis) (2.1.2)\n",
            "Requirement already satisfied: six>=1.5 in /usr/local/lib/python3.10/dist-packages (from python-dateutil>=2.8.2->pandas>=2.0.0->pyLDAvis) (1.16.0)\n",
            "Installing collected packages: funcy, numpy, pandas, pyLDAvis\n",
            "  Attempting uninstall: numpy\n",
            "    Found existing installation: numpy 1.22.4\n",
            "    Uninstalling numpy-1.22.4:\n",
            "      Successfully uninstalled numpy-1.22.4\n",
            "  Attempting uninstall: pandas\n",
            "    Found existing installation: pandas 1.5.3\n",
            "    Uninstalling pandas-1.5.3:\n",
            "      Successfully uninstalled pandas-1.5.3\n",
            "\u001b[31mERROR: pip's dependency resolver does not currently take into account all the packages that are installed. This behaviour is the source of the following dependency conflicts.\n",
            "google-colab 1.0.0 requires pandas==1.5.3, but you have pandas 2.0.2 which is incompatible.\n",
            "numba 0.56.4 requires numpy<1.24,>=1.18, but you have numpy 1.24.3 which is incompatible.\n",
            "tensorflow 2.12.0 requires numpy<1.24,>=1.22, but you have numpy 1.24.3 which is incompatible.\u001b[0m\u001b[31m\n",
            "\u001b[0mSuccessfully installed funcy-2.0 numpy-1.24.3 pandas-2.0.2 pyLDAvis-3.4.1\n"
          ]
        },
        {
          "output_type": "display_data",
          "data": {
            "application/vnd.colab-display-data+json": {
              "pip_warning": {
                "packages": [
                  "numpy",
                  "pandas"
                ]
              }
            }
          },
          "metadata": {}
        }
      ]
    },
    {
      "cell_type": "code",
      "source": [
        "import pandas as pd\n",
        "\n",
        "review_data = pd.read_csv('done.csv')\n",
        "df1 = pd.read_csv('save.csv')"
      ],
      "metadata": {
        "id": "tyw5vDi50NgM"
      },
      "execution_count": null,
      "outputs": []
    },
    {
      "cell_type": "code",
      "source": [
        "review_data"
      ],
      "metadata": {
        "colab": {
          "base_uri": "https://localhost:8080/",
          "height": 171
        },
        "id": "be75Ogow7LBE",
        "outputId": "8fcf488f-aa6a-4ccc-ef6a-b798642904d7"
      },
      "execution_count": null,
      "outputs": [
        {
          "output_type": "error",
          "ename": "NameError",
          "evalue": "ignored",
          "traceback": [
            "\u001b[0;31m---------------------------------------------------------------------------\u001b[0m",
            "\u001b[0;31mNameError\u001b[0m                                 Traceback (most recent call last)",
            "\u001b[0;32m<ipython-input-6-c40a7b833ff1>\u001b[0m in \u001b[0;36m<cell line: 1>\u001b[0;34m()\u001b[0m\n\u001b[0;32m----> 1\u001b[0;31m \u001b[0mreview_data\u001b[0m\u001b[0;34m\u001b[0m\u001b[0;34m\u001b[0m\u001b[0m\n\u001b[0m",
            "\u001b[0;31mNameError\u001b[0m: name 'review_data' is not defined"
          ]
        }
      ]
    },
    {
      "cell_type": "code",
      "source": [
        "df1"
      ],
      "metadata": {
        "colab": {
          "base_uri": "https://localhost:8080/",
          "height": 424
        },
        "id": "ipJv1PX47N8j",
        "outputId": "47ea2124-3d19-49ba-fd8d-debf1a95f291"
      },
      "execution_count": null,
      "outputs": [
        {
          "output_type": "execute_result",
          "data": {
            "text/plain": [
              "       Unnamed: 0                  Name      0        1        2        3  \\\n",
              "0               0       Karen Armstrong   3404   3405.0   3406.0   3407.0   \n",
              "1               1           Velma Jones  52107  52108.0  52109.0  52110.0   \n",
              "2               2           Jay Swedlaw   8006   8007.0   8008.0   8009.0   \n",
              "3               3     Dr. Terri  Sawyer  62193  62194.0  62195.0  62196.0   \n",
              "4               4  Dr. Courtney Liggera  59880  59881.0  59882.0  59883.0   \n",
              "...           ...                   ...    ...      ...      ...      ...   \n",
              "13553       13553        Susan Jacobsen  49847      NaN      NaN      NaN   \n",
              "13554       13554        Leesa Starrett  91559      NaN      NaN      NaN   \n",
              "13555       13555         Dwayne Jacobs  49685      NaN      NaN      NaN   \n",
              "13556       13556        Jordan Jackson  49678      NaN      NaN      NaN   \n",
              "13557       13557     Dr. Danny Meadows      0      NaN      NaN      NaN   \n",
              "\n",
              "             4        5        6        7  ...     260     261     262  \\\n",
              "0       3408.0   3409.0   3410.0   3411.0  ...  3664.0  3665.0  3666.0   \n",
              "1      52111.0  52112.0  52113.0  52114.0  ...     NaN     NaN     NaN   \n",
              "2       8010.0   8011.0   8012.0   8013.0  ...     NaN     NaN     NaN   \n",
              "3      62197.0  62198.0  62199.0  62200.0  ...     NaN     NaN     NaN   \n",
              "4      59884.0  59885.0  59886.0  59887.0  ...     NaN     NaN     NaN   \n",
              "...        ...      ...      ...      ...  ...     ...     ...     ...   \n",
              "13553      NaN      NaN      NaN      NaN  ...     NaN     NaN     NaN   \n",
              "13554      NaN      NaN      NaN      NaN  ...     NaN     NaN     NaN   \n",
              "13555      NaN      NaN      NaN      NaN  ...     NaN     NaN     NaN   \n",
              "13556      NaN      NaN      NaN      NaN  ...     NaN     NaN     NaN   \n",
              "13557      NaN      NaN      NaN      NaN  ...     NaN     NaN     NaN   \n",
              "\n",
              "          263     264     265     266     267     268     269  \n",
              "0      3667.0  3668.0  3669.0  3670.0  3671.0  3672.0  3673.0  \n",
              "1         NaN     NaN     NaN     NaN     NaN     NaN     NaN  \n",
              "2         NaN     NaN     NaN     NaN     NaN     NaN     NaN  \n",
              "3         NaN     NaN     NaN     NaN     NaN     NaN     NaN  \n",
              "4         NaN     NaN     NaN     NaN     NaN     NaN     NaN  \n",
              "...       ...     ...     ...     ...     ...     ...     ...  \n",
              "13553     NaN     NaN     NaN     NaN     NaN     NaN     NaN  \n",
              "13554     NaN     NaN     NaN     NaN     NaN     NaN     NaN  \n",
              "13555     NaN     NaN     NaN     NaN     NaN     NaN     NaN  \n",
              "13556     NaN     NaN     NaN     NaN     NaN     NaN     NaN  \n",
              "13557     NaN     NaN     NaN     NaN     NaN     NaN     NaN  \n",
              "\n",
              "[13558 rows x 272 columns]"
            ],
            "text/html": [
              "\n",
              "  <div id=\"df-1066e7c0-7ffe-4a2b-92f2-747ca1756f65\">\n",
              "    <div class=\"colab-df-container\">\n",
              "      <div>\n",
              "<style scoped>\n",
              "    .dataframe tbody tr th:only-of-type {\n",
              "        vertical-align: middle;\n",
              "    }\n",
              "\n",
              "    .dataframe tbody tr th {\n",
              "        vertical-align: top;\n",
              "    }\n",
              "\n",
              "    .dataframe thead th {\n",
              "        text-align: right;\n",
              "    }\n",
              "</style>\n",
              "<table border=\"1\" class=\"dataframe\">\n",
              "  <thead>\n",
              "    <tr style=\"text-align: right;\">\n",
              "      <th></th>\n",
              "      <th>Unnamed: 0</th>\n",
              "      <th>Name</th>\n",
              "      <th>0</th>\n",
              "      <th>1</th>\n",
              "      <th>2</th>\n",
              "      <th>3</th>\n",
              "      <th>4</th>\n",
              "      <th>5</th>\n",
              "      <th>6</th>\n",
              "      <th>7</th>\n",
              "      <th>...</th>\n",
              "      <th>260</th>\n",
              "      <th>261</th>\n",
              "      <th>262</th>\n",
              "      <th>263</th>\n",
              "      <th>264</th>\n",
              "      <th>265</th>\n",
              "      <th>266</th>\n",
              "      <th>267</th>\n",
              "      <th>268</th>\n",
              "      <th>269</th>\n",
              "    </tr>\n",
              "  </thead>\n",
              "  <tbody>\n",
              "    <tr>\n",
              "      <th>0</th>\n",
              "      <td>0</td>\n",
              "      <td>Karen Armstrong</td>\n",
              "      <td>3404</td>\n",
              "      <td>3405.0</td>\n",
              "      <td>3406.0</td>\n",
              "      <td>3407.0</td>\n",
              "      <td>3408.0</td>\n",
              "      <td>3409.0</td>\n",
              "      <td>3410.0</td>\n",
              "      <td>3411.0</td>\n",
              "      <td>...</td>\n",
              "      <td>3664.0</td>\n",
              "      <td>3665.0</td>\n",
              "      <td>3666.0</td>\n",
              "      <td>3667.0</td>\n",
              "      <td>3668.0</td>\n",
              "      <td>3669.0</td>\n",
              "      <td>3670.0</td>\n",
              "      <td>3671.0</td>\n",
              "      <td>3672.0</td>\n",
              "      <td>3673.0</td>\n",
              "    </tr>\n",
              "    <tr>\n",
              "      <th>1</th>\n",
              "      <td>1</td>\n",
              "      <td>Velma Jones</td>\n",
              "      <td>52107</td>\n",
              "      <td>52108.0</td>\n",
              "      <td>52109.0</td>\n",
              "      <td>52110.0</td>\n",
              "      <td>52111.0</td>\n",
              "      <td>52112.0</td>\n",
              "      <td>52113.0</td>\n",
              "      <td>52114.0</td>\n",
              "      <td>...</td>\n",
              "      <td>NaN</td>\n",
              "      <td>NaN</td>\n",
              "      <td>NaN</td>\n",
              "      <td>NaN</td>\n",
              "      <td>NaN</td>\n",
              "      <td>NaN</td>\n",
              "      <td>NaN</td>\n",
              "      <td>NaN</td>\n",
              "      <td>NaN</td>\n",
              "      <td>NaN</td>\n",
              "    </tr>\n",
              "    <tr>\n",
              "      <th>2</th>\n",
              "      <td>2</td>\n",
              "      <td>Jay Swedlaw</td>\n",
              "      <td>8006</td>\n",
              "      <td>8007.0</td>\n",
              "      <td>8008.0</td>\n",
              "      <td>8009.0</td>\n",
              "      <td>8010.0</td>\n",
              "      <td>8011.0</td>\n",
              "      <td>8012.0</td>\n",
              "      <td>8013.0</td>\n",
              "      <td>...</td>\n",
              "      <td>NaN</td>\n",
              "      <td>NaN</td>\n",
              "      <td>NaN</td>\n",
              "      <td>NaN</td>\n",
              "      <td>NaN</td>\n",
              "      <td>NaN</td>\n",
              "      <td>NaN</td>\n",
              "      <td>NaN</td>\n",
              "      <td>NaN</td>\n",
              "      <td>NaN</td>\n",
              "    </tr>\n",
              "    <tr>\n",
              "      <th>3</th>\n",
              "      <td>3</td>\n",
              "      <td>Dr. Terri  Sawyer</td>\n",
              "      <td>62193</td>\n",
              "      <td>62194.0</td>\n",
              "      <td>62195.0</td>\n",
              "      <td>62196.0</td>\n",
              "      <td>62197.0</td>\n",
              "      <td>62198.0</td>\n",
              "      <td>62199.0</td>\n",
              "      <td>62200.0</td>\n",
              "      <td>...</td>\n",
              "      <td>NaN</td>\n",
              "      <td>NaN</td>\n",
              "      <td>NaN</td>\n",
              "      <td>NaN</td>\n",
              "      <td>NaN</td>\n",
              "      <td>NaN</td>\n",
              "      <td>NaN</td>\n",
              "      <td>NaN</td>\n",
              "      <td>NaN</td>\n",
              "      <td>NaN</td>\n",
              "    </tr>\n",
              "    <tr>\n",
              "      <th>4</th>\n",
              "      <td>4</td>\n",
              "      <td>Dr. Courtney Liggera</td>\n",
              "      <td>59880</td>\n",
              "      <td>59881.0</td>\n",
              "      <td>59882.0</td>\n",
              "      <td>59883.0</td>\n",
              "      <td>59884.0</td>\n",
              "      <td>59885.0</td>\n",
              "      <td>59886.0</td>\n",
              "      <td>59887.0</td>\n",
              "      <td>...</td>\n",
              "      <td>NaN</td>\n",
              "      <td>NaN</td>\n",
              "      <td>NaN</td>\n",
              "      <td>NaN</td>\n",
              "      <td>NaN</td>\n",
              "      <td>NaN</td>\n",
              "      <td>NaN</td>\n",
              "      <td>NaN</td>\n",
              "      <td>NaN</td>\n",
              "      <td>NaN</td>\n",
              "    </tr>\n",
              "    <tr>\n",
              "      <th>...</th>\n",
              "      <td>...</td>\n",
              "      <td>...</td>\n",
              "      <td>...</td>\n",
              "      <td>...</td>\n",
              "      <td>...</td>\n",
              "      <td>...</td>\n",
              "      <td>...</td>\n",
              "      <td>...</td>\n",
              "      <td>...</td>\n",
              "      <td>...</td>\n",
              "      <td>...</td>\n",
              "      <td>...</td>\n",
              "      <td>...</td>\n",
              "      <td>...</td>\n",
              "      <td>...</td>\n",
              "      <td>...</td>\n",
              "      <td>...</td>\n",
              "      <td>...</td>\n",
              "      <td>...</td>\n",
              "      <td>...</td>\n",
              "      <td>...</td>\n",
              "    </tr>\n",
              "    <tr>\n",
              "      <th>13553</th>\n",
              "      <td>13553</td>\n",
              "      <td>Susan Jacobsen</td>\n",
              "      <td>49847</td>\n",
              "      <td>NaN</td>\n",
              "      <td>NaN</td>\n",
              "      <td>NaN</td>\n",
              "      <td>NaN</td>\n",
              "      <td>NaN</td>\n",
              "      <td>NaN</td>\n",
              "      <td>NaN</td>\n",
              "      <td>...</td>\n",
              "      <td>NaN</td>\n",
              "      <td>NaN</td>\n",
              "      <td>NaN</td>\n",
              "      <td>NaN</td>\n",
              "      <td>NaN</td>\n",
              "      <td>NaN</td>\n",
              "      <td>NaN</td>\n",
              "      <td>NaN</td>\n",
              "      <td>NaN</td>\n",
              "      <td>NaN</td>\n",
              "    </tr>\n",
              "    <tr>\n",
              "      <th>13554</th>\n",
              "      <td>13554</td>\n",
              "      <td>Leesa Starrett</td>\n",
              "      <td>91559</td>\n",
              "      <td>NaN</td>\n",
              "      <td>NaN</td>\n",
              "      <td>NaN</td>\n",
              "      <td>NaN</td>\n",
              "      <td>NaN</td>\n",
              "      <td>NaN</td>\n",
              "      <td>NaN</td>\n",
              "      <td>...</td>\n",
              "      <td>NaN</td>\n",
              "      <td>NaN</td>\n",
              "      <td>NaN</td>\n",
              "      <td>NaN</td>\n",
              "      <td>NaN</td>\n",
              "      <td>NaN</td>\n",
              "      <td>NaN</td>\n",
              "      <td>NaN</td>\n",
              "      <td>NaN</td>\n",
              "      <td>NaN</td>\n",
              "    </tr>\n",
              "    <tr>\n",
              "      <th>13555</th>\n",
              "      <td>13555</td>\n",
              "      <td>Dwayne Jacobs</td>\n",
              "      <td>49685</td>\n",
              "      <td>NaN</td>\n",
              "      <td>NaN</td>\n",
              "      <td>NaN</td>\n",
              "      <td>NaN</td>\n",
              "      <td>NaN</td>\n",
              "      <td>NaN</td>\n",
              "      <td>NaN</td>\n",
              "      <td>...</td>\n",
              "      <td>NaN</td>\n",
              "      <td>NaN</td>\n",
              "      <td>NaN</td>\n",
              "      <td>NaN</td>\n",
              "      <td>NaN</td>\n",
              "      <td>NaN</td>\n",
              "      <td>NaN</td>\n",
              "      <td>NaN</td>\n",
              "      <td>NaN</td>\n",
              "      <td>NaN</td>\n",
              "    </tr>\n",
              "    <tr>\n",
              "      <th>13556</th>\n",
              "      <td>13556</td>\n",
              "      <td>Jordan Jackson</td>\n",
              "      <td>49678</td>\n",
              "      <td>NaN</td>\n",
              "      <td>NaN</td>\n",
              "      <td>NaN</td>\n",
              "      <td>NaN</td>\n",
              "      <td>NaN</td>\n",
              "      <td>NaN</td>\n",
              "      <td>NaN</td>\n",
              "      <td>...</td>\n",
              "      <td>NaN</td>\n",
              "      <td>NaN</td>\n",
              "      <td>NaN</td>\n",
              "      <td>NaN</td>\n",
              "      <td>NaN</td>\n",
              "      <td>NaN</td>\n",
              "      <td>NaN</td>\n",
              "      <td>NaN</td>\n",
              "      <td>NaN</td>\n",
              "      <td>NaN</td>\n",
              "    </tr>\n",
              "    <tr>\n",
              "      <th>13557</th>\n",
              "      <td>13557</td>\n",
              "      <td>Dr. Danny Meadows</td>\n",
              "      <td>0</td>\n",
              "      <td>NaN</td>\n",
              "      <td>NaN</td>\n",
              "      <td>NaN</td>\n",
              "      <td>NaN</td>\n",
              "      <td>NaN</td>\n",
              "      <td>NaN</td>\n",
              "      <td>NaN</td>\n",
              "      <td>...</td>\n",
              "      <td>NaN</td>\n",
              "      <td>NaN</td>\n",
              "      <td>NaN</td>\n",
              "      <td>NaN</td>\n",
              "      <td>NaN</td>\n",
              "      <td>NaN</td>\n",
              "      <td>NaN</td>\n",
              "      <td>NaN</td>\n",
              "      <td>NaN</td>\n",
              "      <td>NaN</td>\n",
              "    </tr>\n",
              "  </tbody>\n",
              "</table>\n",
              "<p>13558 rows × 272 columns</p>\n",
              "</div>\n",
              "      <button class=\"colab-df-convert\" onclick=\"convertToInteractive('df-1066e7c0-7ffe-4a2b-92f2-747ca1756f65')\"\n",
              "              title=\"Convert this dataframe to an interactive table.\"\n",
              "              style=\"display:none;\">\n",
              "        \n",
              "  <svg xmlns=\"http://www.w3.org/2000/svg\" height=\"24px\"viewBox=\"0 0 24 24\"\n",
              "       width=\"24px\">\n",
              "    <path d=\"M0 0h24v24H0V0z\" fill=\"none\"/>\n",
              "    <path d=\"M18.56 5.44l.94 2.06.94-2.06 2.06-.94-2.06-.94-.94-2.06-.94 2.06-2.06.94zm-11 1L8.5 8.5l.94-2.06 2.06-.94-2.06-.94L8.5 2.5l-.94 2.06-2.06.94zm10 10l.94 2.06.94-2.06 2.06-.94-2.06-.94-.94-2.06-.94 2.06-2.06.94z\"/><path d=\"M17.41 7.96l-1.37-1.37c-.4-.4-.92-.59-1.43-.59-.52 0-1.04.2-1.43.59L10.3 9.45l-7.72 7.72c-.78.78-.78 2.05 0 2.83L4 21.41c.39.39.9.59 1.41.59.51 0 1.02-.2 1.41-.59l7.78-7.78 2.81-2.81c.8-.78.8-2.07 0-2.86zM5.41 20L4 18.59l7.72-7.72 1.47 1.35L5.41 20z\"/>\n",
              "  </svg>\n",
              "      </button>\n",
              "      \n",
              "  <style>\n",
              "    .colab-df-container {\n",
              "      display:flex;\n",
              "      flex-wrap:wrap;\n",
              "      gap: 12px;\n",
              "    }\n",
              "\n",
              "    .colab-df-convert {\n",
              "      background-color: #E8F0FE;\n",
              "      border: none;\n",
              "      border-radius: 50%;\n",
              "      cursor: pointer;\n",
              "      display: none;\n",
              "      fill: #1967D2;\n",
              "      height: 32px;\n",
              "      padding: 0 0 0 0;\n",
              "      width: 32px;\n",
              "    }\n",
              "\n",
              "    .colab-df-convert:hover {\n",
              "      background-color: #E2EBFA;\n",
              "      box-shadow: 0px 1px 2px rgba(60, 64, 67, 0.3), 0px 1px 3px 1px rgba(60, 64, 67, 0.15);\n",
              "      fill: #174EA6;\n",
              "    }\n",
              "\n",
              "    [theme=dark] .colab-df-convert {\n",
              "      background-color: #3B4455;\n",
              "      fill: #D2E3FC;\n",
              "    }\n",
              "\n",
              "    [theme=dark] .colab-df-convert:hover {\n",
              "      background-color: #434B5C;\n",
              "      box-shadow: 0px 1px 3px 1px rgba(0, 0, 0, 0.15);\n",
              "      filter: drop-shadow(0px 1px 2px rgba(0, 0, 0, 0.3));\n",
              "      fill: #FFFFFF;\n",
              "    }\n",
              "  </style>\n",
              "\n",
              "      <script>\n",
              "        const buttonEl =\n",
              "          document.querySelector('#df-1066e7c0-7ffe-4a2b-92f2-747ca1756f65 button.colab-df-convert');\n",
              "        buttonEl.style.display =\n",
              "          google.colab.kernel.accessAllowed ? 'block' : 'none';\n",
              "\n",
              "        async function convertToInteractive(key) {\n",
              "          const element = document.querySelector('#df-1066e7c0-7ffe-4a2b-92f2-747ca1756f65');\n",
              "          const dataTable =\n",
              "            await google.colab.kernel.invokeFunction('convertToInteractive',\n",
              "                                                     [key], {});\n",
              "          if (!dataTable) return;\n",
              "\n",
              "          const docLinkHtml = 'Like what you see? Visit the ' +\n",
              "            '<a target=\"_blank\" href=https://colab.research.google.com/notebooks/data_table.ipynb>data table notebook</a>'\n",
              "            + ' to learn more about interactive tables.';\n",
              "          element.innerHTML = '';\n",
              "          dataTable['output_type'] = 'display_data';\n",
              "          await google.colab.output.renderOutput(dataTable, element);\n",
              "          const docLink = document.createElement('div');\n",
              "          docLink.innerHTML = docLinkHtml;\n",
              "          element.appendChild(docLink);\n",
              "        }\n",
              "      </script>\n",
              "    </div>\n",
              "  </div>\n",
              "  "
            ]
          },
          "metadata": {},
          "execution_count": 3
        }
      ]
    },
    {
      "cell_type": "code",
      "source": [
        "import gensim"
      ],
      "metadata": {
        "id": "3bopKdfX-xx9"
      },
      "execution_count": null,
      "outputs": []
    }
  ],
  "metadata": {
    "kernelspec": {
      "display_name": "Python 3",
      "name": "python3"
    },
    "language_info": {
      "codemirror_mode": {
        "name": "ipython",
        "version": 3
      },
      "file_extension": ".py",
      "mimetype": "text/x-python",
      "name": "python",
      "nbconvert_exporter": "python",
      "pygments_lexer": "ipython3",
      "version": "3.6.10"
    },
    "colab": {
      "provenance": [],
      "gpuType": "T4"
    },
    "accelerator": "GPU"
  },
  "nbformat": 4,
  "nbformat_minor": 0
}